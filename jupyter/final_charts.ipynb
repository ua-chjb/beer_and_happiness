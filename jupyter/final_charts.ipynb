{
 "cells": [
  {
   "cell_type": "code",
   "execution_count": 1,
   "id": "ded2777a-a3b2-48b8-8043-12bc2675062c",
   "metadata": {},
   "outputs": [],
   "source": [
    "import pandas as pd\n",
    "import numpy as np"
   ]
  },
  {
   "cell_type": "code",
   "execution_count": 18,
   "id": "7428eb6e-3b72-4548-aa1e-3c2731e5e2a3",
   "metadata": {},
   "outputs": [],
   "source": [
    "beer = pd.read_csv(r\"https://raw.githubusercontent.com/ua-chjb/beer_and_happiness/refs/heads/main/assets/data/beer_sum.csv\")\n",
    "\n",
    "dem = pd.read_csv(r\"https://raw.githubusercontent.com/ua-chjb/beer_and_happiness/refs/heads/main/assets/data/dem_sum.csv\")\n",
    "\n",
    "pop = pd.read_csv(r\"https://raw.githubusercontent.com/ua-chjb/beer_and_happiness/refs/heads/main/assets/data/pop_sum.csv\")"
   ]
  },
  {
   "cell_type": "code",
   "execution_count": 19,
   "id": "86314963-e98f-4ee6-be86-439862122272",
   "metadata": {},
   "outputs": [
    {
     "data": {
      "text/html": [
       "<div>\n",
       "<style scoped>\n",
       "    .dataframe tbody tr th:only-of-type {\n",
       "        vertical-align: middle;\n",
       "    }\n",
       "\n",
       "    .dataframe tbody tr th {\n",
       "        vertical-align: top;\n",
       "    }\n",
       "\n",
       "    .dataframe thead th {\n",
       "        text-align: right;\n",
       "    }\n",
       "</style>\n",
       "<table border=\"1\" class=\"dataframe\">\n",
       "  <thead>\n",
       "    <tr style=\"text-align: right;\">\n",
       "      <th></th>\n",
       "      <th>2008</th>\n",
       "      <th>2009</th>\n",
       "      <th>2010</th>\n",
       "      <th>2011</th>\n",
       "      <th>2012</th>\n",
       "      <th>2013</th>\n",
       "      <th>2014</th>\n",
       "      <th>2015</th>\n",
       "      <th>2016</th>\n",
       "      <th>2017</th>\n",
       "      <th>2018</th>\n",
       "    </tr>\n",
       "    <tr>\n",
       "      <th>Country</th>\n",
       "      <th></th>\n",
       "      <th></th>\n",
       "      <th></th>\n",
       "      <th></th>\n",
       "      <th></th>\n",
       "      <th></th>\n",
       "      <th></th>\n",
       "      <th></th>\n",
       "      <th></th>\n",
       "      <th></th>\n",
       "      <th></th>\n",
       "    </tr>\n",
       "  </thead>\n",
       "  <tbody>\n",
       "    <tr>\n",
       "      <th>Afghanistan</th>\n",
       "      <td>0.00857</td>\n",
       "      <td>0.00972</td>\n",
       "      <td>0.01</td>\n",
       "      <td>0.00</td>\n",
       "      <td>0.00</td>\n",
       "      <td>0.00</td>\n",
       "      <td>0.00</td>\n",
       "      <td>0.00</td>\n",
       "      <td>0.00</td>\n",
       "      <td>0.00</td>\n",
       "      <td>0.00</td>\n",
       "    </tr>\n",
       "    <tr>\n",
       "      <th>Albania</th>\n",
       "      <td>2.12835</td>\n",
       "      <td>2.20543</td>\n",
       "      <td>1.71</td>\n",
       "      <td>1.88</td>\n",
       "      <td>1.34</td>\n",
       "      <td>1.34</td>\n",
       "      <td>1.29</td>\n",
       "      <td>1.48</td>\n",
       "      <td>1.52</td>\n",
       "      <td>1.64</td>\n",
       "      <td>1.75</td>\n",
       "    </tr>\n",
       "    <tr>\n",
       "      <th>Algeria</th>\n",
       "      <td>0.20481</td>\n",
       "      <td>0.19895</td>\n",
       "      <td>0.18</td>\n",
       "      <td>0.21</td>\n",
       "      <td>0.23</td>\n",
       "      <td>0.26</td>\n",
       "      <td>0.28</td>\n",
       "      <td>0.31</td>\n",
       "      <td>0.32</td>\n",
       "      <td>0.30</td>\n",
       "      <td>0.31</td>\n",
       "    </tr>\n",
       "    <tr>\n",
       "      <th>Angola</th>\n",
       "      <td>3.26552</td>\n",
       "      <td>3.95114</td>\n",
       "      <td>4.23</td>\n",
       "      <td>4.43</td>\n",
       "      <td>4.59</td>\n",
       "      <td>4.46</td>\n",
       "      <td>4.50</td>\n",
       "      <td>3.25</td>\n",
       "      <td>3.39</td>\n",
       "      <td>3.65</td>\n",
       "      <td>3.78</td>\n",
       "    </tr>\n",
       "    <tr>\n",
       "      <th>Argentina</th>\n",
       "      <td>3.16000</td>\n",
       "      <td>3.23000</td>\n",
       "      <td>3.32</td>\n",
       "      <td>3.50</td>\n",
       "      <td>3.29</td>\n",
       "      <td>3.35</td>\n",
       "      <td>3.37</td>\n",
       "      <td>3.39</td>\n",
       "      <td>3.62</td>\n",
       "      <td>3.62</td>\n",
       "      <td>3.62</td>\n",
       "    </tr>\n",
       "  </tbody>\n",
       "</table>\n",
       "</div>"
      ],
      "text/plain": [
       "                2008     2009  2010  2011  2012  2013  2014  2015  2016  2017  \\\n",
       "Country                                                                         \n",
       "Afghanistan  0.00857  0.00972  0.01  0.00  0.00  0.00  0.00  0.00  0.00  0.00   \n",
       "Albania      2.12835  2.20543  1.71  1.88  1.34  1.34  1.29  1.48  1.52  1.64   \n",
       "Algeria      0.20481  0.19895  0.18  0.21  0.23  0.26  0.28  0.31  0.32  0.30   \n",
       "Angola       3.26552  3.95114  4.23  4.43  4.59  4.46  4.50  3.25  3.39  3.65   \n",
       "Argentina    3.16000  3.23000  3.32  3.50  3.29  3.35  3.37  3.39  3.62  3.62   \n",
       "\n",
       "             2018  \n",
       "Country            \n",
       "Afghanistan  0.00  \n",
       "Albania      1.75  \n",
       "Algeria      0.31  \n",
       "Angola       3.78  \n",
       "Argentina    3.62  "
      ]
     },
     "execution_count": 19,
     "metadata": {},
     "output_type": "execute_result"
    }
   ],
   "source": [
    "beer = beer.rename(columns={\"Unnamed: 0\": \"Country\"})\n",
    "beer = beer.set_index(\"Country\")\n",
    "beer.columns = np.arange(2008, 2019)\n",
    "beer[:5]"
   ]
  },
  {
   "cell_type": "code",
   "execution_count": 20,
   "id": "5e7e931b-ed30-4d05-b691-2d5d6744edbf",
   "metadata": {},
   "outputs": [
    {
     "data": {
      "text/html": [
       "<div>\n",
       "<style scoped>\n",
       "    .dataframe tbody tr th:only-of-type {\n",
       "        vertical-align: middle;\n",
       "    }\n",
       "\n",
       "    .dataframe tbody tr th {\n",
       "        vertical-align: top;\n",
       "    }\n",
       "\n",
       "    .dataframe thead th {\n",
       "        text-align: right;\n",
       "    }\n",
       "</style>\n",
       "<table border=\"1\" class=\"dataframe\">\n",
       "  <thead>\n",
       "    <tr style=\"text-align: right;\">\n",
       "      <th></th>\n",
       "      <th>2008</th>\n",
       "      <th>2009</th>\n",
       "      <th>2010</th>\n",
       "      <th>2011</th>\n",
       "      <th>2012</th>\n",
       "      <th>2013</th>\n",
       "      <th>2014</th>\n",
       "      <th>2015</th>\n",
       "      <th>2016</th>\n",
       "      <th>2017</th>\n",
       "      <th>2018</th>\n",
       "    </tr>\n",
       "    <tr>\n",
       "      <th>Country</th>\n",
       "      <th></th>\n",
       "      <th></th>\n",
       "      <th></th>\n",
       "      <th></th>\n",
       "      <th></th>\n",
       "      <th></th>\n",
       "      <th></th>\n",
       "      <th></th>\n",
       "      <th></th>\n",
       "      <th></th>\n",
       "      <th></th>\n",
       "    </tr>\n",
       "  </thead>\n",
       "  <tbody>\n",
       "    <tr>\n",
       "      <th>Afghanistan</th>\n",
       "      <td>-1.929690</td>\n",
       "      <td>-2.044093</td>\n",
       "      <td>-1.991810</td>\n",
       "      <td>-1.919018</td>\n",
       "      <td>-1.842996</td>\n",
       "      <td>-1.879709</td>\n",
       "      <td>-1.773257</td>\n",
       "      <td>-1.844364</td>\n",
       "      <td>-1.855426</td>\n",
       "      <td>-1.886566</td>\n",
       "      <td>NaN</td>\n",
       "    </tr>\n",
       "    <tr>\n",
       "      <th>Albania</th>\n",
       "      <td>NaN</td>\n",
       "      <td>0.048114</td>\n",
       "      <td>-0.033831</td>\n",
       "      <td>-0.110023</td>\n",
       "      <td>-0.060784</td>\n",
       "      <td>0.070411</td>\n",
       "      <td>0.314873</td>\n",
       "      <td>0.251629</td>\n",
       "      <td>0.257292</td>\n",
       "      <td>0.299945</td>\n",
       "      <td>NaN</td>\n",
       "    </tr>\n",
       "    <tr>\n",
       "      <th>Algeria</th>\n",
       "      <td>NaN</td>\n",
       "      <td>NaN</td>\n",
       "      <td>-1.140853</td>\n",
       "      <td>-1.182341</td>\n",
       "      <td>-1.115535</td>\n",
       "      <td>NaN</td>\n",
       "      <td>-1.002867</td>\n",
       "      <td>NaN</td>\n",
       "      <td>-0.976652</td>\n",
       "      <td>-0.927691</td>\n",
       "      <td>NaN</td>\n",
       "    </tr>\n",
       "    <tr>\n",
       "      <th>Angola</th>\n",
       "      <td>NaN</td>\n",
       "      <td>NaN</td>\n",
       "      <td>NaN</td>\n",
       "      <td>-0.747358</td>\n",
       "      <td>-0.732785</td>\n",
       "      <td>-0.752538</td>\n",
       "      <td>-0.739363</td>\n",
       "      <td>NaN</td>\n",
       "      <td>NaN</td>\n",
       "      <td>NaN</td>\n",
       "      <td>NaN</td>\n",
       "    </tr>\n",
       "    <tr>\n",
       "      <th>Argentina</th>\n",
       "      <td>0.136837</td>\n",
       "      <td>0.023821</td>\n",
       "      <td>0.138446</td>\n",
       "      <td>0.251968</td>\n",
       "      <td>0.199125</td>\n",
       "      <td>0.171151</td>\n",
       "      <td>0.170099</td>\n",
       "      <td>0.213269</td>\n",
       "      <td>0.348582</td>\n",
       "      <td>0.351304</td>\n",
       "      <td>NaN</td>\n",
       "    </tr>\n",
       "  </tbody>\n",
       "</table>\n",
       "</div>"
      ],
      "text/plain": [
       "                 2008      2009      2010      2011      2012      2013  \\\n",
       "Country                                                                   \n",
       "Afghanistan -1.929690 -2.044093 -1.991810 -1.919018 -1.842996 -1.879709   \n",
       "Albania           NaN  0.048114 -0.033831 -0.110023 -0.060784  0.070411   \n",
       "Algeria           NaN       NaN -1.140853 -1.182341 -1.115535       NaN   \n",
       "Angola            NaN       NaN       NaN -0.747358 -0.732785 -0.752538   \n",
       "Argentina    0.136837  0.023821  0.138446  0.251968  0.199125  0.171151   \n",
       "\n",
       "                 2014      2015      2016      2017  2018  \n",
       "Country                                                    \n",
       "Afghanistan -1.773257 -1.844364 -1.855426 -1.886566   NaN  \n",
       "Albania      0.314873  0.251629  0.257292  0.299945   NaN  \n",
       "Algeria     -1.002867       NaN -0.976652 -0.927691   NaN  \n",
       "Angola      -0.739363       NaN       NaN       NaN   NaN  \n",
       "Argentina    0.170099  0.213269  0.348582  0.351304   NaN  "
      ]
     },
     "execution_count": 20,
     "metadata": {},
     "output_type": "execute_result"
    }
   ],
   "source": [
    "dem = dem.rename(columns={\"Unnamed: 0\": \"Country\"})\n",
    "dem = dem.set_index(\"Country\")\n",
    "dem.columns = np.arange(2008, 2019)\n",
    "dem[:5]"
   ]
  },
  {
   "cell_type": "code",
   "execution_count": 21,
   "id": "1abb7706-c8e3-472f-993a-e9ecd37ce8d1",
   "metadata": {},
   "outputs": [
    {
     "data": {
      "text/html": [
       "<div>\n",
       "<style scoped>\n",
       "    .dataframe tbody tr th:only-of-type {\n",
       "        vertical-align: middle;\n",
       "    }\n",
       "\n",
       "    .dataframe tbody tr th {\n",
       "        vertical-align: top;\n",
       "    }\n",
       "\n",
       "    .dataframe thead th {\n",
       "        text-align: right;\n",
       "    }\n",
       "</style>\n",
       "<table border=\"1\" class=\"dataframe\">\n",
       "  <thead>\n",
       "    <tr style=\"text-align: right;\">\n",
       "      <th></th>\n",
       "      <th>2008</th>\n",
       "      <th>2009</th>\n",
       "      <th>2010</th>\n",
       "      <th>2011</th>\n",
       "      <th>2012</th>\n",
       "      <th>2013</th>\n",
       "      <th>2014</th>\n",
       "      <th>2015</th>\n",
       "      <th>2016</th>\n",
       "      <th>2017</th>\n",
       "      <th>2018</th>\n",
       "    </tr>\n",
       "    <tr>\n",
       "      <th>Country</th>\n",
       "      <th></th>\n",
       "      <th></th>\n",
       "      <th></th>\n",
       "      <th></th>\n",
       "      <th></th>\n",
       "      <th></th>\n",
       "      <th></th>\n",
       "      <th></th>\n",
       "      <th></th>\n",
       "      <th></th>\n",
       "      <th></th>\n",
       "    </tr>\n",
       "  </thead>\n",
       "  <tbody>\n",
       "    <tr>\n",
       "      <th>Afghanistan</th>\n",
       "      <td>26427199.0</td>\n",
       "      <td>27385307.0</td>\n",
       "      <td>28189672.0</td>\n",
       "      <td>29249157.0</td>\n",
       "      <td>30466479.0</td>\n",
       "      <td>31541209.0</td>\n",
       "      <td>32716210.0</td>\n",
       "      <td>33753499.0</td>\n",
       "      <td>34636207.0</td>\n",
       "      <td>35643418.0</td>\n",
       "      <td>36686784.0</td>\n",
       "    </tr>\n",
       "    <tr>\n",
       "      <th>Albania</th>\n",
       "      <td>2947314.0</td>\n",
       "      <td>2927519.0</td>\n",
       "      <td>2913021.0</td>\n",
       "      <td>2905195.0</td>\n",
       "      <td>2900401.0</td>\n",
       "      <td>2895092.0</td>\n",
       "      <td>2889104.0</td>\n",
       "      <td>2880703.0</td>\n",
       "      <td>2876101.0</td>\n",
       "      <td>2873457.0</td>\n",
       "      <td>2866376.0</td>\n",
       "    </tr>\n",
       "    <tr>\n",
       "      <th>Algeria</th>\n",
       "      <td>34569592.0</td>\n",
       "      <td>35196037.0</td>\n",
       "      <td>35856344.0</td>\n",
       "      <td>36543541.0</td>\n",
       "      <td>37260563.0</td>\n",
       "      <td>38000626.0</td>\n",
       "      <td>38760168.0</td>\n",
       "      <td>39543154.0</td>\n",
       "      <td>40339329.0</td>\n",
       "      <td>41136546.0</td>\n",
       "      <td>41927007.0</td>\n",
       "    </tr>\n",
       "    <tr>\n",
       "      <th>Angola</th>\n",
       "      <td>21691522.0</td>\n",
       "      <td>22507674.0</td>\n",
       "      <td>23364185.0</td>\n",
       "      <td>24259111.0</td>\n",
       "      <td>25188292.0</td>\n",
       "      <td>26147002.0</td>\n",
       "      <td>27128337.0</td>\n",
       "      <td>28127721.0</td>\n",
       "      <td>29154746.0</td>\n",
       "      <td>30208628.0</td>\n",
       "      <td>31273533.0</td>\n",
       "    </tr>\n",
       "    <tr>\n",
       "      <th>Argentina</th>\n",
       "      <td>40273769.0</td>\n",
       "      <td>40684338.0</td>\n",
       "      <td>40788453.0</td>\n",
       "      <td>41261490.0</td>\n",
       "      <td>41733271.0</td>\n",
       "      <td>42202935.0</td>\n",
       "      <td>42669500.0</td>\n",
       "      <td>43131966.0</td>\n",
       "      <td>43590368.0</td>\n",
       "      <td>44044811.0</td>\n",
       "      <td>44494502.0</td>\n",
       "    </tr>\n",
       "  </tbody>\n",
       "</table>\n",
       "</div>"
      ],
      "text/plain": [
       "                   2008        2009        2010        2011        2012  \\\n",
       "Country                                                                   \n",
       "Afghanistan  26427199.0  27385307.0  28189672.0  29249157.0  30466479.0   \n",
       "Albania       2947314.0   2927519.0   2913021.0   2905195.0   2900401.0   \n",
       "Algeria      34569592.0  35196037.0  35856344.0  36543541.0  37260563.0   \n",
       "Angola       21691522.0  22507674.0  23364185.0  24259111.0  25188292.0   \n",
       "Argentina    40273769.0  40684338.0  40788453.0  41261490.0  41733271.0   \n",
       "\n",
       "                   2013        2014        2015        2016        2017  \\\n",
       "Country                                                                   \n",
       "Afghanistan  31541209.0  32716210.0  33753499.0  34636207.0  35643418.0   \n",
       "Albania       2895092.0   2889104.0   2880703.0   2876101.0   2873457.0   \n",
       "Algeria      38000626.0  38760168.0  39543154.0  40339329.0  41136546.0   \n",
       "Angola       26147002.0  27128337.0  28127721.0  29154746.0  30208628.0   \n",
       "Argentina    42202935.0  42669500.0  43131966.0  43590368.0  44044811.0   \n",
       "\n",
       "                   2018  \n",
       "Country                  \n",
       "Afghanistan  36686784.0  \n",
       "Albania       2866376.0  \n",
       "Algeria      41927007.0  \n",
       "Angola       31273533.0  \n",
       "Argentina    44494502.0  "
      ]
     },
     "execution_count": 21,
     "metadata": {},
     "output_type": "execute_result"
    }
   ],
   "source": [
    "pop = pop.rename(columns={\"Unnamed: 0\": \"Country\"})\n",
    "pop = pop.set_index(\"Country\")\n",
    "pop.columns = np.arange(2008, 2019)\n",
    "pop[:5]"
   ]
  },
  {
   "cell_type": "code",
   "execution_count": 97,
   "id": "6747140b-29f3-499a-8c22-a280456bf0a8",
   "metadata": {},
   "outputs": [],
   "source": [
    "paper_bgcolor=\"white\"\n",
    "plot_bgcolor=\"white\"\n",
    "font_color=\"black\"\n",
    "legend_color=\"white\"\n",
    "\n",
    "def layout_func(fig):\n",
    "    \n",
    "    fig.update_layout(\n",
    "        dict(\n",
    "            paper_bgcolor=paper_bgcolor,\n",
    "            plot_bgcolor=plot_bgcolor,\n",
    "            font={\"color\": font_color},\n",
    "            clickmode=\"select\",\n",
    "            legend={\"bgcolor\":legend_color,\n",
    "                    \"font\": {\"color\":font_color},\n",
    "                    \"title\":{\"font\":{\"color\":font_color}},\n",
    "                    },\n",
    "            # title=dict(\n",
    "                # font={\"size\": 28.5, \"color\": font_color},\n",
    "                # ),\n",
    "            # xaxis=dict(\n",
    "                # showgrid=False,\n",
    "                # zeroline=False\n",
    "            # ),\n",
    "            # yaxis=dict(\n",
    "                # showgrid=False,\n",
    "                # zeroline=False\n",
    "            # )\n",
    "        )\n",
    "    )\n",
    "\n",
    "    return fig"
   ]
  },
  {
   "cell_type": "code",
   "execution_count": 68,
   "id": "c26ed976-7401-4885-a653-fd218c8b875b",
   "metadata": {},
   "outputs": [
    {
     "data": {
      "application/vnd.plotly.v1+json": {
       "config": {
        "plotlyServerURL": "https://plot.ly"
       },
       "data": [
        {
         "coloraxis": "coloraxis",
         "hovertemplate": "x: %{x}<br>Country: %{y}<br>color: %{z}<extra></extra>",
         "name": "0",
         "type": "heatmap",
         "x": [
          2008,
          2009,
          2010,
          2011,
          2012,
          2013,
          2014,
          2015,
          2016,
          2017,
          2018
         ],
         "xaxis": "x",
         "y": [
          "Austria",
          "Poland",
          "Germany",
          "Gabon",
          "Panama",
          "Latvia",
          "Romania",
          "Ireland",
          "Estonia",
          "Lithuania",
          "Croatia",
          "Slovenia",
          "Spain",
          "Iceland",
          "Belgium",
          "Bulgaria",
          "Finland",
          "Netherlands",
          "United States",
          "Bosnia and Herzegovina",
          "Luxembourg",
          "Hungary",
          "South Africa",
          "Belize",
          "Brazil",
          "Cambodia",
          "Mexico",
          "Montenegro",
          "Australia",
          "Angola",
          "Argentina",
          "Canada",
          "Denmark",
          "United Kingdom",
          "New Zealand",
          "Suriname",
          "Paraguay",
          "Serbia",
          "Peru",
          "Switzerland",
          "Colombia",
          "Dominican Republic",
          "Botswana",
          "Trinidad and Tobago",
          "Cyprus",
          "Malta",
          "Chile",
          "Guyana",
          "Norway",
          "Portugal",
          "Sweden",
          "Ukraine",
          "Cameroon",
          "Costa Rica",
          "France",
          "Thailand",
          "Ecuador",
          "Bolivia",
          "Kazakhstan",
          "Belarus",
          "Greece",
          "Mongolia",
          "Average",
          "Uruguay",
          "Burundi",
          "Zimbabwe",
          "Italy",
          "Mauritius",
          "Cuba",
          "Lesotho",
          "China",
          "Israel",
          "Albania",
          "Nicaragua",
          "Georgia",
          "Moldova",
          "Honduras",
          "Japan",
          "Philippines",
          "El Salvador",
          "Namibia",
          "Singapore",
          "Jamaica",
          "Zambia",
          "Mozambique",
          "Tunisia",
          "Burkina Faso",
          "Guatemala",
          "Kenya",
          "Benin",
          "Uganda",
          "Ethiopia",
          "Tanzania",
          "Togo",
          "Nigeria",
          "Turkmenistan",
          "Central African Republic",
          "Haiti",
          "Madagascar",
          "Armenia",
          "Malaysia",
          "Ghana",
          "Myanmar",
          "Liberia",
          "Tajikistan",
          "Chad",
          "Bahrain",
          "Lebanon",
          "Azerbaijan",
          "Algeria",
          "Guinea",
          "Qatar",
          "United Arab Emirates",
          "India",
          "Sri Lanka",
          "Uzbekistan",
          "Nepal",
          "Rwanda",
          "Senegal",
          "Morocco",
          "Oman",
          "Sierra Leone",
          "Iraq",
          "Mali",
          "Malawi",
          "Djibouti",
          "Indonesia",
          "Jordan",
          "Comoros",
          "Niger",
          "Bhutan",
          "Bangladesh",
          "Afghanistan",
          "Libya",
          "Kuwait",
          "Pakistan",
          "Mauritania",
          "Somalia",
          "Saudi Arabia",
          "Sudan"
         ],
         "yaxis": "y",
         "z": [
          [
           6.36804,
           6.11278,
           6.1,
           6.1,
           6.3,
           6.1,
           6.2,
           6.1,
           6.1,
           6.1,
           6.1
          ],
          [
           5.59286,
           5.39005,
           5.32,
           5.56,
           5.84,
           5.74,
           5.8,
           5.82,
           5.84,
           5.78,
           5.9
          ],
          [
           6.35388,
           6.34122,
           6.21,
           6.01,
           6.01,
           5.88,
           5.88,
           5.88,
           5.77,
           5.66,
           5.67
          ],
          [
           5.90594,
           5.68578,
           5.6,
           5.35,
           5.29,
           5.56,
           6.41,
           6.37,
           5.86,
           5.63,
           5.31
          ],
          [
           3.86468,
           4.0371,
           4.1,
           4.21,
           4.27,
           4.43,
           4.79,
           5.36,
           5.13,
           5.4,
           5.29
          ],
          [
           4.119,
           4.34643,
           4.61,
           4.86,
           4.67,
           4.7,
           4.8,
           4.8,
           4.8,
           5.3,
           5.3
          ],
          [
           5.7447,
           5.18661,
           4.83,
           5,
           5.35,
           5.14,
           4.86,
           5.22,
           5.25,
           5.28,
           5.33
          ],
          [
           6.07408,
           5.59316,
           5.58,
           5.4,
           5.32,
           4.99,
           5.2,
           5.1,
           5.23,
           5.05,
           5.1
          ],
          [
           5.37419,
           5.07324,
           5.87,
           5.98,
           6.19,
           6.38,
           6.14,
           6,
           5.69,
           4.93,
           3.61
          ],
          [
           4.93228,
           4.95598,
           5.46,
           5.79,
           5.64,
           5.32,
           5.46,
           5.36,
           5.13,
           4.79,
           4.59
          ],
          [
           5.01515,
           4.74445,
           4.48,
           4.73,
           4.55,
           4.61,
           4.25,
           4.55,
           4.62,
           4.65,
           4.75
          ],
          [
           5.16,
           5.09,
           4.59,
           4.94,
           4.58,
           4.55,
           5.37,
           5.73,
           4.35,
           4.59,
           4.66
          ],
          [
           4.92,
           4.98,
           4.09,
           4.11,
           4.12,
           4.13,
           4.31,
           4.17,
           4.31,
           4.5,
           4.57
          ],
          [
           3.55,
           3.83,
           3.71,
           3.68,
           3.77,
           3.74,
           3.86,
           4.26,
           4.24,
           4.42,
           4.39
          ],
          [
           5.03741,
           4.9406,
           5.03,
           4.89,
           4.78,
           4.6,
           4.72,
           4.6,
           4.46,
           4.42,
           4.4
          ],
          [
           4.40436,
           4.01937,
           4,
           4.08,
           4.28,
           4.24,
           4.04,
           4.22,
           4.37,
           4.32,
           4.44
          ],
          [
           4.62,
           4.54,
           4.47,
           4.61,
           4.27,
           4.28,
           4.17,
           4.13,
           4.11,
           4.04,
           3.97
          ],
          [
           4.78653,
           4.42255,
           4.36,
           4.34,
           4.37,
           4.2,
           4.12,
           4.04,
           4.05,
           4.02,
           3.99
          ],
          [
           4.542,
           4.42845,
           4.3,
           4.22,
           4.29,
           4.23,
           4.13,
           4.13,
           4.09,
           4.01,
           3.97
          ],
          [
           3.82231,
           3.52509,
           3.39,
           3.55,
           3.69,
           3.53,
           3.52,
           3.72,
           3.85,
           4.01,
           4.19
          ],
          [
           4.26694,
           4.29561,
           4.19,
           4.06,
           4.08,
           3.84,
           4.07,
           4.02,
           3.99,
           3.98,
           4.05
          ],
          [
           4.29622,
           4.27001,
           3.9,
           4.05,
           4.08,
           3.78,
           3.9,
           3.92,
           3.93,
           3.96,
           3.96
          ],
          [
           4.15923,
           4.09415,
           4.02,
           4.05,
           4.04,
           4.04,
           4.01,
           3.99,
           3.98,
           3.96,
           3.9
          ],
          [
           4.70399,
           4.36487,
           4.33,
           4.24,
           4.18,
           4.14,
           4.14,
           4.25,
           4.15,
           3.91,
           3.88
          ],
          [
           3.60782,
           3.91305,
           4.2,
           4.21,
           4.3,
           4.1,
           4.27,
           4.1,
           3.94,
           3.86,
           3.84
          ],
          [
           0.98366,
           1.04711,
           1.75,
           1.99,
           2.09,
           2.38,
           2.64,
           2.93,
           3.44,
           3.85,
           4.12
          ],
          [
           3.67576,
           3.83112,
           3.53,
           3.53,
           3.41,
           3.28,
           3.38,
           3.59,
           3.72,
           3.72,
           3.72
          ],
          [
           5.46419,
           4.47236,
           4.2,
           4,
           4.28,
           3.94,
           3.58,
           3.5,
           3.54,
           3.71,
           3.83
          ],
          [
           4.69,
           4.68,
           4.51,
           4.31,
           4.14,
           4.04,
           4.02,
           3.76,
           3.87,
           3.68,
           3.71
          ],
          [
           3.26552,
           3.95114,
           4.23,
           4.43,
           4.59,
           4.46,
           4.5,
           3.25,
           3.39,
           3.65,
           3.78
          ],
          [
           3.16,
           3.23,
           3.32,
           3.5,
           3.29,
           3.35,
           3.37,
           3.39,
           3.62,
           3.62,
           3.62
          ],
          [
           4.2,
           4.2,
           4.2,
           4,
           4,
           3.9,
           3.8,
           3.7,
           3.7,
           3.6,
           3.6
          ],
          [
           4.51206,
           4.1285,
           3.86,
           3.81,
           3.55,
           3.48,
           3.57,
           3.45,
           3.56,
           3.44,
           3.45
          ],
          [
           4.17268,
           3.77643,
           3.69,
           3.58,
           3.38,
           3.3,
           3.39,
           3.41,
           3.39,
           3.42,
           3.57
          ],
          [
           4.03074,
           3.78355,
           3.68,
           3.65,
           3.38,
           3.45,
           3.33,
           3.28,
           3.38,
           3.34,
           3.39
          ],
          [
           1.9171,
           1.99631,
           2.04,
           2.04,
           2.07,
           2.11,
           2.15,
           2.06,
           3.27,
           3.33,
           3.4
          ],
          [
           3.55036,
           3.26773,
           3.27,
           3.31,
           3.2,
           3.19,
           3.16,
           3.12,
           3.14,
           3.23,
           3.27
          ],
          [
           3.73867,
           3.25468,
           3.32,
           3.32,
           3.25,
           3.06,
           2.95,
           3.1,
           3.07,
           3.12,
           3.24
          ],
          [
           2.8504,
           3.06503,
           3.2,
           3.17,
           3.28,
           3.17,
           3.19,
           3.16,
           3.13,
           3.09,
           3.01
          ],
          [
           3.31309,
           3.30396,
           3.18,
           3.17,
           3.17,
           3.17,
           3.17,
           3.17,
           3.05,
           3.05,
           3.17
          ],
          [
           2.98826,
           2.87862,
           2.87,
           2.97,
           3.07,
           3.05,
           3.06,
           3.2,
           3.22,
           3.05,
           3.09
          ],
          [
           2.72729,
           2.69209,
           2.68,
           2.71,
           2.77,
           2.79,
           2.8,
           2.85,
           2.9,
           3,
           3.15
          ],
          [
           2.17467,
           2.28086,
           2.48,
           2.39,
           2.39,
           2.79,
           3.15,
           3.33,
           3.34,
           2.93,
           2.93
          ],
          [
           2.7959,
           2.83355,
           2.9,
           2.88,
           2.87,
           2.86,
           2.81,
           2.83,
           2.89,
           2.92,
           2.92
          ],
          [
           3.89908,
           3.68877,
           3.79,
           3.54,
           3.49,
           3.32,
           3.22,
           2.85,
           2.85,
           2.85,
           2.85
          ],
          [
           2.77167,
           2.77145,
           2.78,
           2.77,
           2.77,
           2.76,
           2.76,
           2.76,
           2.77,
           2.78,
           2.8
          ],
          [
           2.43,
           2.32,
           2.35,
           2.51,
           2.55,
           2.67,
           2.79,
           2.85,
           2.69,
           2.73,
           2.76
          ],
          [
           2.05811,
           2.17916,
           2.26,
           2.33,
           2.41,
           2.47,
           2.51,
           2.51,
           2.59,
           2.7,
           2.75
          ],
          [
           3.06,
           2.96,
           2.91,
           2.83,
           2.67,
           2.68,
           2.62,
           2.57,
           2.65,
           2.63,
           2.66
          ],
          [
           3.09825,
           3.03799,
           3.03,
           2.75,
           2.64,
           2.58,
           2.47,
           2.57,
           2.62,
           2.62,
           2.62
          ],
          [
           2.7,
           2.74,
           2.74,
           2.67,
           2.63,
           2.65,
           2.64,
           2.62,
           2.65,
           2.57,
           2.69
          ],
          [
           3.59742,
           3.34391,
           3.39,
           3.33,
           3.29,
           3.22,
           2.94,
           2.51,
           2.36,
           2.43,
           2.44
          ],
          [
           2.37334,
           2.80216,
           2.58,
           2.54,
           2.85,
           3.02,
           3.03,
           2.82,
           2.43,
           2.42,
           2.36
          ],
          [
           2.50001,
           2.47468,
           2.09,
           2.2,
           2.16,
           2.14,
           2.19,
           2.26,
           2.5,
           2.36,
           2.39
          ],
          [
           2.18,
           2.25,
           2.18,
           2.1,
           2.15,
           1.8,
           2.26,
           2.16,
           2.21,
           2.3,
           2.43
          ],
          [
           2.24392,
           2.00584,
           1.89,
           1.96,
           2.11,
           2.22,
           2.1,
           2.16,
           2.32,
           2.29,
           1.79
          ],
          [
           2.39637,
           2.62405,
           2.67,
           2.78,
           2.88,
           2.96,
           2.99,
           2.99,
           2.51,
           2.28,
           2.32
          ],
          [
           2.78687,
           2.94352,
           2.63,
           2.52,
           2.44,
           2.38,
           2.4,
           2.36,
           2.31,
           2.26,
           2.22
          ],
          [
           1.48,
           1.47,
           2.01,
           1.71,
           1.91,
           1.81,
           1.91,
           1.84,
           1.95,
           2.17,
           2.44
          ],
          [
           2.45578,
           2.33006,
           2.37,
           2.3,
           2.19,
           2.36,
           2.16,
           2,
           2.07,
           2.05,
           2.18
          ],
          [
           2.36106,
           2.22502,
           2.31,
           2.18,
           2.18,
           2.19,
           2.15,
           2.1,
           2.15,
           2.05,
           2.13
          ],
          [
           1.05456,
           1.10566,
           1.61,
           1.96,
           2.29,
           2.33,
           2.12,
           2.13,
           2.14,
           2.04,
           2.23
          ],
          [
           2.003079855072464,
           1.961372536231884,
           1.960072463768116,
           1.980217391304348,
           1.983623188405797,
           1.9705072463768112,
           1.9886231884057968,
           1.9928985507246373,
           1.996086956521739,
           2.004855072463768,
           2.01036231884058
          ],
          [
           1.77419,
           1.74847,
           1.79,
           1.95,
           2.02,
           1.97,
           1.94,
           1.97,
           1.73,
           1.96,
           1.98
          ],
          [
           1.48124,
           1.44991,
           1.63,
           1.63,
           1.66,
           1.73,
           1.7,
           1.76,
           1.69,
           1.94,
           1.84
          ],
          [
           1.47,
           1.09,
           1.67,
           2.05,
           2.07,
           2.12,
           2.23,
           1.93,
           1.93,
           1.93,
           1.2
          ],
          [
           1.71088,
           1.62888,
           1.66,
           1.69,
           1.7,
           1.7,
           1.73,
           1.79,
           1.82,
           1.88,
           1.94
          ],
          [
           1.56418,
           1.9757,
           1.8,
           1.95,
           1.84,
           1.85,
           1.68,
           1.41,
           1.83,
           1.85,
           1.94
          ],
          [
           1.65198,
           1.58365,
           1.62,
           1.64,
           1.66,
           1.71,
           1.75,
           1.8,
           1.73,
           1.74,
           1.77
          ],
          [
           1.32375,
           1.30299,
           1.44,
           1.46,
           1.41,
           1.4,
           1.43,
           1.64,
           1.73,
           1.67,
           1.98
          ],
          [
           1.55,
           1.58692,
           1.67,
           1.75,
           1.82,
           1.88,
           1.86,
           1.73,
           1.68,
           1.66,
           1.66
          ],
          [
           1.19467,
           1.20972,
           1.33,
           1.39,
           1.44,
           1.53,
           1.54,
           1.58,
           1.51,
           1.66,
           1.78
          ],
          [
           2.12835,
           2.20543,
           1.71,
           1.88,
           1.34,
           1.34,
           1.29,
           1.48,
           1.52,
           1.64,
           1.75
          ],
          [
           1.35838,
           1.30104,
           1.31,
           1.31,
           1.31,
           1.34,
           1.38,
           1.44,
           1.52,
           1.6,
           1.57
          ],
          [
           1.18769,
           0.90305,
           1.47,
           1.99,
           1.3,
           1.38,
           1.38,
           1.39,
           1.38,
           1.6,
           1.71
          ],
          [
           1.95569,
           1.60413,
           1.65,
           1.83,
           1.95,
           1.78,
           1.62,
           1.52,
           1.5,
           1.51,
           1.53
          ],
          [
           1.15598,
           1.13191,
           1.08,
           1.12,
           1.13,
           1.14,
           1.14,
           1.22,
           1.33,
           1.48,
           1.6
          ],
          [
           1.47119,
           1.37848,
           1.67,
           1.58,
           1.56,
           1.53,
           1.51,
           1.53,
           1.51,
           1.45,
           1.35
          ],
          [
           1.21871,
           1.2094,
           1.29,
           1.28,
           1.25,
           1.09,
           1.1,
           1.11,
           1.23,
           1.38,
           1.47
          ],
          [
           0.95487,
           0.91212,
           0.92,
           0.93,
           1,
           1.04,
           1.07,
           1.16,
           1.26,
           1.38,
           1.5
          ],
          [
           0.7738,
           1.11004,
           1.05,
           1.09,
           1.17,
           1.17,
           1.22,
           1.24,
           1.32,
           1.34,
           1.37
          ],
          [
           1.21892,
           1.22072,
           1.29,
           1.31,
           1.35,
           1.24,
           1.29,
           1.27,
           1.28,
           1.25,
           1.25
          ],
          [
           1.1933,
           1.0322,
           0.99,
           1,
           1.01,
           1.03,
           1.06,
           1.13,
           1.22,
           1.24,
           1.19
          ],
          [
           0.46059,
           0.45547,
           0.61,
           0.73,
           0.84,
           0.98,
           1.12,
           1.08,
           1.1,
           1.18,
           1.26
          ],
          [
           0.58994,
           0.5716,
           0.63,
           0.7,
           0.75,
           0.77,
           0.84,
           0.99,
           1.05,
           1.03,
           1.03
          ],
          [
           0.9318,
           0.95552,
           0.87,
           0.85,
           0.85,
           0.86,
           0.96,
           1.05,
           1.03,
           1.01,
           0.99
          ],
          [
           0.45622,
           0.46343,
           0.46,
           0.53,
           0.63,
           0.67,
           0.85,
           0.88,
           0.91,
           1,
           1
          ],
          [
           0.89265,
           0.80589,
           0.83,
           0.86,
           0.93,
           0.93,
           0.94,
           0.9,
           0.91,
           0.9,
           0.9
          ],
          [
           1.05914,
           1.04116,
           0.95,
           0.9,
           0.93,
           0.89,
           0.71,
           0.84,
           0.84,
           0.88,
           0.81
          ],
          [
           0.64038,
           0.64,
           0.7,
           0.82,
           0.94,
           0.92,
           1.04,
           1.03,
           0.95,
           0.87,
           0.81
          ],
          [
           0.53415,
           0.64248,
           0.9,
           0.94,
           0.94,
           0.81,
           0.91,
           0.86,
           0.86,
           0.86,
           0.85
          ],
          [
           0.29127,
           0.28366,
           0.28,
           0.32,
           0.41,
           0.43,
           0.5,
           0.59,
           0.77,
           0.84,
           0.92
          ],
          [
           0.75573,
           0.68238,
           0.6,
           0.63,
           0.72,
           0.74,
           0.72,
           0.72,
           0.77,
           0.76,
           0.74
          ],
          [
           0.65159,
           0.6628,
           0.62,
           0.49,
           0.52,
           0.58,
           0.61,
           0.7,
           0.66,
           0.74,
           0.78
          ],
          [
           0.64738,
           0.65641,
           0.71,
           0.72,
           0.71,
           0.7,
           0.7,
           0.72,
           0.71,
           0.72,
           0.73
          ],
          [
           0.22273,
           0.14934,
           0.25,
           0.29,
           0.45,
           0.64,
           0.64,
           0.68,
           0.71,
           0.72,
           0.65
          ],
          [
           0.31215,
           0.30214,
           0.31,
           0.35,
           0.35,
           0.26,
           0.42,
           0.53,
           0.54,
           0.53,
           0.55
          ],
          [
           0.11408,
           0.12359,
           0.11,
           0.12,
           0.13,
           0.13,
           0.16,
           0.28,
           0.4,
           0.51,
           0.55
          ],
          [
           0.37229,
           0.39698,
           0.53,
           0.5,
           0.45,
           0.42,
           0.44,
           0.46,
           0.48,
           0.5,
           0.5
          ],
          [
           0.41888,
           0.32738,
           0.4,
           0.34,
           0.25,
           0.43,
           0.52,
           0.49,
           0.42,
           0.49,
           0.52
          ],
          [
           0.3785,
           0.37267,
           0.38,
           0.39,
           0.41,
           0.4,
           0.4,
           0.4,
           0.45,
           0.48,
           0.48
          ],
          [
           0.48534,
           0.4689,
           0.47,
           0.47,
           0.43,
           0.42,
           0.46,
           0.47,
           0.48,
           0.48,
           0.53
          ],
          [
           0.12985,
           0.14183,
           0.15,
           0.17,
           0.24,
           0.28,
           0.32,
           0.37,
           0.42,
           0.46,
           0.5
          ],
          [
           0.33804,
           0.33638,
           0.33,
           0.49,
           0.54,
           0.56,
           0.31,
           0.33,
           0.36,
           0.4,
           0.38
          ],
          [
           0.3025,
           0.2419,
           0.29,
           0.37,
           0.37,
           0.4,
           0.36,
           0.36,
           0.35,
           0.39,
           0.38
          ],
          [
           0.29464,
           0.30211,
           0.32,
           0.37,
           0.37,
           0.41,
           0.47,
           0.48,
           0.46,
           0.39,
           0.37
          ],
          [
           0.46918,
           0.46419,
           0.47,
           0.34,
           0.36,
           0.37,
           0.38,
           0.39,
           0.38,
           0.38,
           0.4
          ],
          [
           0.39072,
           0.39351,
           0.37,
           0.31,
           0.29,
           0.27,
           0.33,
           0.33,
           0.35,
           0.36,
           0.38
          ],
          [
           0.46526,
           0.27587,
           0.27,
           0.29,
           0.29,
           0.36,
           0.2,
           0.3,
           0.24,
           0.31,
           0.34
          ],
          [
           0.20481,
           0.19895,
           0.18,
           0.21,
           0.23,
           0.26,
           0.28,
           0.31,
           0.32,
           0.3,
           0.31
          ],
          [
           0.17185,
           0.1563,
           0.17,
           0.21,
           0.22,
           0.23,
           0.3,
           0.36,
           0.33,
           0.29,
           0.29
          ],
          [
           0.34295,
           0.32699,
           0.31,
           0.3,
           0.31,
           0.29,
           0.28,
           0.28,
           0.29,
           0.29,
           0.29
          ],
          [
           0.27631,
           0.22879,
           0.21,
           0.2,
           0.21,
           0.21,
           0.22,
           0.23,
           0.23,
           0.23,
           0.22
          ],
          [
           0.13441,
           0.14549,
           0.17,
           0.18,
           0.18,
           0.2,
           0.2,
           0.21,
           0.23,
           0.22,
           0.23
          ],
          [
           0.2,
           0.2,
           0.3,
           0.28,
           0.4,
           0.4,
           0.37,
           0.36,
           0.21,
           0.22,
           0.22
          ],
          [
           0.7544,
           0.80894,
           0.19,
           0.17,
           0.12,
           0.12,
           0.21,
           0.26,
           0.2,
           0.22,
           0.18
          ],
          [
           0.08337,
           0.09427,
           0.1,
           0.12,
           0.13,
           0.16,
           0.18,
           0.19,
           0.21,
           0.22,
           0.22
          ],
          [
           0.57399,
           0.71268,
           0.16,
           0.18,
           0.2,
           0.21,
           0.19,
           0.23,
           0.24,
           0.21,
           0.23
          ],
          [
           0.17514,
           0.14684,
           0.14,
           0.15,
           0.14,
           0.14,
           0.14,
           0.14,
           0.19,
           0.19,
           0.21
          ],
          [
           0.24,
           0.23,
           0.2,
           0.18,
           0.18,
           0.18,
           0.15,
           0.16,
           0.17,
           0.17,
           0.18
          ],
          [
           0.20516,
           0.20374,
           0.2,
           0.2,
           0.19,
           0.18,
           0.17,
           0.17,
           0.16,
           0.16,
           0.17
          ],
          [
           0.17189,
           0.176,
           0.16,
           0.17,
           0.18,
           0.22,
           0.12,
           0.12,
           0.1,
           0.14,
           0.17
          ],
          [
           0.13243,
           0.15541,
           0.11,
           0.12,
           0.12,
           0.11,
           0.1,
           0.11,
           0.11,
           0.12,
           0.12
          ],
          [
           0.06918,
           0.07227,
           0.07,
           0.08,
           0.08,
           0.09,
           0.1,
           0.09,
           0.09,
           0.1,
           0.09
          ],
          [
           0.14411,
           0.14773,
           0.16,
           0.16,
           0.17,
           0.17,
           0.17,
           0.15,
           0.08,
           0.09,
           0.08
          ],
          [
           0.23743,
           0.23133,
           0.22,
           0.13,
           0.17,
           0.11,
           0.08,
           0.1,
           0.11,
           0.09,
           0.09
          ],
          [
           0.06239,
           0.0636,
           0.06,
           0.06,
           0.06,
           0.07,
           0.07,
           0.06,
           0.07,
           0.06,
           0.06
          ],
          [
           0.17431,
           0.17486,
           0.09,
           0.04,
           0.05,
           0.05,
           0.05,
           0.05,
           0.07,
           0.06,
           0.06
          ],
          [
           0.03707,
           0.04186,
           0.03,
           0.02,
           0.03,
           0.06,
           0.03,
           0.04,
           0.04,
           0.04,
           0.04
          ],
          [
           0.05228,
           0.0511,
           0.05,
           0.05,
           0.05,
           0.04,
           0.05,
           0.05,
           0.05,
           0.04,
           0.04
          ],
          [
           0.12624,
           0.12238,
           0.11,
           0.17,
           0.18,
           0.25,
           0.04,
           0.04,
           0.01,
           0.01,
           0.01
          ],
          [
           0.00089,
           0.00151,
           0,
           0,
           0,
           0,
           0,
           0,
           0,
           0,
           0
          ],
          [
           0.00857,
           0.00972,
           0.01,
           0,
           0,
           0,
           0,
           0,
           0,
           0,
           0
          ],
          [
           0.00314,
           0.00669,
           0,
           0.01,
           0,
           0,
           0,
           0,
           0,
           0,
           0
          ],
          [
           0.01904,
           0.08965,
           0,
           0,
           0,
           0,
           0,
           0,
           0,
           0,
           0
          ],
          [
           0.00184,
           0.00189,
           0,
           0,
           0,
           0,
           0,
           0,
           0,
           0,
           0
          ],
          [
           0.00063,
           0.00219,
           0,
           0,
           0,
           0,
           0,
           0,
           0,
           0,
           0
          ],
          [
           2e-05,
           2e-05,
           0,
           0,
           0,
           0,
           0,
           0,
           0,
           0,
           0
          ],
          [
           0,
           0,
           0,
           0,
           0,
           0,
           0,
           0,
           0,
           0,
           0
          ],
          [
           null,
           null,
           null,
           null,
           null,
           null,
           null,
           null,
           null,
           null,
           null
          ]
         ]
        }
       ],
       "layout": {
        "clickmode": "select",
        "coloraxis": {
         "colorscale": [
          [
           0,
           "rgb(158,1,66)"
          ],
          [
           0.1,
           "rgb(213,62,79)"
          ],
          [
           0.2,
           "rgb(244,109,67)"
          ],
          [
           0.3,
           "rgb(253,174,97)"
          ],
          [
           0.4,
           "rgb(254,224,139)"
          ],
          [
           0.5,
           "rgb(255,255,191)"
          ],
          [
           0.6,
           "rgb(230,245,152)"
          ],
          [
           0.7,
           "rgb(171,221,164)"
          ],
          [
           0.8,
           "rgb(102,194,165)"
          ],
          [
           0.9,
           "rgb(50,136,189)"
          ],
          [
           1,
           "rgb(94,79,162)"
          ]
         ],
         "showscale": false
        },
        "font": {
         "color": "black"
        },
        "height": 650,
        "legend": {
         "bgcolor": "#FBEEAC",
         "font": {
          "color": "black"
         },
         "title": {
          "font": {
           "color": "black"
          }
         }
        },
        "margin": {
         "t": 60
        },
        "paper_bgcolor": "#FBEEAC",
        "plot_bgcolor": "tan",
        "template": {
         "data": {
          "bar": [
           {
            "error_x": {
             "color": "#2a3f5f"
            },
            "error_y": {
             "color": "#2a3f5f"
            },
            "marker": {
             "line": {
              "color": "#E5ECF6",
              "width": 0.5
             },
             "pattern": {
              "fillmode": "overlay",
              "size": 10,
              "solidity": 0.2
             }
            },
            "type": "bar"
           }
          ],
          "barpolar": [
           {
            "marker": {
             "line": {
              "color": "#E5ECF6",
              "width": 0.5
             },
             "pattern": {
              "fillmode": "overlay",
              "size": 10,
              "solidity": 0.2
             }
            },
            "type": "barpolar"
           }
          ],
          "carpet": [
           {
            "aaxis": {
             "endlinecolor": "#2a3f5f",
             "gridcolor": "white",
             "linecolor": "white",
             "minorgridcolor": "white",
             "startlinecolor": "#2a3f5f"
            },
            "baxis": {
             "endlinecolor": "#2a3f5f",
             "gridcolor": "white",
             "linecolor": "white",
             "minorgridcolor": "white",
             "startlinecolor": "#2a3f5f"
            },
            "type": "carpet"
           }
          ],
          "choropleth": [
           {
            "colorbar": {
             "outlinewidth": 0,
             "ticks": ""
            },
            "type": "choropleth"
           }
          ],
          "contour": [
           {
            "colorbar": {
             "outlinewidth": 0,
             "ticks": ""
            },
            "colorscale": [
             [
              0,
              "#0d0887"
             ],
             [
              0.1111111111111111,
              "#46039f"
             ],
             [
              0.2222222222222222,
              "#7201a8"
             ],
             [
              0.3333333333333333,
              "#9c179e"
             ],
             [
              0.4444444444444444,
              "#bd3786"
             ],
             [
              0.5555555555555556,
              "#d8576b"
             ],
             [
              0.6666666666666666,
              "#ed7953"
             ],
             [
              0.7777777777777778,
              "#fb9f3a"
             ],
             [
              0.8888888888888888,
              "#fdca26"
             ],
             [
              1,
              "#f0f921"
             ]
            ],
            "type": "contour"
           }
          ],
          "contourcarpet": [
           {
            "colorbar": {
             "outlinewidth": 0,
             "ticks": ""
            },
            "type": "contourcarpet"
           }
          ],
          "heatmap": [
           {
            "colorbar": {
             "outlinewidth": 0,
             "ticks": ""
            },
            "colorscale": [
             [
              0,
              "#0d0887"
             ],
             [
              0.1111111111111111,
              "#46039f"
             ],
             [
              0.2222222222222222,
              "#7201a8"
             ],
             [
              0.3333333333333333,
              "#9c179e"
             ],
             [
              0.4444444444444444,
              "#bd3786"
             ],
             [
              0.5555555555555556,
              "#d8576b"
             ],
             [
              0.6666666666666666,
              "#ed7953"
             ],
             [
              0.7777777777777778,
              "#fb9f3a"
             ],
             [
              0.8888888888888888,
              "#fdca26"
             ],
             [
              1,
              "#f0f921"
             ]
            ],
            "type": "heatmap"
           }
          ],
          "heatmapgl": [
           {
            "colorbar": {
             "outlinewidth": 0,
             "ticks": ""
            },
            "colorscale": [
             [
              0,
              "#0d0887"
             ],
             [
              0.1111111111111111,
              "#46039f"
             ],
             [
              0.2222222222222222,
              "#7201a8"
             ],
             [
              0.3333333333333333,
              "#9c179e"
             ],
             [
              0.4444444444444444,
              "#bd3786"
             ],
             [
              0.5555555555555556,
              "#d8576b"
             ],
             [
              0.6666666666666666,
              "#ed7953"
             ],
             [
              0.7777777777777778,
              "#fb9f3a"
             ],
             [
              0.8888888888888888,
              "#fdca26"
             ],
             [
              1,
              "#f0f921"
             ]
            ],
            "type": "heatmapgl"
           }
          ],
          "histogram": [
           {
            "marker": {
             "pattern": {
              "fillmode": "overlay",
              "size": 10,
              "solidity": 0.2
             }
            },
            "type": "histogram"
           }
          ],
          "histogram2d": [
           {
            "colorbar": {
             "outlinewidth": 0,
             "ticks": ""
            },
            "colorscale": [
             [
              0,
              "#0d0887"
             ],
             [
              0.1111111111111111,
              "#46039f"
             ],
             [
              0.2222222222222222,
              "#7201a8"
             ],
             [
              0.3333333333333333,
              "#9c179e"
             ],
             [
              0.4444444444444444,
              "#bd3786"
             ],
             [
              0.5555555555555556,
              "#d8576b"
             ],
             [
              0.6666666666666666,
              "#ed7953"
             ],
             [
              0.7777777777777778,
              "#fb9f3a"
             ],
             [
              0.8888888888888888,
              "#fdca26"
             ],
             [
              1,
              "#f0f921"
             ]
            ],
            "type": "histogram2d"
           }
          ],
          "histogram2dcontour": [
           {
            "colorbar": {
             "outlinewidth": 0,
             "ticks": ""
            },
            "colorscale": [
             [
              0,
              "#0d0887"
             ],
             [
              0.1111111111111111,
              "#46039f"
             ],
             [
              0.2222222222222222,
              "#7201a8"
             ],
             [
              0.3333333333333333,
              "#9c179e"
             ],
             [
              0.4444444444444444,
              "#bd3786"
             ],
             [
              0.5555555555555556,
              "#d8576b"
             ],
             [
              0.6666666666666666,
              "#ed7953"
             ],
             [
              0.7777777777777778,
              "#fb9f3a"
             ],
             [
              0.8888888888888888,
              "#fdca26"
             ],
             [
              1,
              "#f0f921"
             ]
            ],
            "type": "histogram2dcontour"
           }
          ],
          "mesh3d": [
           {
            "colorbar": {
             "outlinewidth": 0,
             "ticks": ""
            },
            "type": "mesh3d"
           }
          ],
          "parcoords": [
           {
            "line": {
             "colorbar": {
              "outlinewidth": 0,
              "ticks": ""
             }
            },
            "type": "parcoords"
           }
          ],
          "pie": [
           {
            "automargin": true,
            "type": "pie"
           }
          ],
          "scatter": [
           {
            "fillpattern": {
             "fillmode": "overlay",
             "size": 10,
             "solidity": 0.2
            },
            "type": "scatter"
           }
          ],
          "scatter3d": [
           {
            "line": {
             "colorbar": {
              "outlinewidth": 0,
              "ticks": ""
             }
            },
            "marker": {
             "colorbar": {
              "outlinewidth": 0,
              "ticks": ""
             }
            },
            "type": "scatter3d"
           }
          ],
          "scattercarpet": [
           {
            "marker": {
             "colorbar": {
              "outlinewidth": 0,
              "ticks": ""
             }
            },
            "type": "scattercarpet"
           }
          ],
          "scattergeo": [
           {
            "marker": {
             "colorbar": {
              "outlinewidth": 0,
              "ticks": ""
             }
            },
            "type": "scattergeo"
           }
          ],
          "scattergl": [
           {
            "marker": {
             "colorbar": {
              "outlinewidth": 0,
              "ticks": ""
             }
            },
            "type": "scattergl"
           }
          ],
          "scattermapbox": [
           {
            "marker": {
             "colorbar": {
              "outlinewidth": 0,
              "ticks": ""
             }
            },
            "type": "scattermapbox"
           }
          ],
          "scatterpolar": [
           {
            "marker": {
             "colorbar": {
              "outlinewidth": 0,
              "ticks": ""
             }
            },
            "type": "scatterpolar"
           }
          ],
          "scatterpolargl": [
           {
            "marker": {
             "colorbar": {
              "outlinewidth": 0,
              "ticks": ""
             }
            },
            "type": "scatterpolargl"
           }
          ],
          "scatterternary": [
           {
            "marker": {
             "colorbar": {
              "outlinewidth": 0,
              "ticks": ""
             }
            },
            "type": "scatterternary"
           }
          ],
          "surface": [
           {
            "colorbar": {
             "outlinewidth": 0,
             "ticks": ""
            },
            "colorscale": [
             [
              0,
              "#0d0887"
             ],
             [
              0.1111111111111111,
              "#46039f"
             ],
             [
              0.2222222222222222,
              "#7201a8"
             ],
             [
              0.3333333333333333,
              "#9c179e"
             ],
             [
              0.4444444444444444,
              "#bd3786"
             ],
             [
              0.5555555555555556,
              "#d8576b"
             ],
             [
              0.6666666666666666,
              "#ed7953"
             ],
             [
              0.7777777777777778,
              "#fb9f3a"
             ],
             [
              0.8888888888888888,
              "#fdca26"
             ],
             [
              1,
              "#f0f921"
             ]
            ],
            "type": "surface"
           }
          ],
          "table": [
           {
            "cells": {
             "fill": {
              "color": "#EBF0F8"
             },
             "line": {
              "color": "white"
             }
            },
            "header": {
             "fill": {
              "color": "#C8D4E3"
             },
             "line": {
              "color": "white"
             }
            },
            "type": "table"
           }
          ]
         },
         "layout": {
          "annotationdefaults": {
           "arrowcolor": "#2a3f5f",
           "arrowhead": 0,
           "arrowwidth": 1
          },
          "autotypenumbers": "strict",
          "coloraxis": {
           "colorbar": {
            "outlinewidth": 0,
            "ticks": ""
           }
          },
          "colorscale": {
           "diverging": [
            [
             0,
             "#8e0152"
            ],
            [
             0.1,
             "#c51b7d"
            ],
            [
             0.2,
             "#de77ae"
            ],
            [
             0.3,
             "#f1b6da"
            ],
            [
             0.4,
             "#fde0ef"
            ],
            [
             0.5,
             "#f7f7f7"
            ],
            [
             0.6,
             "#e6f5d0"
            ],
            [
             0.7,
             "#b8e186"
            ],
            [
             0.8,
             "#7fbc41"
            ],
            [
             0.9,
             "#4d9221"
            ],
            [
             1,
             "#276419"
            ]
           ],
           "sequential": [
            [
             0,
             "#0d0887"
            ],
            [
             0.1111111111111111,
             "#46039f"
            ],
            [
             0.2222222222222222,
             "#7201a8"
            ],
            [
             0.3333333333333333,
             "#9c179e"
            ],
            [
             0.4444444444444444,
             "#bd3786"
            ],
            [
             0.5555555555555556,
             "#d8576b"
            ],
            [
             0.6666666666666666,
             "#ed7953"
            ],
            [
             0.7777777777777778,
             "#fb9f3a"
            ],
            [
             0.8888888888888888,
             "#fdca26"
            ],
            [
             1,
             "#f0f921"
            ]
           ],
           "sequentialminus": [
            [
             0,
             "#0d0887"
            ],
            [
             0.1111111111111111,
             "#46039f"
            ],
            [
             0.2222222222222222,
             "#7201a8"
            ],
            [
             0.3333333333333333,
             "#9c179e"
            ],
            [
             0.4444444444444444,
             "#bd3786"
            ],
            [
             0.5555555555555556,
             "#d8576b"
            ],
            [
             0.6666666666666666,
             "#ed7953"
            ],
            [
             0.7777777777777778,
             "#fb9f3a"
            ],
            [
             0.8888888888888888,
             "#fdca26"
            ],
            [
             1,
             "#f0f921"
            ]
           ]
          },
          "colorway": [
           "#636efa",
           "#EF553B",
           "#00cc96",
           "#ab63fa",
           "#FFA15A",
           "#19d3f3",
           "#FF6692",
           "#B6E880",
           "#FF97FF",
           "#FECB52"
          ],
          "font": {
           "color": "#2a3f5f"
          },
          "geo": {
           "bgcolor": "white",
           "lakecolor": "white",
           "landcolor": "#E5ECF6",
           "showlakes": true,
           "showland": true,
           "subunitcolor": "white"
          },
          "hoverlabel": {
           "align": "left"
          },
          "hovermode": "closest",
          "mapbox": {
           "style": "light"
          },
          "paper_bgcolor": "white",
          "plot_bgcolor": "#E5ECF6",
          "polar": {
           "angularaxis": {
            "gridcolor": "white",
            "linecolor": "white",
            "ticks": ""
           },
           "bgcolor": "#E5ECF6",
           "radialaxis": {
            "gridcolor": "white",
            "linecolor": "white",
            "ticks": ""
           }
          },
          "scene": {
           "xaxis": {
            "backgroundcolor": "#E5ECF6",
            "gridcolor": "white",
            "gridwidth": 2,
            "linecolor": "white",
            "showbackground": true,
            "ticks": "",
            "zerolinecolor": "white"
           },
           "yaxis": {
            "backgroundcolor": "#E5ECF6",
            "gridcolor": "white",
            "gridwidth": 2,
            "linecolor": "white",
            "showbackground": true,
            "ticks": "",
            "zerolinecolor": "white"
           },
           "zaxis": {
            "backgroundcolor": "#E5ECF6",
            "gridcolor": "white",
            "gridwidth": 2,
            "linecolor": "white",
            "showbackground": true,
            "ticks": "",
            "zerolinecolor": "white"
           }
          },
          "shapedefaults": {
           "line": {
            "color": "#2a3f5f"
           }
          },
          "ternary": {
           "aaxis": {
            "gridcolor": "white",
            "linecolor": "white",
            "ticks": ""
           },
           "baxis": {
            "gridcolor": "white",
            "linecolor": "white",
            "ticks": ""
           },
           "bgcolor": "#E5ECF6",
           "caxis": {
            "gridcolor": "white",
            "linecolor": "white",
            "ticks": ""
           }
          },
          "title": {
           "x": 0.05
          },
          "xaxis": {
           "automargin": true,
           "gridcolor": "white",
           "linecolor": "white",
           "ticks": "",
           "title": {
            "standoff": 15
           },
           "zerolinecolor": "white",
           "zerolinewidth": 2
          },
          "yaxis": {
           "automargin": true,
           "gridcolor": "white",
           "linecolor": "white",
           "ticks": "",
           "title": {
            "standoff": 15
           },
           "zerolinecolor": "white",
           "zerolinewidth": 2
          }
         }
        },
        "title": {
         "text": "BCPC",
         "x": 0.73
        },
        "width": 200,
        "xaxis": {
         "anchor": "y",
         "autorange": true,
         "constrain": "domain",
         "domain": [
          0,
          1
         ],
         "range": [
          2007.5,
          2018.5
         ],
         "scaleanchor": "x",
         "scaleratio": 1,
         "showgrid": false,
         "type": "linear",
         "zeroline": false
        },
        "yaxis": {
         "anchor": "x",
         "autorange": true,
         "constrain": "domain",
         "domain": [
          0,
          1
         ],
         "range": [
          139.5,
          -0.5
         ],
         "showgrid": false,
         "title": {
          "text": "Country"
         },
         "type": "category",
         "zeroline": false
        }
       }
      },
      "image/png": "[encoded data removed]",
      "text/html": [
       "<div>                            <div id=\"d1e24ad4-5c95-4123-a80b-400ed8bdb2bc\" class=\"plotly-graph-div\" style=\"height:650px; width:200px;\"></div>            <script type=\"text/javascript\">                require([\"plotly\"], function(Plotly) {                    window.PLOTLYENV=window.PLOTLYENV || {};                                    if (document.getElementById(\"d1e24ad4-5c95-4123-a80b-400ed8bdb2bc\")) {                    Plotly.newPlot(                        \"d1e24ad4-5c95-4123-a80b-400ed8bdb2bc\",                        [{\"coloraxis\":\"coloraxis\",\"name\":\"0\",\"x\":[2008,2009,2010,2011,2012,2013,2014,2015,2016,2017,2018],\"y\":[\"Austria\",\"Poland\",\"Germany\",\"Gabon\",\"Panama\",\"Latvia\",\"Romania\",\"Ireland\",\"Estonia\",\"Lithuania\",\"Croatia\",\"Slovenia\",\"Spain\",\"Iceland\",\"Belgium\",\"Bulgaria\",\"Finland\",\"Netherlands\",\"United States\",\"Bosnia and Herzegovina\",\"Luxembourg\",\"Hungary\",\"South Africa\",\"Belize\",\"Brazil\",\"Cambodia\",\"Mexico\",\"Montenegro\",\"Australia\",\"Angola\",\"Argentina\",\"Canada\",\"Denmark\",\"United Kingdom\",\"New Zealand\",\"Suriname\",\"Paraguay\",\"Serbia\",\"Peru\",\"Switzerland\",\"Colombia\",\"Dominican Republic\",\"Botswana\",\"Trinidad and Tobago\",\"Cyprus\",\"Malta\",\"Chile\",\"Guyana\",\"Norway\",\"Portugal\",\"Sweden\",\"Ukraine\",\"Cameroon\",\"Costa Rica\",\"France\",\"Thailand\",\"Ecuador\",\"Bolivia\",\"Kazakhstan\",\"Belarus\",\"Greece\",\"Mongolia\",\"Average\",\"Uruguay\",\"Burundi\",\"Zimbabwe\",\"Italy\",\"Mauritius\",\"Cuba\",\"Lesotho\",\"China\",\"Israel\",\"Albania\",\"Nicaragua\",\"Georgia\",\"Moldova\",\"Honduras\",\"Japan\",\"Philippines\",\"El Salvador\",\"Namibia\",\"Singapore\",\"Jamaica\",\"Zambia\",\"Mozambique\",\"Tunisia\",\"Burkina Faso\",\"Guatemala\",\"Kenya\",\"Benin\",\"Uganda\",\"Ethiopia\",\"Tanzania\",\"Togo\",\"Nigeria\",\"Turkmenistan\",\"Central African Republic\",\"Haiti\",\"Madagascar\",\"Armenia\",\"Malaysia\",\"Ghana\",\"Myanmar\",\"Liberia\",\"Tajikistan\",\"Chad\",\"Bahrain\",\"Lebanon\",\"Azerbaijan\",\"Algeria\",\"Guinea\",\"Qatar\",\"United Arab Emirates\",\"India\",\"Sri Lanka\",\"Uzbekistan\",\"Nepal\",\"Rwanda\",\"Senegal\",\"Morocco\",\"Oman\",\"Sierra Leone\",\"Iraq\",\"Mali\",\"Malawi\",\"Djibouti\",\"Indonesia\",\"Jordan\",\"Comoros\",\"Niger\",\"Bhutan\",\"Bangladesh\",\"Afghanistan\",\"Libya\",\"Kuwait\",\"Pakistan\",\"Mauritania\",\"Somalia\",\"Saudi Arabia\",\"Sudan\"],\"z\":[[6.36804,6.11278,6.1,6.1,6.3,6.1,6.2,6.1,6.1,6.1,6.1],[5.59286,5.39005,5.32,5.56,5.84,5.74,5.8,5.82,5.84,5.78,5.9],[6.35388,6.34122,6.21,6.01,6.01,5.88,5.88,5.88,5.77,5.66,5.67],[5.90594,5.68578,5.6,5.35,5.29,5.56,6.41,6.37,5.86,5.63,5.31],[3.86468,4.0371,4.1,4.21,4.27,4.43,4.79,5.36,5.13,5.4,5.29],[4.119,4.34643,4.61,4.86,4.67,4.7,4.8,4.8,4.8,5.3,5.3],[5.7447,5.18661,4.83,5.0,5.35,5.14,4.86,5.22,5.25,5.28,5.33],[6.07408,5.59316,5.58,5.4,5.32,4.99,5.2,5.1,5.23,5.05,5.1],[5.37419,5.07324,5.87,5.98,6.19,6.38,6.14,6.0,5.69,4.93,3.61],[4.93228,4.95598,5.46,5.79,5.64,5.32,5.46,5.36,5.13,4.79,4.59],[5.01515,4.74445,4.48,4.73,4.55,4.61,4.25,4.55,4.62,4.65,4.75],[5.16,5.09,4.59,4.94,4.58,4.55,5.37,5.73,4.35,4.59,4.66],[4.92,4.98,4.09,4.11,4.12,4.13,4.31,4.17,4.31,4.5,4.57],[3.55,3.83,3.71,3.68,3.77,3.74,3.86,4.26,4.24,4.42,4.39],[5.03741,4.9406,5.03,4.89,4.78,4.6,4.72,4.6,4.46,4.42,4.4],[4.40436,4.01937,4.0,4.08,4.28,4.24,4.04,4.22,4.37,4.32,4.44],[4.62,4.54,4.47,4.61,4.27,4.28,4.17,4.13,4.11,4.04,3.97],[4.78653,4.42255,4.36,4.34,4.37,4.2,4.12,4.04,4.05,4.02,3.99],[4.542,4.42845,4.3,4.22,4.29,4.23,4.13,4.13,4.09,4.01,3.97],[3.82231,3.52509,3.39,3.55,3.69,3.53,3.52,3.72,3.85,4.01,4.19],[4.26694,4.29561,4.19,4.06,4.08,3.84,4.07,4.02,3.99,3.98,4.05],[4.29622,4.27001,3.9,4.05,4.08,3.78,3.9,3.92,3.93,3.96,3.96],[4.15923,4.09415,4.02,4.05,4.04,4.04,4.01,3.99,3.98,3.96,3.9],[4.70399,4.36487,4.33,4.24,4.18,4.14,4.14,4.25,4.15,3.91,3.88],[3.60782,3.91305,4.2,4.21,4.3,4.1,4.27,4.1,3.94,3.86,3.84],[0.98366,1.04711,1.75,1.99,2.09,2.38,2.64,2.93,3.44,3.85,4.12],[3.67576,3.83112,3.53,3.53,3.41,3.28,3.38,3.59,3.72,3.72,3.72],[5.46419,4.47236,4.2,4.0,4.28,3.94,3.58,3.5,3.54,3.71,3.83],[4.69,4.68,4.51,4.31,4.14,4.04,4.02,3.76,3.87,3.68,3.71],[3.26552,3.95114,4.23,4.43,4.59,4.46,4.5,3.25,3.39,3.65,3.78],[3.16,3.23,3.32,3.5,3.29,3.35,3.37,3.39,3.62,3.62,3.62],[4.2,4.2,4.2,4.0,4.0,3.9,3.8,3.7,3.7,3.6,3.6],[4.51206,4.1285,3.86,3.81,3.55,3.48,3.57,3.45,3.56,3.44,3.45],[4.17268,3.77643,3.69,3.58,3.38,3.3,3.39,3.41,3.39,3.42,3.57],[4.03074,3.78355,3.68,3.65,3.38,3.45,3.33,3.28,3.38,3.34,3.39],[1.9171,1.99631,2.04,2.04,2.07,2.11,2.15,2.06,3.27,3.33,3.4],[3.55036,3.26773,3.27,3.31,3.2,3.19,3.16,3.12,3.14,3.23,3.27],[3.73867,3.25468,3.32,3.32,3.25,3.06,2.95,3.1,3.07,3.12,3.24],[2.8504,3.06503,3.2,3.17,3.28,3.17,3.19,3.16,3.13,3.09,3.01],[3.31309,3.30396,3.18,3.17,3.17,3.17,3.17,3.17,3.05,3.05,3.17],[2.98826,2.87862,2.87,2.97,3.07,3.05,3.06,3.2,3.22,3.05,3.09],[2.72729,2.69209,2.68,2.71,2.77,2.79,2.8,2.85,2.9,3.0,3.15],[2.17467,2.28086,2.48,2.39,2.39,2.79,3.15,3.33,3.34,2.93,2.93],[2.7959,2.83355,2.9,2.88,2.87,2.86,2.81,2.83,2.89,2.92,2.92],[3.89908,3.68877,3.79,3.54,3.49,3.32,3.22,2.85,2.85,2.85,2.85],[2.77167,2.77145,2.78,2.77,2.77,2.76,2.76,2.76,2.77,2.78,2.8],[2.43,2.32,2.35,2.51,2.55,2.67,2.79,2.85,2.69,2.73,2.76],[2.05811,2.17916,2.26,2.33,2.41,2.47,2.51,2.51,2.59,2.7,2.75],[3.06,2.96,2.91,2.83,2.67,2.68,2.62,2.57,2.65,2.63,2.66],[3.09825,3.03799,3.03,2.75,2.64,2.58,2.47,2.57,2.62,2.62,2.62],[2.7,2.74,2.74,2.67,2.63,2.65,2.64,2.62,2.65,2.57,2.69],[3.59742,3.34391,3.39,3.33,3.29,3.22,2.94,2.51,2.36,2.43,2.44],[2.37334,2.80216,2.58,2.54,2.85,3.02,3.03,2.82,2.43,2.42,2.36],[2.50001,2.47468,2.09,2.2,2.16,2.14,2.19,2.26,2.5,2.36,2.39],[2.18,2.25,2.18,2.1,2.15,1.8,2.26,2.16,2.21,2.3,2.43],[2.24392,2.00584,1.89,1.96,2.11,2.22,2.1,2.16,2.32,2.29,1.79],[2.39637,2.62405,2.67,2.78,2.88,2.96,2.99,2.99,2.51,2.28,2.32],[2.78687,2.94352,2.63,2.52,2.44,2.38,2.4,2.36,2.31,2.26,2.22],[1.48,1.47,2.01,1.71,1.91,1.81,1.91,1.84,1.95,2.17,2.44],[2.45578,2.33006,2.37,2.3,2.19,2.36,2.16,2.0,2.07,2.05,2.18],[2.36106,2.22502,2.31,2.18,2.18,2.19,2.15,2.1,2.15,2.05,2.13],[1.05456,1.10566,1.61,1.96,2.29,2.33,2.12,2.13,2.14,2.04,2.23],[2.003079855072464,1.961372536231884,1.960072463768116,1.980217391304348,1.983623188405797,1.9705072463768112,1.9886231884057968,1.9928985507246373,1.996086956521739,2.004855072463768,2.01036231884058],[1.77419,1.74847,1.79,1.95,2.02,1.97,1.94,1.97,1.73,1.96,1.98],[1.48124,1.44991,1.63,1.63,1.66,1.73,1.7,1.76,1.69,1.94,1.84],[1.47,1.09,1.67,2.05,2.07,2.12,2.23,1.93,1.93,1.93,1.2],[1.71088,1.62888,1.66,1.69,1.7,1.7,1.73,1.79,1.82,1.88,1.94],[1.56418,1.9757,1.8,1.95,1.84,1.85,1.68,1.41,1.83,1.85,1.94],[1.65198,1.58365,1.62,1.64,1.66,1.71,1.75,1.8,1.73,1.74,1.77],[1.32375,1.30299,1.44,1.46,1.41,1.4,1.43,1.64,1.73,1.67,1.98],[1.55,1.58692,1.67,1.75,1.82,1.88,1.86,1.73,1.68,1.66,1.66],[1.19467,1.20972,1.33,1.39,1.44,1.53,1.54,1.58,1.51,1.66,1.78],[2.12835,2.20543,1.71,1.88,1.34,1.34,1.29,1.48,1.52,1.64,1.75],[1.35838,1.30104,1.31,1.31,1.31,1.34,1.38,1.44,1.52,1.6,1.57],[1.18769,0.90305,1.47,1.99,1.3,1.38,1.38,1.39,1.38,1.6,1.71],[1.95569,1.60413,1.65,1.83,1.95,1.78,1.62,1.52,1.5,1.51,1.53],[1.15598,1.13191,1.08,1.12,1.13,1.14,1.14,1.22,1.33,1.48,1.6],[1.47119,1.37848,1.67,1.58,1.56,1.53,1.51,1.53,1.51,1.45,1.35],[1.21871,1.2094,1.29,1.28,1.25,1.09,1.1,1.11,1.23,1.38,1.47],[0.95487,0.91212,0.92,0.93,1.0,1.04,1.07,1.16,1.26,1.38,1.5],[0.7738,1.11004,1.05,1.09,1.17,1.17,1.22,1.24,1.32,1.34,1.37],[1.21892,1.22072,1.29,1.31,1.35,1.24,1.29,1.27,1.28,1.25,1.25],[1.1933,1.0322,0.99,1.0,1.01,1.03,1.06,1.13,1.22,1.24,1.19],[0.46059,0.45547,0.61,0.73,0.84,0.98,1.12,1.08,1.1,1.18,1.26],[0.58994,0.5716,0.63,0.7,0.75,0.77,0.84,0.99,1.05,1.03,1.03],[0.9318,0.95552,0.87,0.85,0.85,0.86,0.96,1.05,1.03,1.01,0.99],[0.45622,0.46343,0.46,0.53,0.63,0.67,0.85,0.88,0.91,1.0,1.0],[0.89265,0.80589,0.83,0.86,0.93,0.93,0.94,0.9,0.91,0.9,0.9],[1.05914,1.04116,0.95,0.9,0.93,0.89,0.71,0.84,0.84,0.88,0.81],[0.64038,0.64,0.7,0.82,0.94,0.92,1.04,1.03,0.95,0.87,0.81],[0.53415,0.64248,0.9,0.94,0.94,0.81,0.91,0.86,0.86,0.86,0.85],[0.29127,0.28366,0.28,0.32,0.41,0.43,0.5,0.59,0.77,0.84,0.92],[0.75573,0.68238,0.6,0.63,0.72,0.74,0.72,0.72,0.77,0.76,0.74],[0.65159,0.6628,0.62,0.49,0.52,0.58,0.61,0.7,0.66,0.74,0.78],[0.64738,0.65641,0.71,0.72,0.71,0.7,0.7,0.72,0.71,0.72,0.73],[0.22273,0.14934,0.25,0.29,0.45,0.64,0.64,0.68,0.71,0.72,0.65],[0.31215,0.30214,0.31,0.35,0.35,0.26,0.42,0.53,0.54,0.53,0.55],[0.11408,0.12359,0.11,0.12,0.13,0.13,0.16,0.28,0.4,0.51,0.55],[0.37229,0.39698,0.53,0.5,0.45,0.42,0.44,0.46,0.48,0.5,0.5],[0.41888,0.32738,0.4,0.34,0.25,0.43,0.52,0.49,0.42,0.49,0.52],[0.3785,0.37267,0.38,0.39,0.41,0.4,0.4,0.4,0.45,0.48,0.48],[0.48534,0.4689,0.47,0.47,0.43,0.42,0.46,0.47,0.48,0.48,0.53],[0.12985,0.14183,0.15,0.17,0.24,0.28,0.32,0.37,0.42,0.46,0.5],[0.33804,0.33638,0.33,0.49,0.54,0.56,0.31,0.33,0.36,0.4,0.38],[0.3025,0.2419,0.29,0.37,0.37,0.4,0.36,0.36,0.35,0.39,0.38],[0.29464,0.30211,0.32,0.37,0.37,0.41,0.47,0.48,0.46,0.39,0.37],[0.46918,0.46419,0.47,0.34,0.36,0.37,0.38,0.39,0.38,0.38,0.4],[0.39072,0.39351,0.37,0.31,0.29,0.27,0.33,0.33,0.35,0.36,0.38],[0.46526,0.27587,0.27,0.29,0.29,0.36,0.2,0.3,0.24,0.31,0.34],[0.20481,0.19895,0.18,0.21,0.23,0.26,0.28,0.31,0.32,0.3,0.31],[0.17185,0.1563,0.17,0.21,0.22,0.23,0.3,0.36,0.33,0.29,0.29],[0.34295,0.32699,0.31,0.3,0.31,0.29,0.28,0.28,0.29,0.29,0.29],[0.27631,0.22879,0.21,0.2,0.21,0.21,0.22,0.23,0.23,0.23,0.22],[0.13441,0.14549,0.17,0.18,0.18,0.2,0.2,0.21,0.23,0.22,0.23],[0.2,0.2,0.3,0.28,0.4,0.4,0.37,0.36,0.21,0.22,0.22],[0.7544,0.80894,0.19,0.17,0.12,0.12,0.21,0.26,0.2,0.22,0.18],[0.08337,0.09427,0.1,0.12,0.13,0.16,0.18,0.19,0.21,0.22,0.22],[0.57399,0.71268,0.16,0.18,0.2,0.21,0.19,0.23,0.24,0.21,0.23],[0.17514,0.14684,0.14,0.15,0.14,0.14,0.14,0.14,0.19,0.19,0.21],[0.24,0.23,0.2,0.18,0.18,0.18,0.15,0.16,0.17,0.17,0.18],[0.20516,0.20374,0.2,0.2,0.19,0.18,0.17,0.17,0.16,0.16,0.17],[0.17189,0.176,0.16,0.17,0.18,0.22,0.12,0.12,0.1,0.14,0.17],[0.13243,0.15541,0.11,0.12,0.12,0.11,0.1,0.11,0.11,0.12,0.12],[0.06918,0.07227,0.07,0.08,0.08,0.09,0.1,0.09,0.09,0.1,0.09],[0.14411,0.14773,0.16,0.16,0.17,0.17,0.17,0.15,0.08,0.09,0.08],[0.23743,0.23133,0.22,0.13,0.17,0.11,0.08,0.1,0.11,0.09,0.09],[0.06239,0.0636,0.06,0.06,0.06,0.07,0.07,0.06,0.07,0.06,0.06],[0.17431,0.17486,0.09,0.04,0.05,0.05,0.05,0.05,0.07,0.06,0.06],[0.03707,0.04186,0.03,0.02,0.03,0.06,0.03,0.04,0.04,0.04,0.04],[0.05228,0.0511,0.05,0.05,0.05,0.04,0.05,0.05,0.05,0.04,0.04],[0.12624,0.12238,0.11,0.17,0.18,0.25,0.04,0.04,0.01,0.01,0.01],[0.00089,0.00151,0.0,0.0,0.0,0.0,0.0,0.0,0.0,0.0,0.0],[0.00857,0.00972,0.01,0.0,0.0,0.0,0.0,0.0,0.0,0.0,0.0],[0.00314,0.00669,0.0,0.01,0.0,0.0,0.0,0.0,0.0,0.0,0.0],[0.01904,0.08965,0.0,0.0,0.0,0.0,0.0,0.0,0.0,0.0,0.0],[0.00184,0.00189,0.0,0.0,0.0,0.0,0.0,0.0,0.0,0.0,0.0],[0.00063,0.00219,0.0,0.0,0.0,0.0,0.0,0.0,0.0,0.0,0.0],[2e-05,2e-05,0.0,0.0,0.0,0.0,0.0,0.0,0.0,0.0,0.0],[0.0,0.0,0.0,0.0,0.0,0.0,0.0,0.0,0.0,0.0,0.0],[null,null,null,null,null,null,null,null,null,null,null]],\"type\":\"heatmap\",\"xaxis\":\"x\",\"yaxis\":\"y\",\"hovertemplate\":\"x: %{x}\\u003cbr\\u003eCountry: %{y}\\u003cbr\\u003ecolor: %{z}\\u003cextra\\u003e\\u003c\\u002fextra\\u003e\"}],                        {\"template\":{\"data\":{\"histogram2dcontour\":[{\"type\":\"histogram2dcontour\",\"colorbar\":{\"outlinewidth\":0,\"ticks\":\"\"},\"colorscale\":[[0.0,\"#0d0887\"],[0.1111111111111111,\"#46039f\"],[0.2222222222222222,\"#7201a8\"],[0.3333333333333333,\"#9c179e\"],[0.4444444444444444,\"#bd3786\"],[0.5555555555555556,\"#d8576b\"],[0.6666666666666666,\"#ed7953\"],[0.7777777777777778,\"#fb9f3a\"],[0.8888888888888888,\"#fdca26\"],[1.0,\"#f0f921\"]]}],\"choropleth\":[{\"type\":\"choropleth\",\"colorbar\":{\"outlinewidth\":0,\"ticks\":\"\"}}],\"histogram2d\":[{\"type\":\"histogram2d\",\"colorbar\":{\"outlinewidth\":0,\"ticks\":\"\"},\"colorscale\":[[0.0,\"#0d0887\"],[0.1111111111111111,\"#46039f\"],[0.2222222222222222,\"#7201a8\"],[0.3333333333333333,\"#9c179e\"],[0.4444444444444444,\"#bd3786\"],[0.5555555555555556,\"#d8576b\"],[0.6666666666666666,\"#ed7953\"],[0.7777777777777778,\"#fb9f3a\"],[0.8888888888888888,\"#fdca26\"],[1.0,\"#f0f921\"]]}],\"heatmap\":[{\"type\":\"heatmap\",\"colorbar\":{\"outlinewidth\":0,\"ticks\":\"\"},\"colorscale\":[[0.0,\"#0d0887\"],[0.1111111111111111,\"#46039f\"],[0.2222222222222222,\"#7201a8\"],[0.3333333333333333,\"#9c179e\"],[0.4444444444444444,\"#bd3786\"],[0.5555555555555556,\"#d8576b\"],[0.6666666666666666,\"#ed7953\"],[0.7777777777777778,\"#fb9f3a\"],[0.8888888888888888,\"#fdca26\"],[1.0,\"#f0f921\"]]}],\"heatmapgl\":[{\"type\":\"heatmapgl\",\"colorbar\":{\"outlinewidth\":0,\"ticks\":\"\"},\"colorscale\":[[0.0,\"#0d0887\"],[0.1111111111111111,\"#46039f\"],[0.2222222222222222,\"#7201a8\"],[0.3333333333333333,\"#9c179e\"],[0.4444444444444444,\"#bd3786\"],[0.5555555555555556,\"#d8576b\"],[0.6666666666666666,\"#ed7953\"],[0.7777777777777778,\"#fb9f3a\"],[0.8888888888888888,\"#fdca26\"],[1.0,\"#f0f921\"]]}],\"contourcarpet\":[{\"type\":\"contourcarpet\",\"colorbar\":{\"outlinewidth\":0,\"ticks\":\"\"}}],\"contour\":[{\"type\":\"contour\",\"colorbar\":{\"outlinewidth\":0,\"ticks\":\"\"},\"colorscale\":[[0.0,\"#0d0887\"],[0.1111111111111111,\"#46039f\"],[0.2222222222222222,\"#7201a8\"],[0.3333333333333333,\"#9c179e\"],[0.4444444444444444,\"#bd3786\"],[0.5555555555555556,\"#d8576b\"],[0.6666666666666666,\"#ed7953\"],[0.7777777777777778,\"#fb9f3a\"],[0.8888888888888888,\"#fdca26\"],[1.0,\"#f0f921\"]]}],\"surface\":[{\"type\":\"surface\",\"colorbar\":{\"outlinewidth\":0,\"ticks\":\"\"},\"colorscale\":[[0.0,\"#0d0887\"],[0.1111111111111111,\"#46039f\"],[0.2222222222222222,\"#7201a8\"],[0.3333333333333333,\"#9c179e\"],[0.4444444444444444,\"#bd3786\"],[0.5555555555555556,\"#d8576b\"],[0.6666666666666666,\"#ed7953\"],[0.7777777777777778,\"#fb9f3a\"],[0.8888888888888888,\"#fdca26\"],[1.0,\"#f0f921\"]]}],\"mesh3d\":[{\"type\":\"mesh3d\",\"colorbar\":{\"outlinewidth\":0,\"ticks\":\"\"}}],\"scatter\":[{\"fillpattern\":{\"fillmode\":\"overlay\",\"size\":10,\"solidity\":0.2},\"type\":\"scatter\"}],\"parcoords\":[{\"type\":\"parcoords\",\"line\":{\"colorbar\":{\"outlinewidth\":0,\"ticks\":\"\"}}}],\"scatterpolargl\":[{\"type\":\"scatterpolargl\",\"marker\":{\"colorbar\":{\"outlinewidth\":0,\"ticks\":\"\"}}}],\"bar\":[{\"error_x\":{\"color\":\"#2a3f5f\"},\"error_y\":{\"color\":\"#2a3f5f\"},\"marker\":{\"line\":{\"color\":\"#E5ECF6\",\"width\":0.5},\"pattern\":{\"fillmode\":\"overlay\",\"size\":10,\"solidity\":0.2}},\"type\":\"bar\"}],\"scattergeo\":[{\"type\":\"scattergeo\",\"marker\":{\"colorbar\":{\"outlinewidth\":0,\"ticks\":\"\"}}}],\"scatterpolar\":[{\"type\":\"scatterpolar\",\"marker\":{\"colorbar\":{\"outlinewidth\":0,\"ticks\":\"\"}}}],\"histogram\":[{\"marker\":{\"pattern\":{\"fillmode\":\"overlay\",\"size\":10,\"solidity\":0.2}},\"type\":\"histogram\"}],\"scattergl\":[{\"type\":\"scattergl\",\"marker\":{\"colorbar\":{\"outlinewidth\":0,\"ticks\":\"\"}}}],\"scatter3d\":[{\"type\":\"scatter3d\",\"line\":{\"colorbar\":{\"outlinewidth\":0,\"ticks\":\"\"}},\"marker\":{\"colorbar\":{\"outlinewidth\":0,\"ticks\":\"\"}}}],\"scattermapbox\":[{\"type\":\"scattermapbox\",\"marker\":{\"colorbar\":{\"outlinewidth\":0,\"ticks\":\"\"}}}],\"scatterternary\":[{\"type\":\"scatterternary\",\"marker\":{\"colorbar\":{\"outlinewidth\":0,\"ticks\":\"\"}}}],\"scattercarpet\":[{\"type\":\"scattercarpet\",\"marker\":{\"colorbar\":{\"outlinewidth\":0,\"ticks\":\"\"}}}],\"carpet\":[{\"aaxis\":{\"endlinecolor\":\"#2a3f5f\",\"gridcolor\":\"white\",\"linecolor\":\"white\",\"minorgridcolor\":\"white\",\"startlinecolor\":\"#2a3f5f\"},\"baxis\":{\"endlinecolor\":\"#2a3f5f\",\"gridcolor\":\"white\",\"linecolor\":\"white\",\"minorgridcolor\":\"white\",\"startlinecolor\":\"#2a3f5f\"},\"type\":\"carpet\"}],\"table\":[{\"cells\":{\"fill\":{\"color\":\"#EBF0F8\"},\"line\":{\"color\":\"white\"}},\"header\":{\"fill\":{\"color\":\"#C8D4E3\"},\"line\":{\"color\":\"white\"}},\"type\":\"table\"}],\"barpolar\":[{\"marker\":{\"line\":{\"color\":\"#E5ECF6\",\"width\":0.5},\"pattern\":{\"fillmode\":\"overlay\",\"size\":10,\"solidity\":0.2}},\"type\":\"barpolar\"}],\"pie\":[{\"automargin\":true,\"type\":\"pie\"}]},\"layout\":{\"autotypenumbers\":\"strict\",\"colorway\":[\"#636efa\",\"#EF553B\",\"#00cc96\",\"#ab63fa\",\"#FFA15A\",\"#19d3f3\",\"#FF6692\",\"#B6E880\",\"#FF97FF\",\"#FECB52\"],\"font\":{\"color\":\"#2a3f5f\"},\"hovermode\":\"closest\",\"hoverlabel\":{\"align\":\"left\"},\"paper_bgcolor\":\"white\",\"plot_bgcolor\":\"#E5ECF6\",\"polar\":{\"bgcolor\":\"#E5ECF6\",\"angularaxis\":{\"gridcolor\":\"white\",\"linecolor\":\"white\",\"ticks\":\"\"},\"radialaxis\":{\"gridcolor\":\"white\",\"linecolor\":\"white\",\"ticks\":\"\"}},\"ternary\":{\"bgcolor\":\"#E5ECF6\",\"aaxis\":{\"gridcolor\":\"white\",\"linecolor\":\"white\",\"ticks\":\"\"},\"baxis\":{\"gridcolor\":\"white\",\"linecolor\":\"white\",\"ticks\":\"\"},\"caxis\":{\"gridcolor\":\"white\",\"linecolor\":\"white\",\"ticks\":\"\"}},\"coloraxis\":{\"colorbar\":{\"outlinewidth\":0,\"ticks\":\"\"}},\"colorscale\":{\"sequential\":[[0.0,\"#0d0887\"],[0.1111111111111111,\"#46039f\"],[0.2222222222222222,\"#7201a8\"],[0.3333333333333333,\"#9c179e\"],[0.4444444444444444,\"#bd3786\"],[0.5555555555555556,\"#d8576b\"],[0.6666666666666666,\"#ed7953\"],[0.7777777777777778,\"#fb9f3a\"],[0.8888888888888888,\"#fdca26\"],[1.0,\"#f0f921\"]],\"sequentialminus\":[[0.0,\"#0d0887\"],[0.1111111111111111,\"#46039f\"],[0.2222222222222222,\"#7201a8\"],[0.3333333333333333,\"#9c179e\"],[0.4444444444444444,\"#bd3786\"],[0.5555555555555556,\"#d8576b\"],[0.6666666666666666,\"#ed7953\"],[0.7777777777777778,\"#fb9f3a\"],[0.8888888888888888,\"#fdca26\"],[1.0,\"#f0f921\"]],\"diverging\":[[0,\"#8e0152\"],[0.1,\"#c51b7d\"],[0.2,\"#de77ae\"],[0.3,\"#f1b6da\"],[0.4,\"#fde0ef\"],[0.5,\"#f7f7f7\"],[0.6,\"#e6f5d0\"],[0.7,\"#b8e186\"],[0.8,\"#7fbc41\"],[0.9,\"#4d9221\"],[1,\"#276419\"]]},\"xaxis\":{\"gridcolor\":\"white\",\"linecolor\":\"white\",\"ticks\":\"\",\"title\":{\"standoff\":15},\"zerolinecolor\":\"white\",\"automargin\":true,\"zerolinewidth\":2},\"yaxis\":{\"gridcolor\":\"white\",\"linecolor\":\"white\",\"ticks\":\"\",\"title\":{\"standoff\":15},\"zerolinecolor\":\"white\",\"automargin\":true,\"zerolinewidth\":2},\"scene\":{\"xaxis\":{\"backgroundcolor\":\"#E5ECF6\",\"gridcolor\":\"white\",\"linecolor\":\"white\",\"showbackground\":true,\"ticks\":\"\",\"zerolinecolor\":\"white\",\"gridwidth\":2},\"yaxis\":{\"backgroundcolor\":\"#E5ECF6\",\"gridcolor\":\"white\",\"linecolor\":\"white\",\"showbackground\":true,\"ticks\":\"\",\"zerolinecolor\":\"white\",\"gridwidth\":2},\"zaxis\":{\"backgroundcolor\":\"#E5ECF6\",\"gridcolor\":\"white\",\"linecolor\":\"white\",\"showbackground\":true,\"ticks\":\"\",\"zerolinecolor\":\"white\",\"gridwidth\":2}},\"shapedefaults\":{\"line\":{\"color\":\"#2a3f5f\"}},\"annotationdefaults\":{\"arrowcolor\":\"#2a3f5f\",\"arrowhead\":0,\"arrowwidth\":1},\"geo\":{\"bgcolor\":\"white\",\"landcolor\":\"#E5ECF6\",\"subunitcolor\":\"white\",\"showland\":true,\"showlakes\":true,\"lakecolor\":\"white\"},\"title\":{\"x\":0.05},\"mapbox\":{\"style\":\"light\"}}},\"xaxis\":{\"anchor\":\"y\",\"domain\":[0.0,1.0],\"scaleanchor\":\"x\",\"constrain\":\"domain\",\"scaleratio\":1,\"showgrid\":false,\"zeroline\":false},\"yaxis\":{\"anchor\":\"x\",\"domain\":[0.0,1.0],\"autorange\":\"reversed\",\"constrain\":\"domain\",\"title\":{\"text\":\"Country\"},\"showgrid\":false,\"zeroline\":false},\"coloraxis\":{\"colorscale\":[[0.0,\"rgb(158,1,66)\"],[0.1,\"rgb(213,62,79)\"],[0.2,\"rgb(244,109,67)\"],[0.3,\"rgb(253,174,97)\"],[0.4,\"rgb(254,224,139)\"],[0.5,\"rgb(255,255,191)\"],[0.6,\"rgb(230,245,152)\"],[0.7,\"rgb(171,221,164)\"],[0.8,\"rgb(102,194,165)\"],[0.9,\"rgb(50,136,189)\"],[1.0,\"rgb(94,79,162)\"]],\"showscale\":false},\"margin\":{\"t\":60},\"title\":{\"text\":\"BCPC\",\"x\":0.73},\"height\":650,\"width\":200,\"font\":{\"color\":\"black\"},\"legend\":{\"font\":{\"color\":\"black\"},\"title\":{\"font\":{\"color\":\"black\"}},\"bgcolor\":\"#FBEEAC\"},\"paper_bgcolor\":\"#FBEEAC\",\"plot_bgcolor\":\"tan\",\"clickmode\":\"select\"},                        {\"responsive\": true}                    ).then(function(){\n",
       "                            \n",
       "var gd = document.getElementById('d1e24ad4-5c95-4123-a80b-400ed8bdb2bc');\n",
       "var x = new MutationObserver(function (mutations, observer) {{\n",
       "        var display = window.getComputedStyle(gd).display;\n",
       "        if (!display || display === 'none') {{\n",
       "            console.log([gd, 'removed!']);\n",
       "            Plotly.purge(gd);\n",
       "            observer.disconnect();\n",
       "        }}\n",
       "}});\n",
       "\n",
       "// Listen for the removal of the full notebook cells\n",
       "var notebookContainer = gd.closest('#notebook-container');\n",
       "if (notebookContainer) {{\n",
       "    x.observe(notebookContainer, {childList: true});\n",
       "}}\n",
       "\n",
       "// Listen for the clearing of the current output cell\n",
       "var outputEl = gd.closest('.output');\n",
       "if (outputEl) {{\n",
       "    x.observe(outputEl, {childList: true});\n",
       "}}\n",
       "\n",
       "                        })                };                });            </script>        </div>"
      ]
     },
     "metadata": {},
     "output_type": "display_data"
    }
   ],
   "source": [
    "import plotly.express as px\n",
    "import plotly.graph_objs as go\n",
    "\n",
    "# static\n",
    "\n",
    "def fig_A_heatmap():\n",
    "    return px.imshow(beer.sort_values(by=2017, ascending=False), color_continuous_scale=\"Spectral\", text_auto=False).update_coloraxes(showscale=False).update_xaxes(scaleanchor=\"x\", scaleratio=1).update_layout({\n",
    "        \"height\":650, \"width\": 200, \"title\": {\"text\": \"BCPC\", \"x\":0.73}})\n",
    "layout_func(fig_A_heatmap())"
   ]
  },
  {
   "cell_type": "code",
   "execution_count": 114,
   "id": "75fad64f-4944-4949-86ea-8815d1f1aafa",
   "metadata": {},
   "outputs": [
    {
     "data": {
      "application/vnd.plotly.v1+json": {
       "config": {
        "plotlyServerURL": "https://plot.ly"
       },
       "data": [
        {
         "hovertemplate": "<b>%{hovertext}</b><br><br>x=%{x}<br>y=%{y}<br>size=%{marker.size}<br>color=%{marker.color}<extra></extra>",
         "hovertext": [
          "Afghanistan",
          "Albania",
          "Algeria",
          "Angola",
          "Argentina",
          "Armenia",
          "Australia",
          "Austria",
          "Azerbaijan",
          "Bahrain",
          "Bangladesh",
          "Belarus",
          "Belgium",
          "Belize",
          "Benin",
          "Bhutan",
          "Bolivia",
          "Bosnia and Herzegovina",
          "Botswana",
          "Brazil",
          "Bulgaria",
          "Burkina Faso",
          "Burundi",
          "Cambodia",
          "Cameroon",
          "Canada",
          "Central African Republic",
          "Chad",
          "Chile",
          "China",
          "Colombia",
          "Comoros",
          "Costa Rica",
          "Croatia",
          "Cuba",
          "Cyprus",
          "Denmark",
          "Djibouti",
          "Dominican Republic",
          "Ecuador",
          "El Salvador",
          "Estonia",
          "Ethiopia",
          "Finland",
          "France",
          "Gabon",
          "Georgia",
          "Germany",
          "Ghana",
          "Greece",
          "Guatemala",
          "Guinea",
          "Guyana",
          "Haiti",
          "Honduras",
          "Hungary",
          "Iceland",
          "India",
          "Indonesia",
          "Iraq",
          "Ireland",
          "Israel",
          "Italy",
          "Jamaica",
          "Japan",
          "Jordan",
          "Kazakhstan",
          "Kenya",
          "Kuwait",
          "Latvia",
          "Lebanon",
          "Lesotho",
          "Liberia",
          "Libya",
          "Lithuania",
          "Luxembourg",
          "Madagascar",
          "Malawi",
          "Malaysia",
          "Mali",
          "Malta",
          "Mauritania",
          "Mauritius",
          "Mexico",
          "Moldova",
          "Mongolia",
          "Montenegro",
          "Morocco",
          "Mozambique",
          "Myanmar",
          "Namibia",
          "Nepal",
          "Netherlands",
          "New Zealand",
          "Nicaragua",
          "Niger",
          "Nigeria",
          "Norway",
          "Oman",
          "Pakistan",
          "Panama",
          "Paraguay",
          "Peru",
          "Philippines",
          "Poland",
          "Portugal",
          "Qatar",
          "Romania",
          "Rwanda",
          "Saudi Arabia",
          "Senegal",
          "Serbia",
          "Sierra Leone",
          "Singapore",
          "Slovenia",
          "Somalia",
          "South Africa",
          "Spain",
          "Sri Lanka",
          "Sudan",
          "Suriname",
          "Sweden",
          "Switzerland",
          "Tajikistan",
          "Tanzania",
          "Thailand",
          "Togo",
          "Trinidad and Tobago",
          "Tunisia",
          "Turkmenistan",
          "Uganda",
          "Ukraine",
          "United Arab Emirates",
          "United Kingdom",
          "United States",
          "Uruguay",
          "Uzbekistan",
          "Zambia",
          "Zimbabwe",
          "Average"
         ],
         "legendgroup": "",
         "marker": {
          "color": [
           0,
           1.64,
           0.3,
           3.65,
           3.62,
           0.49,
           3.68,
           6.1,
           0.31,
           0.38,
           0,
           2.05,
           4.42,
           3.91,
           0.87,
           0.01,
           2.26,
           4.01,
           2.93,
           3.86,
           4.32,
           1,
           1.94,
           3.85,
           2.42,
           3.6,
           0.53,
           0.39,
           2.73,
           1.66,
           3.05,
           0.04,
           2.36,
           4.65,
           1.74,
           2.85,
           3.44,
           0.09,
           3,
           2.28,
           1.38,
           4.93,
           0.84,
           4.04,
           2.3,
           5.63,
           1.6,
           5.66,
           0.48,
           2.05,
           0.9,
           0.29,
           2.7,
           0.51,
           1.48,
           3.96,
           4.42,
           0.22,
           0.06,
           0.12,
           5.05,
           1.66,
           1.88,
           1.24,
           1.45,
           0.06,
           2.17,
           0.88,
           0,
           5.3,
           0.36,
           1.67,
           0.4,
           0,
           4.79,
           3.98,
           0.5,
           0.09,
           0.48,
           0.1,
           2.78,
           0,
           1.85,
           3.72,
           1.51,
           2.04,
           3.71,
           0.17,
           1.03,
           0.46,
           1.34,
           0.22,
           4.02,
           3.34,
           1.6,
           0.04,
           0.72,
           2.63,
           0.16,
           0,
           5.4,
           3.23,
           3.09,
           1.38,
           5.78,
           2.62,
           0.29,
           5.28,
           0.21,
           0,
           0.19,
           3.12,
           0.14,
           1.25,
           4.59,
           0,
           3.96,
           4.5,
           0.22,
           null,
           3.33,
           2.57,
           3.05,
           0.39,
           0.76,
           2.29,
           0.74,
           2.92,
           1.01,
           0.72,
           0.86,
           2.43,
           0.23,
           3.42,
           4.01,
           1.96,
           0.22,
           1.18,
           1.93,
           2.004855072463768
          ],
          "coloraxis": "coloraxis",
          "line": {
           "color": "black",
           "width": 1
          },
          "size": [
           356434180,
           28734570,
           411365460,
           302086280,
           440448110,
           28519230,
           245925880,
           87975660,
           98540330,
           14568340,
           1617939640,
           94589890,
           113751580,
           3746930,
           115967790,
           7561210,
           114355330,
           34400270,
           24018400,
           2085049600,
           70759470,
           198358580,
           111555930,
           158306890,
           243931810,
           365450750,
           49967410,
           150858840,
           183685770,
           13962150000,
           483516710,
           7616640,
           49938420,
           41245310,
           113364050,
           12085230,
           57649800,
           10402330,
           106472440,
           166969440,
           62666540,
           13173840,
           1081979500,
           55082140,
           669180200,
           21402150,
           37280040,
           826570020,
           302222620,
           107546790,
           160874180,
           122407890,
           7632520,
           108635430,
           96268420,
           97879660,
           3434000,
           13541956800,
           2644988520,
           396211620,
           48073880,
           87133000,
           605367090,
           28083760,
           1269720000,
           102153810,
           180377760,
           489481370,
           41249040,
           19422480,
           61092520,
           21706170,
           47966310,
           63782610,
           28284030,
           5963360,
           261695420,
           178811670,
           319758060,
           193113550,
           4679990,
           41600150,
           12648870,
           1228392580,
           27551890,
           30960300,
           6223730,
           355281150,
           285694410,
           522883410,
           23645340,
           281834260,
           171312960,
           48136000,
           64805320,
           217379220,
           1934959070,
           52769680,
           45418540,
           2163796550,
           40960630,
           63554040,
           316054860,
           1067385010,
           379748260,
           103003000,
           27117550,
           195887150,
           122303390,
           341931220,
           151577930,
           70208580,
           76775650,
           56122530,
           20663880,
           148642210,
           566412090,
           465932360,
           215068130,
           406798280,
           5875590,
           100576980,
           84518400,
           89255250,
           562670320,
           708982020,
           78527950,
           14786070,
           118114430,
           59683830,
           401270850,
           448807580,
           90682960,
           660588590,
           3251221280,
           34222000,
           323886000,
           172980540,
           147511010,
           481231475.4676259
          ],
          "sizemode": "area",
          "sizeref": 3490537.5,
          "symbol": "circle"
         },
         "mode": "markers",
         "name": "",
         "orientation": "v",
         "showlegend": false,
         "type": "scatter",
         "x": [
          0,
          1.64,
          0.3,
          3.65,
          3.62,
          0.49,
          3.68,
          6.1,
          0.31,
          0.38,
          0,
          2.05,
          4.42,
          3.91,
          0.87,
          0.01,
          2.26,
          4.01,
          2.93,
          3.86,
          4.32,
          1,
          1.94,
          3.85,
          2.42,
          3.6,
          0.53,
          0.39,
          2.73,
          1.66,
          3.05,
          0.04,
          2.36,
          4.65,
          1.74,
          2.85,
          3.44,
          0.09,
          3,
          2.28,
          1.38,
          4.93,
          0.84,
          4.04,
          2.3,
          5.63,
          1.6,
          5.66,
          0.48,
          2.05,
          0.9,
          0.29,
          2.7,
          0.51,
          1.48,
          3.96,
          4.42,
          0.22,
          0.06,
          0.12,
          5.05,
          1.66,
          1.88,
          1.24,
          1.45,
          0.06,
          2.17,
          0.88,
          0,
          5.3,
          0.36,
          1.67,
          0.4,
          0,
          4.79,
          3.98,
          0.5,
          0.09,
          0.48,
          0.1,
          2.78,
          0,
          1.85,
          3.72,
          1.51,
          2.04,
          3.71,
          0.17,
          1.03,
          0.46,
          1.34,
          0.22,
          4.02,
          3.34,
          1.6,
          0.04,
          0.72,
          2.63,
          0.16,
          0,
          5.4,
          3.23,
          3.09,
          1.38,
          5.78,
          2.62,
          0.29,
          5.28,
          0.21,
          0,
          0.19,
          3.12,
          0.14,
          1.25,
          4.59,
          0,
          3.96,
          4.5,
          0.22,
          null,
          3.33,
          2.57,
          3.05,
          0.39,
          0.76,
          2.29,
          0.74,
          2.92,
          1.01,
          0.72,
          0.86,
          2.43,
          0.23,
          3.42,
          4.01,
          1.96,
          0.22,
          1.18,
          1.93,
          2.004855072463768
         ],
         "xaxis": "x",
         "y": [
          -1.886565924,
          0.299944997,
          -0.927691162,
          null,
          0.351303786,
          -0.633139133,
          1.140083551,
          1.189480543,
          -1.162632823,
          -1.167433977,
          -0.93284297,
          -0.66446048,
          0.904255331,
          null,
          0.211715877,
          null,
          -0.16441147,
          -0.29460907,
          0.706385911,
          0.023793146,
          0.375986755,
          -0.433187962,
          null,
          -0.493880957,
          -1.06689775,
          1.295283794,
          -1.523121834,
          -1.356479883,
          0.688375235,
          -0.87781024,
          -0.33744511,
          null,
          0.815186501,
          0.628294408,
          null,
          0.827816248,
          1.190443397,
          null,
          0.158870548,
          -0.137001991,
          -0.046964772,
          0.93688798,
          -1.564677238,
          1.311007023,
          0.67997849,
          -0.571620047,
          -0.054174274,
          0.982752085,
          0.339194328,
          0.291475028,
          -0.427182585,
          -0.673567533,
          null,
          -0.720903516,
          -0.496900558,
          0.589618564,
          1.374495268,
          -0.22030808,
          -0.190967619,
          -1.689633727,
          1.155644417,
          -0.091396242,
          0.645315766,
          0.47238034,
          1.064277649,
          -0.625526786,
          -0.605611205,
          -0.643422961,
          -0.323726535,
          0.628388107,
          -1.085361362,
          -0.105936453,
          -0.216689959,
          -1.884452581,
          0.882906199,
          1.42865932,
          -0.337169588,
          -0.151014924,
          null,
          -1.083188891,
          1.217456341,
          -0.709610879,
          0.892901719,
          -0.362546623,
          -0.134786367,
          0.554071605,
          0.068295658,
          -0.53093636,
          -0.699048221,
          -0.974802852,
          0.598779202,
          -0.448143601,
          1.242932796,
          1.575009227,
          -0.382219225,
          -0.858492196,
          -1.142486572,
          1.422639132,
          null,
          -1.546954513,
          0.455257624,
          0.037547644,
          0.008478746,
          -0.577247143,
          0.651249409,
          1.14347434,
          null,
          0.287310094,
          -0.54128325,
          -1.148168445,
          0.135668606,
          0.109036274,
          -0.091980204,
          0.708121538,
          0.949709475,
          null,
          0.184953198,
          0.648078322,
          -0.061903223,
          null,
          null,
          1.276802063,
          1.382011414,
          -1.195175648,
          -0.435422927,
          -0.902155161,
          -0.68079555,
          0.420911133,
          -0.436561465,
          -1.153553963,
          -0.575335741,
          -0.9363603,
          -0.234493166,
          0.797514439,
          0.677055538,
          1.114635468,
          -1.037155151,
          -0.114061393,
          -0.988153279,
          -0.036957935944
         ],
         "yaxis": "y"
        }
       ],
       "layout": {
        "autosize": true,
        "clickmode": "select",
        "coloraxis": {
         "colorbar": {
          "title": {
           "text": "color"
          }
         },
         "colorscale": [
          [
           0,
           "rgb(158,1,66)"
          ],
          [
           0.1,
           "rgb(213,62,79)"
          ],
          [
           0.2,
           "rgb(244,109,67)"
          ],
          [
           0.3,
           "rgb(253,174,97)"
          ],
          [
           0.4,
           "rgb(254,224,139)"
          ],
          [
           0.5,
           "rgb(255,255,191)"
          ],
          [
           0.6,
           "rgb(230,245,152)"
          ],
          [
           0.7,
           "rgb(171,221,164)"
          ],
          [
           0.8,
           "rgb(102,194,165)"
          ],
          [
           0.9,
           "rgb(50,136,189)"
          ],
          [
           1,
           "rgb(94,79,162)"
          ]
         ],
         "showscale": false
        },
        "font": {
         "color": "black"
        },
        "legend": {
         "bgcolor": "white",
         "font": {
          "color": "black"
         },
         "itemsizing": "constant",
         "title": {
          "font": {
           "color": "black"
          }
         },
         "tracegroupgap": 0
        },
        "margin": {
         "t": 60
        },
        "paper_bgcolor": "white",
        "plot_bgcolor": "white",
        "template": {
         "data": {
          "bar": [
           {
            "error_x": {
             "color": "#2a3f5f"
            },
            "error_y": {
             "color": "#2a3f5f"
            },
            "marker": {
             "line": {
              "color": "#E5ECF6",
              "width": 0.5
             },
             "pattern": {
              "fillmode": "overlay",
              "size": 10,
              "solidity": 0.2
             }
            },
            "type": "bar"
           }
          ],
          "barpolar": [
           {
            "marker": {
             "line": {
              "color": "#E5ECF6",
              "width": 0.5
             },
             "pattern": {
              "fillmode": "overlay",
              "size": 10,
              "solidity": 0.2
             }
            },
            "type": "barpolar"
           }
          ],
          "carpet": [
           {
            "aaxis": {
             "endlinecolor": "#2a3f5f",
             "gridcolor": "white",
             "linecolor": "white",
             "minorgridcolor": "white",
             "startlinecolor": "#2a3f5f"
            },
            "baxis": {
             "endlinecolor": "#2a3f5f",
             "gridcolor": "white",
             "linecolor": "white",
             "minorgridcolor": "white",
             "startlinecolor": "#2a3f5f"
            },
            "type": "carpet"
           }
          ],
          "choropleth": [
           {
            "colorbar": {
             "outlinewidth": 0,
             "ticks": ""
            },
            "type": "choropleth"
           }
          ],
          "contour": [
           {
            "colorbar": {
             "outlinewidth": 0,
             "ticks": ""
            },
            "colorscale": [
             [
              0,
              "#0d0887"
             ],
             [
              0.1111111111111111,
              "#46039f"
             ],
             [
              0.2222222222222222,
              "#7201a8"
             ],
             [
              0.3333333333333333,
              "#9c179e"
             ],
             [
              0.4444444444444444,
              "#bd3786"
             ],
             [
              0.5555555555555556,
              "#d8576b"
             ],
             [
              0.6666666666666666,
              "#ed7953"
             ],
             [
              0.7777777777777778,
              "#fb9f3a"
             ],
             [
              0.8888888888888888,
              "#fdca26"
             ],
             [
              1,
              "#f0f921"
             ]
            ],
            "type": "contour"
           }
          ],
          "contourcarpet": [
           {
            "colorbar": {
             "outlinewidth": 0,
             "ticks": ""
            },
            "type": "contourcarpet"
           }
          ],
          "heatmap": [
           {
            "colorbar": {
             "outlinewidth": 0,
             "ticks": ""
            },
            "colorscale": [
             [
              0,
              "#0d0887"
             ],
             [
              0.1111111111111111,
              "#46039f"
             ],
             [
              0.2222222222222222,
              "#7201a8"
             ],
             [
              0.3333333333333333,
              "#9c179e"
             ],
             [
              0.4444444444444444,
              "#bd3786"
             ],
             [
              0.5555555555555556,
              "#d8576b"
             ],
             [
              0.6666666666666666,
              "#ed7953"
             ],
             [
              0.7777777777777778,
              "#fb9f3a"
             ],
             [
              0.8888888888888888,
              "#fdca26"
             ],
             [
              1,
              "#f0f921"
             ]
            ],
            "type": "heatmap"
           }
          ],
          "heatmapgl": [
           {
            "colorbar": {
             "outlinewidth": 0,
             "ticks": ""
            },
            "colorscale": [
             [
              0,
              "#0d0887"
             ],
             [
              0.1111111111111111,
              "#46039f"
             ],
             [
              0.2222222222222222,
              "#7201a8"
             ],
             [
              0.3333333333333333,
              "#9c179e"
             ],
             [
              0.4444444444444444,
              "#bd3786"
             ],
             [
              0.5555555555555556,
              "#d8576b"
             ],
             [
              0.6666666666666666,
              "#ed7953"
             ],
             [
              0.7777777777777778,
              "#fb9f3a"
             ],
             [
              0.8888888888888888,
              "#fdca26"
             ],
             [
              1,
              "#f0f921"
             ]
            ],
            "type": "heatmapgl"
           }
          ],
          "histogram": [
           {
            "marker": {
             "pattern": {
              "fillmode": "overlay",
              "size": 10,
              "solidity": 0.2
             }
            },
            "type": "histogram"
           }
          ],
          "histogram2d": [
           {
            "colorbar": {
             "outlinewidth": 0,
             "ticks": ""
            },
            "colorscale": [
             [
              0,
              "#0d0887"
             ],
             [
              0.1111111111111111,
              "#46039f"
             ],
             [
              0.2222222222222222,
              "#7201a8"
             ],
             [
              0.3333333333333333,
              "#9c179e"
             ],
             [
              0.4444444444444444,
              "#bd3786"
             ],
             [
              0.5555555555555556,
              "#d8576b"
             ],
             [
              0.6666666666666666,
              "#ed7953"
             ],
             [
              0.7777777777777778,
              "#fb9f3a"
             ],
             [
              0.8888888888888888,
              "#fdca26"
             ],
             [
              1,
              "#f0f921"
             ]
            ],
            "type": "histogram2d"
           }
          ],
          "histogram2dcontour": [
           {
            "colorbar": {
             "outlinewidth": 0,
             "ticks": ""
            },
            "colorscale": [
             [
              0,
              "#0d0887"
             ],
             [
              0.1111111111111111,
              "#46039f"
             ],
             [
              0.2222222222222222,
              "#7201a8"
             ],
             [
              0.3333333333333333,
              "#9c179e"
             ],
             [
              0.4444444444444444,
              "#bd3786"
             ],
             [
              0.5555555555555556,
              "#d8576b"
             ],
             [
              0.6666666666666666,
              "#ed7953"
             ],
             [
              0.7777777777777778,
              "#fb9f3a"
             ],
             [
              0.8888888888888888,
              "#fdca26"
             ],
             [
              1,
              "#f0f921"
             ]
            ],
            "type": "histogram2dcontour"
           }
          ],
          "mesh3d": [
           {
            "colorbar": {
             "outlinewidth": 0,
             "ticks": ""
            },
            "type": "mesh3d"
           }
          ],
          "parcoords": [
           {
            "line": {
             "colorbar": {
              "outlinewidth": 0,
              "ticks": ""
             }
            },
            "type": "parcoords"
           }
          ],
          "pie": [
           {
            "automargin": true,
            "type": "pie"
           }
          ],
          "scatter": [
           {
            "fillpattern": {
             "fillmode": "overlay",
             "size": 10,
             "solidity": 0.2
            },
            "type": "scatter"
           }
          ],
          "scatter3d": [
           {
            "line": {
             "colorbar": {
              "outlinewidth": 0,
              "ticks": ""
             }
            },
            "marker": {
             "colorbar": {
              "outlinewidth": 0,
              "ticks": ""
             }
            },
            "type": "scatter3d"
           }
          ],
          "scattercarpet": [
           {
            "marker": {
             "colorbar": {
              "outlinewidth": 0,
              "ticks": ""
             }
            },
            "type": "scattercarpet"
           }
          ],
          "scattergeo": [
           {
            "marker": {
             "colorbar": {
              "outlinewidth": 0,
              "ticks": ""
             }
            },
            "type": "scattergeo"
           }
          ],
          "scattergl": [
           {
            "marker": {
             "colorbar": {
              "outlinewidth": 0,
              "ticks": ""
             }
            },
            "type": "scattergl"
           }
          ],
          "scattermapbox": [
           {
            "marker": {
             "colorbar": {
              "outlinewidth": 0,
              "ticks": ""
             }
            },
            "type": "scattermapbox"
           }
          ],
          "scatterpolar": [
           {
            "marker": {
             "colorbar": {
              "outlinewidth": 0,
              "ticks": ""
             }
            },
            "type": "scatterpolar"
           }
          ],
          "scatterpolargl": [
           {
            "marker": {
             "colorbar": {
              "outlinewidth": 0,
              "ticks": ""
             }
            },
            "type": "scatterpolargl"
           }
          ],
          "scatterternary": [
           {
            "marker": {
             "colorbar": {
              "outlinewidth": 0,
              "ticks": ""
             }
            },
            "type": "scatterternary"
           }
          ],
          "surface": [
           {
            "colorbar": {
             "outlinewidth": 0,
             "ticks": ""
            },
            "colorscale": [
             [
              0,
              "#0d0887"
             ],
             [
              0.1111111111111111,
              "#46039f"
             ],
             [
              0.2222222222222222,
              "#7201a8"
             ],
             [
              0.3333333333333333,
              "#9c179e"
             ],
             [
              0.4444444444444444,
              "#bd3786"
             ],
             [
              0.5555555555555556,
              "#d8576b"
             ],
             [
              0.6666666666666666,
              "#ed7953"
             ],
             [
              0.7777777777777778,
              "#fb9f3a"
             ],
             [
              0.8888888888888888,
              "#fdca26"
             ],
             [
              1,
              "#f0f921"
             ]
            ],
            "type": "surface"
           }
          ],
          "table": [
           {
            "cells": {
             "fill": {
              "color": "#EBF0F8"
             },
             "line": {
              "color": "white"
             }
            },
            "header": {
             "fill": {
              "color": "#C8D4E3"
             },
             "line": {
              "color": "white"
             }
            },
            "type": "table"
           }
          ]
         },
         "layout": {
          "annotationdefaults": {
           "arrowcolor": "#2a3f5f",
           "arrowhead": 0,
           "arrowwidth": 1
          },
          "autotypenumbers": "strict",
          "coloraxis": {
           "colorbar": {
            "outlinewidth": 0,
            "ticks": ""
           }
          },
          "colorscale": {
           "diverging": [
            [
             0,
             "#8e0152"
            ],
            [
             0.1,
             "#c51b7d"
            ],
            [
             0.2,
             "#de77ae"
            ],
            [
             0.3,
             "#f1b6da"
            ],
            [
             0.4,
             "#fde0ef"
            ],
            [
             0.5,
             "#f7f7f7"
            ],
            [
             0.6,
             "#e6f5d0"
            ],
            [
             0.7,
             "#b8e186"
            ],
            [
             0.8,
             "#7fbc41"
            ],
            [
             0.9,
             "#4d9221"
            ],
            [
             1,
             "#276419"
            ]
           ],
           "sequential": [
            [
             0,
             "#0d0887"
            ],
            [
             0.1111111111111111,
             "#46039f"
            ],
            [
             0.2222222222222222,
             "#7201a8"
            ],
            [
             0.3333333333333333,
             "#9c179e"
            ],
            [
             0.4444444444444444,
             "#bd3786"
            ],
            [
             0.5555555555555556,
             "#d8576b"
            ],
            [
             0.6666666666666666,
             "#ed7953"
            ],
            [
             0.7777777777777778,
             "#fb9f3a"
            ],
            [
             0.8888888888888888,
             "#fdca26"
            ],
            [
             1,
             "#f0f921"
            ]
           ],
           "sequentialminus": [
            [
             0,
             "#0d0887"
            ],
            [
             0.1111111111111111,
             "#46039f"
            ],
            [
             0.2222222222222222,
             "#7201a8"
            ],
            [
             0.3333333333333333,
             "#9c179e"
            ],
            [
             0.4444444444444444,
             "#bd3786"
            ],
            [
             0.5555555555555556,
             "#d8576b"
            ],
            [
             0.6666666666666666,
             "#ed7953"
            ],
            [
             0.7777777777777778,
             "#fb9f3a"
            ],
            [
             0.8888888888888888,
             "#fdca26"
            ],
            [
             1,
             "#f0f921"
            ]
           ]
          },
          "colorway": [
           "#636efa",
           "#EF553B",
           "#00cc96",
           "#ab63fa",
           "#FFA15A",
           "#19d3f3",
           "#FF6692",
           "#B6E880",
           "#FF97FF",
           "#FECB52"
          ],
          "font": {
           "color": "#2a3f5f"
          },
          "geo": {
           "bgcolor": "white",
           "lakecolor": "white",
           "landcolor": "#E5ECF6",
           "showlakes": true,
           "showland": true,
           "subunitcolor": "white"
          },
          "hoverlabel": {
           "align": "left"
          },
          "hovermode": "closest",
          "mapbox": {
           "style": "light"
          },
          "paper_bgcolor": "white",
          "plot_bgcolor": "#E5ECF6",
          "polar": {
           "angularaxis": {
            "gridcolor": "white",
            "linecolor": "white",
            "ticks": ""
           },
           "bgcolor": "#E5ECF6",
           "radialaxis": {
            "gridcolor": "white",
            "linecolor": "white",
            "ticks": ""
           }
          },
          "scene": {
           "xaxis": {
            "backgroundcolor": "#E5ECF6",
            "gridcolor": "white",
            "gridwidth": 2,
            "linecolor": "white",
            "showbackground": true,
            "ticks": "",
            "zerolinecolor": "white"
           },
           "yaxis": {
            "backgroundcolor": "#E5ECF6",
            "gridcolor": "white",
            "gridwidth": 2,
            "linecolor": "white",
            "showbackground": true,
            "ticks": "",
            "zerolinecolor": "white"
           },
           "zaxis": {
            "backgroundcolor": "#E5ECF6",
            "gridcolor": "white",
            "gridwidth": 2,
            "linecolor": "white",
            "showbackground": true,
            "ticks": "",
            "zerolinecolor": "white"
           }
          },
          "shapedefaults": {
           "line": {
            "color": "#2a3f5f"
           }
          },
          "ternary": {
           "aaxis": {
            "gridcolor": "white",
            "linecolor": "white",
            "ticks": ""
           },
           "baxis": {
            "gridcolor": "white",
            "linecolor": "white",
            "ticks": ""
           },
           "bgcolor": "#E5ECF6",
           "caxis": {
            "gridcolor": "white",
            "linecolor": "white",
            "ticks": ""
           }
          },
          "title": {
           "x": 0.05
          },
          "xaxis": {
           "automargin": true,
           "gridcolor": "white",
           "linecolor": "white",
           "ticks": "",
           "title": {
            "standoff": 15
           },
           "zerolinecolor": "white",
           "zerolinewidth": 2
          },
          "yaxis": {
           "automargin": true,
           "gridcolor": "white",
           "linecolor": "white",
           "ticks": "",
           "title": {
            "standoff": 15
           },
           "zerolinecolor": "white",
           "zerolinewidth": 2
          }
         }
        },
        "title": {
         "text": "Beer Consumption Per Capita by Democratic Qualty and Population Size"
        },
        "xaxis": {
         "anchor": "y",
         "autorange": true,
         "domain": [
          0,
          1
         ],
         "linecolor": "lightgrey",
         "linewidth": 2,
         "mirror": false,
         "range": [
          -0.4837079042062604,
          6.4753253210396124
         ],
         "showline": true,
         "title": {
          "text": "x"
         },
         "type": "linear"
        },
        "yaxis": {
         "anchor": "x",
         "autorange": true,
         "domain": [
          0,
          1
         ],
         "linecolor": "lightgrey",
         "linewidth": 2,
         "mirror": false,
         "range": [
          -2.2380491343571824,
          1.834149115635925
         ],
         "showline": true,
         "title": {
          "text": "y"
         },
         "type": "linear"
        }
       }
      },
      "image/png": "[encoded data removed]",
      "text/html": [
       "<div>                            <div id=\"754029fa-0fbe-4f29-b1af-f4ff49d08708\" class=\"plotly-graph-div\" style=\"height:525px; width:100%;\"></div>            <script type=\"text/javascript\">                require([\"plotly\"], function(Plotly) {                    window.PLOTLYENV=window.PLOTLYENV || {};                                    if (document.getElementById(\"754029fa-0fbe-4f29-b1af-f4ff49d08708\")) {                    Plotly.newPlot(                        \"754029fa-0fbe-4f29-b1af-f4ff49d08708\",                        [{\"hovertemplate\":\"\\u003cb\\u003e%{hovertext}\\u003c\\u002fb\\u003e\\u003cbr\\u003e\\u003cbr\\u003ex=%{x}\\u003cbr\\u003ey=%{y}\\u003cbr\\u003esize=%{marker.size}\\u003cbr\\u003ecolor=%{marker.color}\\u003cextra\\u003e\\u003c\\u002fextra\\u003e\",\"hovertext\":[\"Afghanistan\",\"Albania\",\"Algeria\",\"Angola\",\"Argentina\",\"Armenia\",\"Australia\",\"Austria\",\"Azerbaijan\",\"Bahrain\",\"Bangladesh\",\"Belarus\",\"Belgium\",\"Belize\",\"Benin\",\"Bhutan\",\"Bolivia\",\"Bosnia and Herzegovina\",\"Botswana\",\"Brazil\",\"Bulgaria\",\"Burkina Faso\",\"Burundi\",\"Cambodia\",\"Cameroon\",\"Canada\",\"Central African Republic\",\"Chad\",\"Chile\",\"China\",\"Colombia\",\"Comoros\",\"Costa Rica\",\"Croatia\",\"Cuba\",\"Cyprus\",\"Denmark\",\"Djibouti\",\"Dominican Republic\",\"Ecuador\",\"El Salvador\",\"Estonia\",\"Ethiopia\",\"Finland\",\"France\",\"Gabon\",\"Georgia\",\"Germany\",\"Ghana\",\"Greece\",\"Guatemala\",\"Guinea\",\"Guyana\",\"Haiti\",\"Honduras\",\"Hungary\",\"Iceland\",\"India\",\"Indonesia\",\"Iraq\",\"Ireland\",\"Israel\",\"Italy\",\"Jamaica\",\"Japan\",\"Jordan\",\"Kazakhstan\",\"Kenya\",\"Kuwait\",\"Latvia\",\"Lebanon\",\"Lesotho\",\"Liberia\",\"Libya\",\"Lithuania\",\"Luxembourg\",\"Madagascar\",\"Malawi\",\"Malaysia\",\"Mali\",\"Malta\",\"Mauritania\",\"Mauritius\",\"Mexico\",\"Moldova\",\"Mongolia\",\"Montenegro\",\"Morocco\",\"Mozambique\",\"Myanmar\",\"Namibia\",\"Nepal\",\"Netherlands\",\"New Zealand\",\"Nicaragua\",\"Niger\",\"Nigeria\",\"Norway\",\"Oman\",\"Pakistan\",\"Panama\",\"Paraguay\",\"Peru\",\"Philippines\",\"Poland\",\"Portugal\",\"Qatar\",\"Romania\",\"Rwanda\",\"Saudi Arabia\",\"Senegal\",\"Serbia\",\"Sierra Leone\",\"Singapore\",\"Slovenia\",\"Somalia\",\"South Africa\",\"Spain\",\"Sri Lanka\",\"Sudan\",\"Suriname\",\"Sweden\",\"Switzerland\",\"Tajikistan\",\"Tanzania\",\"Thailand\",\"Togo\",\"Trinidad and Tobago\",\"Tunisia\",\"Turkmenistan\",\"Uganda\",\"Ukraine\",\"United Arab Emirates\",\"United Kingdom\",\"United States\",\"Uruguay\",\"Uzbekistan\",\"Zambia\",\"Zimbabwe\",\"Average\"],\"legendgroup\":\"\",\"marker\":{\"color\":[0.0,1.64,0.3,3.65,3.62,0.49,3.68,6.1,0.31,0.38,0.0,2.05,4.42,3.91,0.87,0.01,2.26,4.01,2.93,3.86,4.32,1.0,1.94,3.85,2.42,3.6,0.53,0.39,2.73,1.66,3.05,0.04,2.36,4.65,1.74,2.85,3.44,0.09,3.0,2.28,1.38,4.93,0.84,4.04,2.3,5.63,1.6,5.66,0.48,2.05,0.9,0.29,2.7,0.51,1.48,3.96,4.42,0.22,0.06,0.12,5.05,1.66,1.88,1.24,1.45,0.06,2.17,0.88,0.0,5.3,0.36,1.67,0.4,0.0,4.79,3.98,0.5,0.09,0.48,0.1,2.78,0.0,1.85,3.72,1.51,2.04,3.71,0.17,1.03,0.46,1.34,0.22,4.02,3.34,1.6,0.04,0.72,2.63,0.16,0.0,5.4,3.23,3.09,1.38,5.78,2.62,0.29,5.28,0.21,0.0,0.19,3.12,0.14,1.25,4.59,0.0,3.96,4.5,0.22,null,3.33,2.57,3.05,0.39,0.76,2.29,0.74,2.92,1.01,0.72,0.86,2.43,0.23,3.42,4.01,1.96,0.22,1.18,1.93,2.004855072463768],\"coloraxis\":\"coloraxis\",\"size\":[356434180.0,28734570.0,411365460.0,302086280.0,440448110.0,28519230.0,245925880.0,87975660.0,98540330.0,14568340.0,1617939640.0,94589890.0,113751580.0,3746930.0,115967790.0,7561210.0,114355330.0,34400270.0,24018400.0,2085049600.0,70759470.0,198358580.0,111555930.0,158306890.0,243931810.0,365450750.0,49967410.0,150858840.0,183685770.0,13962150000.0,483516710.0,7616640.0,49938420.0,41245310.0,113364050.0,12085230.0,57649800.0,10402330.0,106472440.0,166969440.0,62666540.0,13173840.0,1081979500.0,55082140.0,669180200.0,21402150.0,37280040.0,826570020.0,302222620.0,107546790.0,160874180.0,122407890.0,7632520.0,108635430.0,96268420.0,97879660.0,3434000.0,13541956800.0,2644988520.0,396211620.0,48073880.0,87133000.0,605367090.0,28083760.0,1269720000.0,102153810.0,180377760.0,489481370.0,41249040.0,19422480.0,61092520.0,21706170.0,47966310.0,63782610.0,28284030.0,5963360.0,261695420.0,178811670.0,319758060.0,193113550.0,4679990.0,41600150.0,12648870.0,1228392580.0,27551890.0,30960300.0,6223730.0,355281150.0,285694410.0,522883410.0,23645340.0,281834260.0,171312960.0,48136000.0,64805320.0,217379220.0,1934959070.0,52769680.0,45418540.0,2163796550.0,40960630.0,63554040.0,316054860.0,1067385010.0,379748260.0,103003000.0,27117550.0,195887150.0,122303390.0,341931220.0,151577930.0,70208580.0,76775650.0,56122530.0,20663880.0,148642210.0,566412090.0,465932360.0,215068130.0,406798280.0,5875590.0,100576980.0,84518400.0,89255250.0,562670320.0,708982020.0,78527950.0,14786070.0,118114430.0,59683830.0,401270850.0,448807580.0,90682960.0,660588590.0,3251221280.0,34222000.0,323886000.0,172980540.0,147511010.0,481231475.4676259],\"sizemode\":\"area\",\"sizeref\":3490537.5,\"symbol\":\"circle\",\"line\":{\"color\":\"black\",\"width\":1}},\"mode\":\"markers\",\"name\":\"\",\"orientation\":\"v\",\"showlegend\":false,\"x\":[0.0,1.64,0.3,3.65,3.62,0.49,3.68,6.1,0.31,0.38,0.0,2.05,4.42,3.91,0.87,0.01,2.26,4.01,2.93,3.86,4.32,1.0,1.94,3.85,2.42,3.6,0.53,0.39,2.73,1.66,3.05,0.04,2.36,4.65,1.74,2.85,3.44,0.09,3.0,2.28,1.38,4.93,0.84,4.04,2.3,5.63,1.6,5.66,0.48,2.05,0.9,0.29,2.7,0.51,1.48,3.96,4.42,0.22,0.06,0.12,5.05,1.66,1.88,1.24,1.45,0.06,2.17,0.88,0.0,5.3,0.36,1.67,0.4,0.0,4.79,3.98,0.5,0.09,0.48,0.1,2.78,0.0,1.85,3.72,1.51,2.04,3.71,0.17,1.03,0.46,1.34,0.22,4.02,3.34,1.6,0.04,0.72,2.63,0.16,0.0,5.4,3.23,3.09,1.38,5.78,2.62,0.29,5.28,0.21,0.0,0.19,3.12,0.14,1.25,4.59,0.0,3.96,4.5,0.22,null,3.33,2.57,3.05,0.39,0.76,2.29,0.74,2.92,1.01,0.72,0.86,2.43,0.23,3.42,4.01,1.96,0.22,1.18,1.93,2.004855072463768],\"xaxis\":\"x\",\"y\":[-1.886565924,0.299944997,-0.927691162,null,0.351303786,-0.633139133,1.140083551,1.189480543,-1.162632823,-1.167433977,-0.93284297,-0.66446048,0.904255331,null,0.211715877,null,-0.16441147,-0.29460907,0.706385911,0.023793146,0.375986755,-0.433187962,null,-0.493880957,-1.06689775,1.295283794,-1.523121834,-1.356479883,0.688375235,-0.87781024,-0.33744511,null,0.815186501,0.628294408,null,0.827816248,1.190443397,null,0.158870548,-0.137001991,-0.046964772,0.93688798,-1.564677238,1.311007023,0.67997849,-0.571620047,-0.054174274,0.982752085,0.339194328,0.291475028,-0.427182585,-0.673567533,null,-0.720903516,-0.496900558,0.589618564,1.374495268,-0.22030808,-0.190967619,-1.689633727,1.155644417,-0.091396242,0.645315766,0.47238034,1.064277649,-0.625526786,-0.605611205,-0.643422961,-0.323726535,0.628388107,-1.085361362,-0.105936453,-0.216689959,-1.884452581,0.882906199,1.42865932,-0.337169588,-0.151014924,null,-1.083188891,1.217456341,-0.709610879,0.892901719,-0.362546623,-0.134786367,0.554071605,0.068295658,-0.53093636,-0.699048221,-0.974802852,0.598779202,-0.448143601,1.242932796,1.575009227,-0.382219225,-0.858492196,-1.142486572,1.422639132,null,-1.546954513,0.455257624,0.037547644,0.008478746,-0.577247143,0.651249409,1.14347434,null,0.287310094,-0.54128325,-1.148168445,0.135668606,0.109036274,-0.091980204,0.708121538,0.949709475,null,0.184953198,0.648078322,-0.061903223,null,null,1.276802063,1.382011414,-1.195175648,-0.435422927,-0.902155161,-0.68079555,0.420911133,-0.436561465,-1.153553963,-0.575335741,-0.9363603,-0.234493166,0.797514439,0.677055538,1.114635468,-1.037155151,-0.114061393,-0.988153279,-0.036957935944],\"yaxis\":\"y\",\"type\":\"scatter\"}],                        {\"template\":{\"data\":{\"histogram2dcontour\":[{\"type\":\"histogram2dcontour\",\"colorbar\":{\"outlinewidth\":0,\"ticks\":\"\"},\"colorscale\":[[0.0,\"#0d0887\"],[0.1111111111111111,\"#46039f\"],[0.2222222222222222,\"#7201a8\"],[0.3333333333333333,\"#9c179e\"],[0.4444444444444444,\"#bd3786\"],[0.5555555555555556,\"#d8576b\"],[0.6666666666666666,\"#ed7953\"],[0.7777777777777778,\"#fb9f3a\"],[0.8888888888888888,\"#fdca26\"],[1.0,\"#f0f921\"]]}],\"choropleth\":[{\"type\":\"choropleth\",\"colorbar\":{\"outlinewidth\":0,\"ticks\":\"\"}}],\"histogram2d\":[{\"type\":\"histogram2d\",\"colorbar\":{\"outlinewidth\":0,\"ticks\":\"\"},\"colorscale\":[[0.0,\"#0d0887\"],[0.1111111111111111,\"#46039f\"],[0.2222222222222222,\"#7201a8\"],[0.3333333333333333,\"#9c179e\"],[0.4444444444444444,\"#bd3786\"],[0.5555555555555556,\"#d8576b\"],[0.6666666666666666,\"#ed7953\"],[0.7777777777777778,\"#fb9f3a\"],[0.8888888888888888,\"#fdca26\"],[1.0,\"#f0f921\"]]}],\"heatmap\":[{\"type\":\"heatmap\",\"colorbar\":{\"outlinewidth\":0,\"ticks\":\"\"},\"colorscale\":[[0.0,\"#0d0887\"],[0.1111111111111111,\"#46039f\"],[0.2222222222222222,\"#7201a8\"],[0.3333333333333333,\"#9c179e\"],[0.4444444444444444,\"#bd3786\"],[0.5555555555555556,\"#d8576b\"],[0.6666666666666666,\"#ed7953\"],[0.7777777777777778,\"#fb9f3a\"],[0.8888888888888888,\"#fdca26\"],[1.0,\"#f0f921\"]]}],\"heatmapgl\":[{\"type\":\"heatmapgl\",\"colorbar\":{\"outlinewidth\":0,\"ticks\":\"\"},\"colorscale\":[[0.0,\"#0d0887\"],[0.1111111111111111,\"#46039f\"],[0.2222222222222222,\"#7201a8\"],[0.3333333333333333,\"#9c179e\"],[0.4444444444444444,\"#bd3786\"],[0.5555555555555556,\"#d8576b\"],[0.6666666666666666,\"#ed7953\"],[0.7777777777777778,\"#fb9f3a\"],[0.8888888888888888,\"#fdca26\"],[1.0,\"#f0f921\"]]}],\"contourcarpet\":[{\"type\":\"contourcarpet\",\"colorbar\":{\"outlinewidth\":0,\"ticks\":\"\"}}],\"contour\":[{\"type\":\"contour\",\"colorbar\":{\"outlinewidth\":0,\"ticks\":\"\"},\"colorscale\":[[0.0,\"#0d0887\"],[0.1111111111111111,\"#46039f\"],[0.2222222222222222,\"#7201a8\"],[0.3333333333333333,\"#9c179e\"],[0.4444444444444444,\"#bd3786\"],[0.5555555555555556,\"#d8576b\"],[0.6666666666666666,\"#ed7953\"],[0.7777777777777778,\"#fb9f3a\"],[0.8888888888888888,\"#fdca26\"],[1.0,\"#f0f921\"]]}],\"surface\":[{\"type\":\"surface\",\"colorbar\":{\"outlinewidth\":0,\"ticks\":\"\"},\"colorscale\":[[0.0,\"#0d0887\"],[0.1111111111111111,\"#46039f\"],[0.2222222222222222,\"#7201a8\"],[0.3333333333333333,\"#9c179e\"],[0.4444444444444444,\"#bd3786\"],[0.5555555555555556,\"#d8576b\"],[0.6666666666666666,\"#ed7953\"],[0.7777777777777778,\"#fb9f3a\"],[0.8888888888888888,\"#fdca26\"],[1.0,\"#f0f921\"]]}],\"mesh3d\":[{\"type\":\"mesh3d\",\"colorbar\":{\"outlinewidth\":0,\"ticks\":\"\"}}],\"scatter\":[{\"fillpattern\":{\"fillmode\":\"overlay\",\"size\":10,\"solidity\":0.2},\"type\":\"scatter\"}],\"parcoords\":[{\"type\":\"parcoords\",\"line\":{\"colorbar\":{\"outlinewidth\":0,\"ticks\":\"\"}}}],\"scatterpolargl\":[{\"type\":\"scatterpolargl\",\"marker\":{\"colorbar\":{\"outlinewidth\":0,\"ticks\":\"\"}}}],\"bar\":[{\"error_x\":{\"color\":\"#2a3f5f\"},\"error_y\":{\"color\":\"#2a3f5f\"},\"marker\":{\"line\":{\"color\":\"#E5ECF6\",\"width\":0.5},\"pattern\":{\"fillmode\":\"overlay\",\"size\":10,\"solidity\":0.2}},\"type\":\"bar\"}],\"scattergeo\":[{\"type\":\"scattergeo\",\"marker\":{\"colorbar\":{\"outlinewidth\":0,\"ticks\":\"\"}}}],\"scatterpolar\":[{\"type\":\"scatterpolar\",\"marker\":{\"colorbar\":{\"outlinewidth\":0,\"ticks\":\"\"}}}],\"histogram\":[{\"marker\":{\"pattern\":{\"fillmode\":\"overlay\",\"size\":10,\"solidity\":0.2}},\"type\":\"histogram\"}],\"scattergl\":[{\"type\":\"scattergl\",\"marker\":{\"colorbar\":{\"outlinewidth\":0,\"ticks\":\"\"}}}],\"scatter3d\":[{\"type\":\"scatter3d\",\"line\":{\"colorbar\":{\"outlinewidth\":0,\"ticks\":\"\"}},\"marker\":{\"colorbar\":{\"outlinewidth\":0,\"ticks\":\"\"}}}],\"scattermapbox\":[{\"type\":\"scattermapbox\",\"marker\":{\"colorbar\":{\"outlinewidth\":0,\"ticks\":\"\"}}}],\"scatterternary\":[{\"type\":\"scatterternary\",\"marker\":{\"colorbar\":{\"outlinewidth\":0,\"ticks\":\"\"}}}],\"scattercarpet\":[{\"type\":\"scattercarpet\",\"marker\":{\"colorbar\":{\"outlinewidth\":0,\"ticks\":\"\"}}}],\"carpet\":[{\"aaxis\":{\"endlinecolor\":\"#2a3f5f\",\"gridcolor\":\"white\",\"linecolor\":\"white\",\"minorgridcolor\":\"white\",\"startlinecolor\":\"#2a3f5f\"},\"baxis\":{\"endlinecolor\":\"#2a3f5f\",\"gridcolor\":\"white\",\"linecolor\":\"white\",\"minorgridcolor\":\"white\",\"startlinecolor\":\"#2a3f5f\"},\"type\":\"carpet\"}],\"table\":[{\"cells\":{\"fill\":{\"color\":\"#EBF0F8\"},\"line\":{\"color\":\"white\"}},\"header\":{\"fill\":{\"color\":\"#C8D4E3\"},\"line\":{\"color\":\"white\"}},\"type\":\"table\"}],\"barpolar\":[{\"marker\":{\"line\":{\"color\":\"#E5ECF6\",\"width\":0.5},\"pattern\":{\"fillmode\":\"overlay\",\"size\":10,\"solidity\":0.2}},\"type\":\"barpolar\"}],\"pie\":[{\"automargin\":true,\"type\":\"pie\"}]},\"layout\":{\"autotypenumbers\":\"strict\",\"colorway\":[\"#636efa\",\"#EF553B\",\"#00cc96\",\"#ab63fa\",\"#FFA15A\",\"#19d3f3\",\"#FF6692\",\"#B6E880\",\"#FF97FF\",\"#FECB52\"],\"font\":{\"color\":\"#2a3f5f\"},\"hovermode\":\"closest\",\"hoverlabel\":{\"align\":\"left\"},\"paper_bgcolor\":\"white\",\"plot_bgcolor\":\"#E5ECF6\",\"polar\":{\"bgcolor\":\"#E5ECF6\",\"angularaxis\":{\"gridcolor\":\"white\",\"linecolor\":\"white\",\"ticks\":\"\"},\"radialaxis\":{\"gridcolor\":\"white\",\"linecolor\":\"white\",\"ticks\":\"\"}},\"ternary\":{\"bgcolor\":\"#E5ECF6\",\"aaxis\":{\"gridcolor\":\"white\",\"linecolor\":\"white\",\"ticks\":\"\"},\"baxis\":{\"gridcolor\":\"white\",\"linecolor\":\"white\",\"ticks\":\"\"},\"caxis\":{\"gridcolor\":\"white\",\"linecolor\":\"white\",\"ticks\":\"\"}},\"coloraxis\":{\"colorbar\":{\"outlinewidth\":0,\"ticks\":\"\"}},\"colorscale\":{\"sequential\":[[0.0,\"#0d0887\"],[0.1111111111111111,\"#46039f\"],[0.2222222222222222,\"#7201a8\"],[0.3333333333333333,\"#9c179e\"],[0.4444444444444444,\"#bd3786\"],[0.5555555555555556,\"#d8576b\"],[0.6666666666666666,\"#ed7953\"],[0.7777777777777778,\"#fb9f3a\"],[0.8888888888888888,\"#fdca26\"],[1.0,\"#f0f921\"]],\"sequentialminus\":[[0.0,\"#0d0887\"],[0.1111111111111111,\"#46039f\"],[0.2222222222222222,\"#7201a8\"],[0.3333333333333333,\"#9c179e\"],[0.4444444444444444,\"#bd3786\"],[0.5555555555555556,\"#d8576b\"],[0.6666666666666666,\"#ed7953\"],[0.7777777777777778,\"#fb9f3a\"],[0.8888888888888888,\"#fdca26\"],[1.0,\"#f0f921\"]],\"diverging\":[[0,\"#8e0152\"],[0.1,\"#c51b7d\"],[0.2,\"#de77ae\"],[0.3,\"#f1b6da\"],[0.4,\"#fde0ef\"],[0.5,\"#f7f7f7\"],[0.6,\"#e6f5d0\"],[0.7,\"#b8e186\"],[0.8,\"#7fbc41\"],[0.9,\"#4d9221\"],[1,\"#276419\"]]},\"xaxis\":{\"gridcolor\":\"white\",\"linecolor\":\"white\",\"ticks\":\"\",\"title\":{\"standoff\":15},\"zerolinecolor\":\"white\",\"automargin\":true,\"zerolinewidth\":2},\"yaxis\":{\"gridcolor\":\"white\",\"linecolor\":\"white\",\"ticks\":\"\",\"title\":{\"standoff\":15},\"zerolinecolor\":\"white\",\"automargin\":true,\"zerolinewidth\":2},\"scene\":{\"xaxis\":{\"backgroundcolor\":\"#E5ECF6\",\"gridcolor\":\"white\",\"linecolor\":\"white\",\"showbackground\":true,\"ticks\":\"\",\"zerolinecolor\":\"white\",\"gridwidth\":2},\"yaxis\":{\"backgroundcolor\":\"#E5ECF6\",\"gridcolor\":\"white\",\"linecolor\":\"white\",\"showbackground\":true,\"ticks\":\"\",\"zerolinecolor\":\"white\",\"gridwidth\":2},\"zaxis\":{\"backgroundcolor\":\"#E5ECF6\",\"gridcolor\":\"white\",\"linecolor\":\"white\",\"showbackground\":true,\"ticks\":\"\",\"zerolinecolor\":\"white\",\"gridwidth\":2}},\"shapedefaults\":{\"line\":{\"color\":\"#2a3f5f\"}},\"annotationdefaults\":{\"arrowcolor\":\"#2a3f5f\",\"arrowhead\":0,\"arrowwidth\":1},\"geo\":{\"bgcolor\":\"white\",\"landcolor\":\"#E5ECF6\",\"subunitcolor\":\"white\",\"showland\":true,\"showlakes\":true,\"lakecolor\":\"white\"},\"title\":{\"x\":0.05},\"mapbox\":{\"style\":\"light\"}}},\"xaxis\":{\"anchor\":\"y\",\"domain\":[0.0,1.0],\"title\":{\"text\":\"x\"},\"mirror\":false,\"showline\":true,\"linecolor\":\"lightgrey\",\"linewidth\":2},\"yaxis\":{\"anchor\":\"x\",\"domain\":[0.0,1.0],\"title\":{\"text\":\"y\"},\"mirror\":false,\"showline\":true,\"linecolor\":\"lightgrey\",\"linewidth\":2},\"coloraxis\":{\"colorbar\":{\"title\":{\"text\":\"color\"}},\"colorscale\":[[0.0,\"rgb(158,1,66)\"],[0.1,\"rgb(213,62,79)\"],[0.2,\"rgb(244,109,67)\"],[0.3,\"rgb(253,174,97)\"],[0.4,\"rgb(254,224,139)\"],[0.5,\"rgb(255,255,191)\"],[0.6,\"rgb(230,245,152)\"],[0.7,\"rgb(171,221,164)\"],[0.8,\"rgb(102,194,165)\"],[0.9,\"rgb(50,136,189)\"],[1.0,\"rgb(94,79,162)\"]],\"showscale\":false},\"legend\":{\"tracegroupgap\":0,\"itemsizing\":\"constant\",\"font\":{\"color\":\"black\"},\"title\":{\"font\":{\"color\":\"black\"}},\"bgcolor\":\"white\"},\"margin\":{\"t\":60},\"title\":{\"text\":\"Beer Consumption Per Capita by Democratic Qualty and Population Size\"},\"font\":{\"color\":\"black\"},\"paper_bgcolor\":\"white\",\"plot_bgcolor\":\"white\",\"clickmode\":\"select\"},                        {\"responsive\": true}                    ).then(function(){\n",
       "                            \n",
       "var gd = document.getElementById('754029fa-0fbe-4f29-b1af-f4ff49d08708');\n",
       "var x = new MutationObserver(function (mutations, observer) {{\n",
       "        var display = window.getComputedStyle(gd).display;\n",
       "        if (!display || display === 'none') {{\n",
       "            console.log([gd, 'removed!']);\n",
       "            Plotly.purge(gd);\n",
       "            observer.disconnect();\n",
       "        }}\n",
       "}});\n",
       "\n",
       "// Listen for the removal of the full notebook cells\n",
       "var notebookContainer = gd.closest('#notebook-container');\n",
       "if (notebookContainer) {{\n",
       "    x.observe(notebookContainer, {childList: true});\n",
       "}}\n",
       "\n",
       "// Listen for the clearing of the current output cell\n",
       "var outputEl = gd.closest('.output');\n",
       "if (outputEl) {{\n",
       "    x.observe(outputEl, {childList: true});\n",
       "}}\n",
       "\n",
       "                        })                };                });            </script>        </div>"
      ]
     },
     "metadata": {},
     "output_type": "display_data"
    }
   ],
   "source": [
    "from itertools import *\n",
    "\n",
    "# static\n",
    "\n",
    "def fig_B_bubblechart(year):\n",
    "    x = beer[2017]\n",
    "    y = dem[2017]\n",
    "    z = pop[2017] \n",
    "\n",
    "    colors = list(islice(cycle(iter(px.colors.diverging.Spectral)), len(beer)))\n",
    "    \n",
    "    return px.scatter(x=x, y=y, size=z, color=x, hover_name=x.index, color_continuous_scale=\"Spectral\").update_traces({\"marker\": {\"size\": z*10, \"line\": {\"width\": 1, \"color\":\"black\"}}}).update_layout({\n",
    "        \"title\": \"Beer Consumption Per Capita by Democratic Qualty and Population Size\",\n",
    "        \"xaxis\": {\"title\": \"Beer Consumption Per Capita\"},\n",
    "        \"yaxis\": {\"title\": \"Democratic Quality\"},\n",
    "        \"coloraxis_showscale\": False,\n",
    "        \"xaxis\": {\"mirror\": False, \"showline\": True, \"linecolor\": \"lightgrey\", \"linewidth\": 2},\n",
    "        \"yaxis\": {\"mirror\": False, \"showline\": True, \"linecolor\": \"lightgrey\", \"linewidth\": 2},\n",
    "        \n",
    "    })\n",
    "    # .update_layout(coloraxis_showscale=False)\n",
    "\n",
    "# mirror=True,\n",
    "# ticks='outside',\n",
    "# showline=True,\n",
    "\n",
    "layout_func(fig_B_bubblechart(2013))"
   ]
  },
  {
   "cell_type": "code",
   "execution_count": 25,
   "id": "4be8349f-192b-438c-98d2-77033d75ff0c",
   "metadata": {},
   "outputs": [],
   "source": [
    "def wrangle_year_difference(df, year1, year2):\n",
    "    dem_dash = df.T.reset_index().rename(columns={\"index\": \"Year\"})\n",
    "    mask_gt = ( dem_dash[\"Year\"] >= year1 )\n",
    "    mask_lt = ( dem_dash[\"Year\"] <= year2)\n",
    "    \n",
    "    dem_dash = dem_dash[mask_gt & mask_lt].set_index(\"Year\")\n",
    "    dem_dash.loc[-1] = dem_dash.mean(axis=0)\n",
    "    return pd.DataFrame(dem_dash.loc[-1])"
   ]
  },
  {
   "cell_type": "code",
   "execution_count": 80,
   "id": "bf32e5cf-6d9d-4866-9ec9-da5c927c5329",
   "metadata": {},
   "outputs": [
    {
     "data": {
      "application/vnd.plotly.v1+json": {
       "config": {
        "plotlyServerURL": "https://plot.ly"
       },
       "data": [
        {
         "line": {
          "color": "rgb(249, 123, 87)",
          "width": 0
         },
         "mode": "lines",
         "name": "upper ci band limit",
         "showlegend": false,
         "type": "scatter",
         "x": [
          0,
          2e-05,
          0.00063,
          0.00089,
          0.00184,
          0.00314,
          0.00857,
          0.01904,
          0.03707,
          0.05228,
          0.06239,
          0.06918,
          0.08337,
          0.11408,
          0.12624,
          0.12985,
          0.13243,
          0.13441,
          0.14411,
          0.17185,
          0.17189,
          0.17431,
          0.17514,
          0.2,
          0.20481,
          0.20516,
          0.22273,
          0.23743,
          0.24,
          0.27631,
          0.29127,
          0.29464,
          0.3025,
          0.31215,
          0.33804,
          0.34295,
          0.37229,
          0.3785,
          0.39072,
          0.41888,
          0.45622,
          0.46059,
          0.46526,
          0.46918,
          0.48534,
          0.53415,
          0.57399,
          0.58994,
          0.64038,
          0.64738,
          0.65159,
          0.7544,
          0.75573,
          0.7738,
          0.89265,
          0.9318,
          0.95487,
          0.98366,
          1.05456,
          1.05855,
          1.05914,
          1.15598,
          1.18769,
          1.1933,
          1.19467,
          1.21871,
          1.21892,
          1.32375,
          1.35838,
          1.47,
          1.47119,
          1.48,
          1.48124,
          1.55,
          1.56418,
          1.65198,
          1.71088,
          1.77419,
          1.9171,
          1.95569,
          2.003079855072464,
          2.05811,
          2.12835,
          2.17467,
          2.18,
          2.24392,
          2.36106,
          2.37334,
          2.39637,
          2.43,
          2.45578,
          2.50001,
          2.7,
          2.72729,
          2.77167,
          2.78687,
          2.7959,
          2.8504,
          2.98826,
          3.06,
          3.09825,
          3.16,
          3.26552,
          3.31309,
          3.55,
          3.55036,
          3.59742,
          3.60782,
          3.67576,
          3.73867,
          3.82231,
          3.86468,
          3.89908,
          4.03074,
          4.119,
          4.15923,
          4.17268,
          4.2,
          4.26694,
          4.29622,
          4.40436,
          4.51206,
          4.542,
          4.62,
          4.69,
          4.70399,
          4.78653,
          4.92,
          4.93228,
          5.01515,
          5.03741,
          5.16,
          5.37419,
          5.46419,
          5.59286,
          5.7447,
          5.90594,
          6.07408,
          6.35388,
          6.36804
         ],
         "y": [
          -0.4364944847456675,
          -0.43649020379654524,
          -0.4363596332525689,
          -0.4363039792943324,
          -0.4361006235164029,
          -0.4358223350256737,
          -0.4346597931257205,
          -0.43241750982421523,
          -0.4285539850982054,
          -0.4252925764231772,
          -0.4231236287842057,
          -0.4216664358876392,
          -0.4186198277124456,
          -0.412020198257539,
          -0.4094046287438749,
          -0.40862786989191024,
          -0.4080726609852696,
          -0.40764652862822903,
          -0.40555838392329935,
          -0.3995818405746921,
          -0.39957321735651763,
          -0.3990514841589688,
          -0.3988725296830977,
          -0.39350943590054066,
          -0.3924710707847636,
          -0.3923955052046403,
          -0.38860055753009615,
          -0.38542313690552776,
          -0.3848674052837182,
          -0.37700859291533784,
          -0.37376672529042465,
          -0.37303611318645513,
          -0.3713316064062119,
          -0.36923802235113934,
          -0.3636161783085367,
          -0.3625491789640843,
          -0.35616768720224734,
          -0.35481576537074044,
          -0.35215418232413753,
          -0.34601423657160074,
          -0.3378583275395167,
          -0.3369027277925435,
          -0.33588127012919233,
          -0.33502365313733184,
          -0.3314861820959535,
          -0.320781728615884,
          -0.31202178583400875,
          -0.30850885178905924,
          -0.297376851749055,
          -0.2958291803272218,
          -0.29489803410257465,
          -0.2720791821144049,
          -0.2717829523013765,
          -0.2677555353367382,
          -0.2411365426591634,
          -0.23231648054194365,
          -0.22710655519652528,
          -0.2205915775958867,
          -0.20448260364380377,
          -0.20357324238171504,
          -0.2034387496209586,
          -0.18127153681960806,
          -0.17397199503993738,
          -0.17267842762132962,
          -0.17236243010819824,
          -0.16681107925409433,
          -0.16676253211099035,
          -0.1424092878288631,
          -0.13431076087647625,
          -0.10801823504509217,
          -0.10773633237463083,
          -0.1056482396908301,
          -0.10535419147896218,
          -0.08898979149607679,
          -0.08560048051673792,
          -0.06450116973997772,
          -0.050235557639442,
          -0.03480019686034275,
          0.0004364765748217786,
          0.010046246532197947,
          0.021902850384121014,
          0.03574777710060727,
          0.05353893212815397,
          0.06534440183611694,
          0.06670655140821377,
          0.08310131457687421,
          0.11342622796291026,
          0.11662586333344802,
          0.12263687039231956,
          0.13143870963627302,
          0.13820522171353378,
          0.14985267720622386,
          0.20309923640767102,
          0.21043573505236018,
          0.22240110325545687,
          0.22650885555535485,
          0.22895148553460737,
          0.24372965675113756,
          0.28137465707996506,
          0.30110509807025176,
          0.31166201011836914,
          0.32875714337534834,
          0.3581117564293358,
          0.37140073234495985,
          0.4380469928208426,
          0.4381488109569977,
          0.4514718722292399,
          0.45441966629563013,
          0.473706573465405,
          0.4916100140960802,
          0.5154753804865568,
          0.5275908040620931,
          0.537439470008802,
          0.5752290212816387,
          0.6006408335294817,
          0.6122434616706803,
          0.6161251754056251,
          0.6240137925235854,
          0.6433645182206634,
          0.6518381042130699,
          0.6831808486668739,
          0.7144652641793601,
          0.7231736509828677,
          0.7458830250885697,
          0.7662893169657229,
          0.77037049747586,
          0.7944676111648669,
          0.833496461335589,
          0.8370910306045367,
          0.8613638914351441,
          0.8678883425812787,
          0.9038515565654855,
          0.966805542852167,
          0.9932988389033186,
          1.0312133848425644,
          1.0760082376115152,
          1.1236331733442717,
          1.1733525378247909,
          1.256202629148126,
          1.260398876990037
         ]
        },
        {
         "fill": "tonexty",
         "fillcolor": "rgb(249, 123, 87)",
         "line": {
          "color": "rgb(249, 123, 87)",
          "width": 0
         },
         "mode": "none",
         "name": "95% confidence interval   ",
         "type": "scatter",
         "x": [
          0,
          2e-05,
          0.00063,
          0.00089,
          0.00184,
          0.00314,
          0.00857,
          0.01904,
          0.03707,
          0.05228,
          0.06239,
          0.06918,
          0.08337,
          0.11408,
          0.12624,
          0.12985,
          0.13243,
          0.13441,
          0.14411,
          0.17185,
          0.17189,
          0.17431,
          0.17514,
          0.2,
          0.20481,
          0.20516,
          0.22273,
          0.23743,
          0.24,
          0.27631,
          0.29127,
          0.29464,
          0.3025,
          0.31215,
          0.33804,
          0.34295,
          0.37229,
          0.3785,
          0.39072,
          0.41888,
          0.45622,
          0.46059,
          0.46526,
          0.46918,
          0.48534,
          0.53415,
          0.57399,
          0.58994,
          0.64038,
          0.64738,
          0.65159,
          0.7544,
          0.75573,
          0.7738,
          0.89265,
          0.9318,
          0.95487,
          0.98366,
          1.05456,
          1.05855,
          1.05914,
          1.15598,
          1.18769,
          1.1933,
          1.19467,
          1.21871,
          1.21892,
          1.32375,
          1.35838,
          1.47,
          1.47119,
          1.48,
          1.48124,
          1.55,
          1.56418,
          1.65198,
          1.71088,
          1.77419,
          1.9171,
          1.95569,
          2.003079855072464,
          2.05811,
          2.12835,
          2.17467,
          2.18,
          2.24392,
          2.36106,
          2.37334,
          2.39637,
          2.43,
          2.45578,
          2.50001,
          2.7,
          2.72729,
          2.77167,
          2.78687,
          2.7959,
          2.8504,
          2.98826,
          3.06,
          3.09825,
          3.16,
          3.26552,
          3.31309,
          3.55,
          3.55036,
          3.59742,
          3.60782,
          3.67576,
          3.73867,
          3.82231,
          3.86468,
          3.89908,
          4.03074,
          4.119,
          4.15923,
          4.17268,
          4.2,
          4.26694,
          4.29622,
          4.40436,
          4.51206,
          4.542,
          4.62,
          4.69,
          4.70399,
          4.78653,
          4.92,
          4.93228,
          5.01515,
          5.03741,
          5.16,
          5.37419,
          5.46419,
          5.59286,
          5.7447,
          5.90594,
          6.07408,
          6.35388,
          6.36804
         ],
         "y": [
          -0.7036042421550015,
          -0.7035984969175697,
          -0.703423268771649,
          -0.7033485823046832,
          -0.7030756942212972,
          -0.7027022805860158,
          -0.7011427128365555,
          -0.6981362874770368,
          -0.692961205024607,
          -0.6885976988253111,
          -0.6856984091612308,
          -0.683751711722711,
          -0.679684740537835,
          -0.67088916053906,
          -0.6674088086278864,
          -0.6663758408068522,
          -0.6656376716480257,
          -0.6650712115362193,
          -0.6622966557624544,
          -0.6543668783606504,
          -0.6543554492057169,
          -0.6536640138302308,
          -0.6534268815641102,
          -0.6463274254600335,
          -0.6449544927095714,
          -0.6448546000249996,
          -0.6398415428118462,
          -0.6356497163192177,
          -0.6349170829688371,
          -0.6245733536484132,
          -0.6203156337309274,
          -0.6193568334005463,
          -0.6171210488650638,
          -0.6143769979078267,
          -0.6070199434562641,
          -0.6056255140017072,
          -0.5972985900888123,
          -0.5955373809952992,
          -0.5920729640574023,
          -0.5840960391418937,
          -0.5735330578776421,
          -0.5722979358625643,
          -0.5709782789655542,
          -0.5698707633928288,
          -0.5653070756985675,
          -0.5515426208935769,
          -0.5403304000598652,
          -0.5358474503279922,
          -0.5216934078787845,
          -0.5197319140067145,
          -0.5185525479617425,
          -0.48983178796902654,
          -0.4894612763762133,
          -0.484430033789304,
          -0.45146841286967754,
          -0.44066221480742374,
          -0.43430693396279224,
          -0.42638921601893415,
          -0.40695535863705345,
          -0.4058644956816172,
          -0.4057032159390304,
          -0.37932363344586706,
          -0.37072665644415576,
          -0.3692078785343638,
          -0.36883708226854556,
          -0.3623369568847301,
          -0.3622802290690169,
          -0.3340812165283036,
          -0.324819401462423,
          -0.2951557801358801,
          -0.29484112470637797,
          -0.2925126822131375,
          -0.29218510685865684,
          -0.2740794774688575,
          -0.2703602221814038,
          -0.2474445739860623,
          -0.23218306668504018,
          -0.21588053392742235,
          -0.17947509134091216,
          -0.16973933434232708,
          -0.15783896180805027,
          -0.14409676356765366,
          -0.1266759514175192,
          -0.11526077306639619,
          -0.11395094392184943,
          -0.09830201486389557,
          -0.0699035536030982,
          -0.0669471104294743,
          -0.06141296367140363,
          -0.053355770224790225,
          -0.047198527833932954,
          -0.03667307176243083,
          0.01033722148293971,
          0.016681454391196462,
          0.02696419415144674,
          0.030476343632595965,
          0.032560536882478786,
          0.045103724025624445,
          0.07656922761358416,
          0.09280271779252956,
          0.1014208875289555,
          0.11528160525748044,
          0.13882515246244698,
          0.1493834612655344,
          0.20150239361517097,
          0.20158104683698813,
          0.21184960252633012,
          0.21411542546802487,
          0.2288874740222201,
          0.24252140319718185,
          0.26058554897557284,
          0.26971060161470545,
          0.2771069765408932,
          0.3053198113531008,
          0.3241535603681016,
          0.33271860648029283,
          0.33557950320291974,
          0.3413866569177364,
          0.3555935776169278,
          0.36179832873959133,
          0.3846671749833165,
          0.40737377406417147,
          0.4136745885320159,
          0.4300673419869512,
          0.4447527030488311,
          0.4476848400332235,
          0.46496579825261397,
          0.492846704050074,
          0.49540821332528834,
          0.5126788564812191,
          0.5173135509696971,
          0.5428058474682912,
          0.5872273060817742,
          0.6058518495236656,
          0.6324407747796392,
          0.6637647303287286,
          0.6969709105943968,
          0.7315416964734354,
          0.7889579550406927,
          0.79186024727902
         ]
        },
        {
         "line": {
          "color": "rgb(246, 99, 86)"
         },
         "mode": "lines",
         "name": "linear model",
         "type": "scatter",
         "x": [
          0,
          2e-05,
          0.00063,
          0.00089,
          0.00184,
          0.00314,
          0.00857,
          0.01904,
          0.03707,
          0.05228,
          0.06239,
          0.06918,
          0.08337,
          0.11408,
          0.12624,
          0.12985,
          0.13243,
          0.13441,
          0.14411,
          0.17185,
          0.17189,
          0.17431,
          0.17514,
          0.2,
          0.20481,
          0.20516,
          0.22273,
          0.23743,
          0.24,
          0.27631,
          0.29127,
          0.29464,
          0.3025,
          0.31215,
          0.33804,
          0.34295,
          0.37229,
          0.3785,
          0.39072,
          0.41888,
          0.45622,
          0.46059,
          0.46526,
          0.46918,
          0.48534,
          0.53415,
          0.57399,
          0.58994,
          0.64038,
          0.64738,
          0.65159,
          0.7544,
          0.75573,
          0.7738,
          0.89265,
          0.9318,
          0.95487,
          0.98366,
          1.05456,
          1.05855,
          1.05914,
          1.15598,
          1.18769,
          1.1933,
          1.19467,
          1.21871,
          1.21892,
          1.32375,
          1.35838,
          1.47,
          1.47119,
          1.48,
          1.48124,
          1.55,
          1.56418,
          1.65198,
          1.71088,
          1.77419,
          1.9171,
          1.95569,
          2.003079855072464,
          2.05811,
          2.12835,
          2.17467,
          2.18,
          2.24392,
          2.36106,
          2.37334,
          2.39637,
          2.43,
          2.45578,
          2.50001,
          2.7,
          2.72729,
          2.77167,
          2.78687,
          2.7959,
          2.8504,
          2.98826,
          3.06,
          3.09825,
          3.16,
          3.26552,
          3.31309,
          3.55,
          3.55036,
          3.59742,
          3.60782,
          3.67576,
          3.73867,
          3.82231,
          3.86468,
          3.89908,
          4.03074,
          4.119,
          4.15923,
          4.17268,
          4.2,
          4.26694,
          4.29622,
          4.40436,
          4.51206,
          4.542,
          4.62,
          4.69,
          4.70399,
          4.78653,
          4.92,
          4.93228,
          5.01515,
          5.03741,
          5.16,
          5.37419,
          5.46419,
          5.59286,
          5.7447,
          5.90594,
          6.07408,
          6.35388,
          6.36804
         ],
         "y": [
          -0.5700493634503345,
          -0.5700443503570575,
          -0.5698914510121089,
          -0.5698262807995078,
          -0.5695881588688501,
          -0.5692623078058447,
          -0.567901252981138,
          -0.565276898650626,
          -0.5607575950614062,
          -0.5569451376242441,
          -0.5544110189727183,
          -0.5527090738051751,
          -0.5491522841251403,
          -0.5414546793982995,
          -0.5384067186858806,
          -0.5375018553493812,
          -0.5368551663166476,
          -0.5363588700822242,
          -0.5339275198428769,
          -0.5269743594676712,
          -0.5269643332811172,
          -0.5263577489945998,
          -0.526149705623604,
          -0.5199184306802871,
          -0.5187127817471675,
          -0.51862505261482,
          -0.5142210501709712,
          -0.5105364266123728,
          -0.5098922441262776,
          -0.5007909732818755,
          -0.497041179510676,
          -0.4961964732935007,
          -0.49422632763563784,
          -0.49180751012948304,
          -0.4853180608824004,
          -0.48408734648289575,
          -0.4767331386455298,
          -0.4751765731830198,
          -0.4721135731907699,
          -0.46505513785674724,
          -0.4556956927085794,
          -0.4546003318275539,
          -0.45342977454737327,
          -0.45244720826508034,
          -0.4483966288972605,
          -0.4361621747547304,
          -0.426176092946937,
          -0.42217815105852574,
          -0.40953512981391976,
          -0.4077805471669681,
          -0.4067252910321586,
          -0.3809554850417157,
          -0.3806221143387949,
          -0.3760927845630211,
          -0.34630247776442047,
          -0.3364893476746837,
          -0.33070674457965876,
          -0.32349039680741043,
          -0.3057189811404286,
          -0.3047188690316661,
          -0.3045709827799945,
          -0.28029758513273756,
          -0.27234932574204657,
          -0.2709431530778467,
          -0.2705997561883719,
          -0.2645740180694122,
          -0.26452138059000363,
          -0.23824525217858333,
          -0.22956508116944963,
          -0.20158700759048614,
          -0.2012887285405044,
          -0.19908046095198378,
          -0.19876964916880951,
          -0.18153463448246715,
          -0.17798035134907086,
          -0.15597287186302,
          -0.14120931216224109,
          -0.12534036539388255,
          -0.0895193073830452,
          -0.07984654390506457,
          -0.06796805571196463,
          -0.05417449323352319,
          -0.03656850964468261,
          -0.024958185615139628,
          -0.02362219625681783,
          -0.007600350143510681,
          0.021761337179906026,
          0.02483937645198686,
          0.030611953360457966,
          0.039041469705741405,
          0.045503346939800404,
          0.05658980272189651,
          0.10671822894530536,
          0.11355859472177832,
          0.1246826487034518,
          0.1284925995939754,
          0.13075601120854308,
          0.144416690388381,
          0.1789719423467746,
          0.19695390793139067,
          0.20654144882366232,
          0.2220193743164144,
          0.24846845444589138,
          0.2603920968052471,
          0.3197746932180068,
          0.3198649288969929,
          0.331660737377785,
          0.3342675458818275,
          0.35129702374381255,
          0.367065708646631,
          0.38803046473106484,
          0.3986507028383993,
          0.4072732232748476,
          0.44027441631736974,
          0.46239719694879167,
          0.4724810340754866,
          0.4758523393042724,
          0.4827002247206609,
          0.4994790479187956,
          0.5068182164763306,
          0.5339240118250952,
          0.5609195191217657,
          0.5684241197574418,
          0.5879751835377605,
          0.605521010007277,
          0.6090276687545417,
          0.6297167047087404,
          0.6631715826928315,
          0.6662496219649126,
          0.6870213739581816,
          0.6926009467754879,
          0.7233287020168884,
          0.7770164244669706,
          0.7995753442134921,
          0.8318270798111018,
          0.8698864839701219,
          0.9103020419693342,
          0.9524471171491131,
          1.0225802920944094,
          1.0261295621345286
         ]
        },
        {
         "marker": {
          "color": "rgb(238, 77, 90)",
          "opacity": 0.5
         },
         "mode": "markers",
         "name": "students",
         "type": "scatter",
         "x": [
          0,
          2e-05,
          0.00063,
          0.00089,
          0.00184,
          0.00314,
          0.00857,
          0.01904,
          0.03707,
          0.05228,
          0.06239,
          0.06918,
          0.08337,
          0.11408,
          0.12624,
          0.12985,
          0.13243,
          0.13441,
          0.14411,
          0.17185,
          0.17189,
          0.17431,
          0.17514,
          0.2,
          0.20481,
          0.20516,
          0.22273,
          0.23743,
          0.24,
          0.27631,
          0.29127,
          0.29464,
          0.3025,
          0.31215,
          0.33804,
          0.34295,
          0.37229,
          0.3785,
          0.39072,
          0.41888,
          0.45622,
          0.46059,
          0.46526,
          0.46918,
          0.48534,
          0.53415,
          0.57399,
          0.58994,
          0.64038,
          0.64738,
          0.65159,
          0.7544,
          0.75573,
          0.7738,
          0.89265,
          0.9318,
          0.95487,
          0.98366,
          1.05456,
          1.05855,
          1.05914,
          1.15598,
          1.18769,
          1.1933,
          1.19467,
          1.21871,
          1.21892,
          1.32375,
          1.35838,
          1.47,
          1.47119,
          1.48,
          1.48124,
          1.55,
          1.56418,
          1.65198,
          1.71088,
          1.77419,
          1.9171,
          1.95569,
          2.003079855072464,
          2.05811,
          2.12835,
          2.17467,
          2.18,
          2.24392,
          2.36106,
          2.37334,
          2.39637,
          2.43,
          2.45578,
          2.50001,
          2.7,
          2.72729,
          2.77167,
          2.78687,
          2.7959,
          2.8504,
          2.98826,
          3.06,
          3.09825,
          3.16,
          3.26552,
          3.31309,
          3.55,
          3.55036,
          3.59742,
          3.60782,
          3.67576,
          3.73867,
          3.82231,
          3.86468,
          3.89908,
          4.03074,
          4.119,
          4.15923,
          4.17268,
          4.2,
          4.26694,
          4.29622,
          4.40436,
          4.51206,
          4.542,
          4.62,
          4.69,
          4.70399,
          4.78653,
          4.92,
          4.93228,
          5.01515,
          5.03741,
          5.16,
          5.37419,
          5.46419,
          5.59286,
          5.7447,
          5.90594,
          6.07408,
          6.35388,
          6.36804
         ],
         "y": [
          -1.033571839,
          0.37691797800000004,
          -0.792426348,
          -0.974027038,
          -1.705630779,
          0.03147235500000001,
          -1.929689646,
          -0.17227590050000008,
          -0.17243939600000002,
          -0.555156648,
          -0.534818888,
          0.20643872,
          -1.165283442,
          -0.986053944,
          0.006661280999999963,
          -0.28550485800000003,
          -1.78665781,
          -0.322659373,
          -0.312768467,
          -0.6341154573333333,
          -0.189853638,
          -0.553297222,
          -0.180600435,
          -1.130865932,
          -0.896426387,
          -0.144518256,
          -0.3924358986666666,
          -0.463124752,
          0.2378555933333333,
          0.48719847200000005,
          1.1428408025,
          -1.706331372,
          -1.092873931,
          -0.24082118249999995,
          -0.735011876,
          0.4574684103333333,
          -0.398103029,
          -0.227433905,
          -1.148957253,
          -0.433497459,
          -0.0816589,
          0.154370874,
          -0.829303503,
          -0.9016652705,
          0.202127784,
          -0.693096042,
          -0.817912877,
          0.154384434,
          0.359619409,
          -1.298116446,
          -0.578870595,
          -1.654615641,
          -0.197124302,
          -0.72539415,
          -0.458146214,
          -0.09177575533333329,
          0.076331407,
          -0.635804236,
          0.404797912,
          -0.3122201763333333,
          -0.837242424,
          -0.412119031,
          -0.588482082,
          0.856059313,
          -0.298916966,
          -0.95853287,
          0.505372524,
          -0.9419845645,
          -0.2948201,
          -1.381487966,
          0.921506405,
          -0.234162778,
          -1.16172719,
          -1.095386028,
          -0.563422799,
          0.982669771,
          0.790612221,
          0.954206944,
          0.5064255793333334,
          -0.289065599,
          -0.0968570994947368,
          -0.8100847006666667,
          -1.4130580165,
          0.772753358,
          0.925257206,
          -0.90055126,
          -0.12800921499999998,
          -0.809345841,
          -0.475607604,
          0.723349333,
          -0.537414193,
          0.663537145,
          1.325071335,
          0.063863754,
          -0.292993814,
          -0.346296847,
          0.208884388,
          -0.369285375,
          -1.008415937,
          1.416594267,
          1.095159054,
          0.136836872,
          -0.3797947575,
          0.11609870199999994,
          1.320501089,
          -0.420215845,
          0.066538751,
          0.128192991,
          -0.33441925,
          -0.1852270365,
          0.21322825549999996,
          0.251812726,
          1.1422360839999999,
          1.320583105,
          0.492690623,
          0.312690705,
          0.907858193,
          1.224689007,
          0.19992677849999996,
          0.45419102899999997,
          0.0232670455,
          1.301802397,
          0.864745378,
          1.454463124,
          1.161860466,
          0.666367665,
          1.174056292,
          0.402238131,
          0.797956586,
          0.8231034580000001,
          0.973115921,
          0.441145251,
          0.831218481,
          0.32132675266666666,
          0.06831309199999991,
          -0.18022223333333343,
          0.16838756200000005,
          1.304415464,
          1.141306162,
          1.348835111
         ]
        },
        {
         "line": {
          "color": "rgb(247, 148, 93)",
          "dash": "dash",
          "width": 1
         },
         "mode": "lines",
         "name": "95% prediction interval",
         "type": "scatter",
         "x": [
          0,
          0.06432363636363636,
          0.12864727272727272,
          0.19297090909090908,
          0.25729454545454544,
          0.3216181818181818,
          0.38594181818181816,
          0.4502654545454545,
          0.5145890909090909,
          0.5789127272727272,
          0.6432363636363636,
          0.70756,
          0.7718836363636363,
          0.8362072727272727,
          0.900530909090909,
          0.9648545454545454,
          1.0291781818181818,
          1.0935018181818181,
          1.1578254545454545,
          1.2221490909090909,
          1.2864727272727272,
          1.3507963636363636,
          1.41512,
          1.4794436363636363,
          1.5437672727272727,
          1.608090909090909,
          1.6724145454545454,
          1.7367381818181817,
          1.801061818181818,
          1.8653854545454545,
          1.9297090909090908,
          1.9940327272727272,
          2.0583563636363635,
          2.12268,
          2.1870036363636363,
          2.2513272727272726,
          2.315650909090909,
          2.3799745454545453,
          2.4442981818181817,
          2.508621818181818,
          2.5729454545454544,
          2.637269090909091,
          2.701592727272727,
          2.7659163636363635,
          2.83024,
          2.8945636363636362,
          2.9588872727272726,
          3.023210909090909,
          3.0875345454545453,
          3.1518581818181817,
          3.216181818181818,
          3.2805054545454544,
          3.3448290909090908,
          3.409152727272727,
          3.4734763636363635,
          3.5378,
          3.602123636363636,
          3.6664472727272726,
          3.730770909090909,
          3.7950945454545453,
          3.8594181818181816,
          3.923741818181818,
          3.9880654545454544,
          4.052389090909091,
          4.116712727272727,
          4.181036363636363,
          4.24536,
          4.309683636363636,
          4.3740072727272725,
          4.438330909090909,
          4.502654545454545,
          4.566978181818182,
          4.631301818181818,
          4.695625454545454,
          4.759949090909091,
          4.824272727272727,
          4.888596363636363,
          4.95292,
          5.017243636363636,
          5.0815672727272725,
          5.145890909090909,
          5.210214545454545,
          5.274538181818182,
          5.338861818181818,
          5.403185454545454,
          5.467509090909091,
          5.531832727272727,
          5.596156363636363,
          5.66048,
          5.724803636363636,
          5.7891272727272725,
          5.853450909090909,
          5.917774545454545,
          5.9820981818181815,
          6.046421818181818,
          6.110745454545454,
          6.175069090909091,
          6.239392727272727,
          6.303716363636363,
          6.36804
         ],
         "y": [
          0.4971012071344074,
          0.5134435117691616,
          0.5297858164039159,
          0.54612812103867,
          0.5624704256734243,
          0.5788127303081787,
          0.5951550349429329,
          0.6114973395776871,
          0.6278396442124414,
          0.6441819488471956,
          0.6605242534819498,
          0.676866558116704,
          0.6932088627514582,
          0.7095511673862125,
          0.7258934720209669,
          0.742235776655721,
          0.7585780812904753,
          0.7749203859252296,
          0.7912626905599838,
          0.8076049951947379,
          0.8239472998294922,
          0.8402896044642464,
          0.8566319090990007,
          0.8729742137337551,
          0.8893165183685092,
          0.9056588230032635,
          0.9220011276380178,
          0.938343432272772,
          0.9546857369075261,
          0.9710280415422803,
          0.9873703461770346,
          1.0037126508117888,
          1.0200549554465432,
          1.0363972600812974,
          1.0527395647160516,
          1.0690818693508057,
          1.0854241739855601,
          1.1017664786203143,
          1.1181087832550687,
          1.1344510878898229,
          1.150793392524577,
          1.1671356971593314,
          1.1834780017940856,
          1.19982030642884,
          1.2161626110635941,
          1.2325049156983483,
          1.2488472203331025,
          1.2651895249678566,
          1.2815318296026108,
          1.297874134237365,
          1.3142164388721196,
          1.3305587435068738,
          1.346901048141628,
          1.363243352776382,
          1.3795856574111365,
          1.3959279620458906,
          1.4122702666806448,
          1.4286125713153992,
          1.4449548759501534,
          1.4612971805849078,
          1.477639485219662,
          1.4939817898544163,
          1.5103240944891705,
          1.5266663991239247,
          1.5430087037586788,
          1.559351008393433,
          1.5756933130281872,
          1.5920356176629415,
          1.608377922297696,
          1.62472022693245,
          1.6410625315672043,
          1.6574048362019587,
          1.6737471408367128,
          1.690089445471467,
          1.7064317501062212,
          1.7227740547409753,
          1.7391163593757297,
          1.7554586640104841,
          1.7718009686452383,
          1.7881432732799925,
          1.8044855779147468,
          1.820827882549501,
          1.8371701871842552,
          1.8535124918190093,
          1.8698547964537635,
          1.886197101088518,
          1.9025394057232723,
          1.9188817103580265,
          1.9352240149927806,
          1.9515663196275348,
          1.9679086242622892,
          1.9842509288970434,
          2.0005932335317977,
          2.0169355381665515,
          2.033277842801306,
          2.0496201474360607,
          2.0659624520708144,
          2.082304756705569,
          2.0986470613403228,
          2.1149893659750774
         ]
        },
        {
         "line": {
          "color": "rgb(247, 148, 93)",
          "dash": "dash",
          "width": 1
         },
         "mode": "lines",
         "name": "lower pi band limit",
         "showlegend": false,
         "type": "scatter",
         "x": [
          0,
          0.06432363636363636,
          0.12864727272727272,
          0.19297090909090908,
          0.25729454545454544,
          0.3216181818181818,
          0.38594181818181816,
          0.4502654545454545,
          0.5145890909090909,
          0.5789127272727272,
          0.6432363636363636,
          0.70756,
          0.7718836363636363,
          0.8362072727272727,
          0.900530909090909,
          0.9648545454545454,
          1.0291781818181818,
          1.0935018181818181,
          1.1578254545454545,
          1.2221490909090909,
          1.2864727272727272,
          1.3507963636363636,
          1.41512,
          1.4794436363636363,
          1.5437672727272727,
          1.608090909090909,
          1.6724145454545454,
          1.7367381818181817,
          1.801061818181818,
          1.8653854545454545,
          1.9297090909090908,
          1.9940327272727272,
          2.0583563636363635,
          2.12268,
          2.1870036363636363,
          2.2513272727272726,
          2.315650909090909,
          2.3799745454545453,
          2.4442981818181817,
          2.508621818181818,
          2.5729454545454544,
          2.637269090909091,
          2.701592727272727,
          2.7659163636363635,
          2.83024,
          2.8945636363636362,
          2.9588872727272726,
          3.023210909090909,
          3.0875345454545453,
          3.1518581818181817,
          3.216181818181818,
          3.2805054545454544,
          3.3448290909090908,
          3.409152727272727,
          3.4734763636363635,
          3.5378,
          3.602123636363636,
          3.6664472727272726,
          3.730770909090909,
          3.7950945454545453,
          3.8594181818181816,
          3.923741818181818,
          3.9880654545454544,
          4.052389090909091,
          4.116712727272727,
          4.181036363636363,
          4.24536,
          4.309683636363636,
          4.3740072727272725,
          4.438330909090909,
          4.502654545454545,
          4.566978181818182,
          4.631301818181818,
          4.695625454545454,
          4.759949090909091,
          4.824272727272727,
          4.888596363636363,
          4.95292,
          5.017243636363636,
          5.0815672727272725,
          5.145890909090909,
          5.210214545454545,
          5.274538181818182,
          5.338861818181818,
          5.403185454545454,
          5.467509090909091,
          5.531832727272727,
          5.596156363636363,
          5.66048,
          5.724803636363636,
          5.7891272727272725,
          5.853450909090909,
          5.917774545454545,
          5.9820981818181815,
          6.046421818181818,
          6.110745454545454,
          6.175069090909091,
          6.239392727272727,
          6.303716363636363,
          6.36804
         ],
         "y": [
          -1.6371999340350765,
          -1.6212961997691264,
          -1.6053924655031762,
          -1.5894887312372261,
          -1.573584996971276,
          -1.5576812627053263,
          -1.5417775284393762,
          -1.525873794173426,
          -1.509970059907476,
          -1.4940663256415259,
          -1.4781625913755758,
          -1.4622588571096258,
          -1.4463551228436757,
          -1.4304513885777255,
          -1.4145476543117756,
          -1.3986439200458256,
          -1.3827401857798756,
          -1.3668364515139253,
          -1.3509327172479753,
          -1.3350289829820252,
          -1.319125248716075,
          -1.303221514450125,
          -1.2873177801841749,
          -1.271414045918225,
          -1.255510311652275,
          -1.2396065773863247,
          -1.2237028431203747,
          -1.2077991088544247,
          -1.1918953745884746,
          -1.1759916403225246,
          -1.1600879060565745,
          -1.1441841717906243,
          -1.1282804375246744,
          -1.1123767032587244,
          -1.0964729689927744,
          -1.0805692347268243,
          -1.064665500460874,
          -1.048761766194924,
          -1.0328580319289737,
          -1.0169542976630237,
          -1.0010505633970737,
          -0.9851468291311238,
          -0.9692430948651738,
          -0.9533393605992236,
          -0.9374356263332736,
          -0.9215318920673234,
          -0.9056281578013734,
          -0.8897244235354232,
          -0.8738206892694732,
          -0.8579169550035232,
          -0.8420132207375732,
          -0.8261094864716232,
          -0.810205752205673,
          -0.794302017939723,
          -0.7783982836737728,
          -0.7624945494078228,
          -0.7465908151418728,
          -0.7306870808759226,
          -0.7147833466099726,
          -0.6988796123440226,
          -0.6829758780780726,
          -0.6670721438121224,
          -0.6511684095461724,
          -0.6352646752802222,
          -0.6193609410142722,
          -0.6034572067483222,
          -0.5875534724823721,
          -0.5716497382164218,
          -0.555746003950472,
          -0.539842269684522,
          -0.5239385354185719,
          -0.5080348011526217,
          -0.49213106688667163,
          -0.4762273326207216,
          -0.46032359835477155,
          -0.4444198640888215,
          -0.42851612982287124,
          -0.4126123955569214,
          -0.3967086612909714,
          -0.38080492702502133,
          -0.36490119275907107,
          -0.348997458493121,
          -0.333093724227171,
          -0.31718998996122094,
          -0.3012862556952709,
          -0.28538252142932063,
          -0.2694787871633708,
          -0.25357505289742077,
          -0.23767131863147073,
          -0.2217675843655207,
          -0.20586385009957042,
          -0.18996011583362038,
          -0.17405638156767034,
          -0.1581526473017203,
          -0.14224891303577003,
          -0.1263451787698202,
          -0.11044144450387017,
          -0.09453771023792013,
          -0.07863397597197008,
          -0.06273024170602004
         ]
        }
       ],
       "layout": {
        "height": 650,
        "legend": {
         "visible": false
        },
        "template": {
         "data": {
          "bar": [
           {
            "error_x": {
             "color": "#2a3f5f"
            },
            "error_y": {
             "color": "#2a3f5f"
            },
            "marker": {
             "line": {
              "color": "#E5ECF6",
              "width": 0.5
             },
             "pattern": {
              "fillmode": "overlay",
              "size": 10,
              "solidity": 0.2
             }
            },
            "type": "bar"
           }
          ],
          "barpolar": [
           {
            "marker": {
             "line": {
              "color": "#E5ECF6",
              "width": 0.5
             },
             "pattern": {
              "fillmode": "overlay",
              "size": 10,
              "solidity": 0.2
             }
            },
            "type": "barpolar"
           }
          ],
          "carpet": [
           {
            "aaxis": {
             "endlinecolor": "#2a3f5f",
             "gridcolor": "white",
             "linecolor": "white",
             "minorgridcolor": "white",
             "startlinecolor": "#2a3f5f"
            },
            "baxis": {
             "endlinecolor": "#2a3f5f",
             "gridcolor": "white",
             "linecolor": "white",
             "minorgridcolor": "white",
             "startlinecolor": "#2a3f5f"
            },
            "type": "carpet"
           }
          ],
          "choropleth": [
           {
            "colorbar": {
             "outlinewidth": 0,
             "ticks": ""
            },
            "type": "choropleth"
           }
          ],
          "contour": [
           {
            "colorbar": {
             "outlinewidth": 0,
             "ticks": ""
            },
            "colorscale": [
             [
              0,
              "#0d0887"
             ],
             [
              0.1111111111111111,
              "#46039f"
             ],
             [
              0.2222222222222222,
              "#7201a8"
             ],
             [
              0.3333333333333333,
              "#9c179e"
             ],
             [
              0.4444444444444444,
              "#bd3786"
             ],
             [
              0.5555555555555556,
              "#d8576b"
             ],
             [
              0.6666666666666666,
              "#ed7953"
             ],
             [
              0.7777777777777778,
              "#fb9f3a"
             ],
             [
              0.8888888888888888,
              "#fdca26"
             ],
             [
              1,
              "#f0f921"
             ]
            ],
            "type": "contour"
           }
          ],
          "contourcarpet": [
           {
            "colorbar": {
             "outlinewidth": 0,
             "ticks": ""
            },
            "type": "contourcarpet"
           }
          ],
          "heatmap": [
           {
            "colorbar": {
             "outlinewidth": 0,
             "ticks": ""
            },
            "colorscale": [
             [
              0,
              "#0d0887"
             ],
             [
              0.1111111111111111,
              "#46039f"
             ],
             [
              0.2222222222222222,
              "#7201a8"
             ],
             [
              0.3333333333333333,
              "#9c179e"
             ],
             [
              0.4444444444444444,
              "#bd3786"
             ],
             [
              0.5555555555555556,
              "#d8576b"
             ],
             [
              0.6666666666666666,
              "#ed7953"
             ],
             [
              0.7777777777777778,
              "#fb9f3a"
             ],
             [
              0.8888888888888888,
              "#fdca26"
             ],
             [
              1,
              "#f0f921"
             ]
            ],
            "type": "heatmap"
           }
          ],
          "heatmapgl": [
           {
            "colorbar": {
             "outlinewidth": 0,
             "ticks": ""
            },
            "colorscale": [
             [
              0,
              "#0d0887"
             ],
             [
              0.1111111111111111,
              "#46039f"
             ],
             [
              0.2222222222222222,
              "#7201a8"
             ],
             [
              0.3333333333333333,
              "#9c179e"
             ],
             [
              0.4444444444444444,
              "#bd3786"
             ],
             [
              0.5555555555555556,
              "#d8576b"
             ],
             [
              0.6666666666666666,
              "#ed7953"
             ],
             [
              0.7777777777777778,
              "#fb9f3a"
             ],
             [
              0.8888888888888888,
              "#fdca26"
             ],
             [
              1,
              "#f0f921"
             ]
            ],
            "type": "heatmapgl"
           }
          ],
          "histogram": [
           {
            "marker": {
             "pattern": {
              "fillmode": "overlay",
              "size": 10,
              "solidity": 0.2
             }
            },
            "type": "histogram"
           }
          ],
          "histogram2d": [
           {
            "colorbar": {
             "outlinewidth": 0,
             "ticks": ""
            },
            "colorscale": [
             [
              0,
              "#0d0887"
             ],
             [
              0.1111111111111111,
              "#46039f"
             ],
             [
              0.2222222222222222,
              "#7201a8"
             ],
             [
              0.3333333333333333,
              "#9c179e"
             ],
             [
              0.4444444444444444,
              "#bd3786"
             ],
             [
              0.5555555555555556,
              "#d8576b"
             ],
             [
              0.6666666666666666,
              "#ed7953"
             ],
             [
              0.7777777777777778,
              "#fb9f3a"
             ],
             [
              0.8888888888888888,
              "#fdca26"
             ],
             [
              1,
              "#f0f921"
             ]
            ],
            "type": "histogram2d"
           }
          ],
          "histogram2dcontour": [
           {
            "colorbar": {
             "outlinewidth": 0,
             "ticks": ""
            },
            "colorscale": [
             [
              0,
              "#0d0887"
             ],
             [
              0.1111111111111111,
              "#46039f"
             ],
             [
              0.2222222222222222,
              "#7201a8"
             ],
             [
              0.3333333333333333,
              "#9c179e"
             ],
             [
              0.4444444444444444,
              "#bd3786"
             ],
             [
              0.5555555555555556,
              "#d8576b"
             ],
             [
              0.6666666666666666,
              "#ed7953"
             ],
             [
              0.7777777777777778,
              "#fb9f3a"
             ],
             [
              0.8888888888888888,
              "#fdca26"
             ],
             [
              1,
              "#f0f921"
             ]
            ],
            "type": "histogram2dcontour"
           }
          ],
          "mesh3d": [
           {
            "colorbar": {
             "outlinewidth": 0,
             "ticks": ""
            },
            "type": "mesh3d"
           }
          ],
          "parcoords": [
           {
            "line": {
             "colorbar": {
              "outlinewidth": 0,
              "ticks": ""
             }
            },
            "type": "parcoords"
           }
          ],
          "pie": [
           {
            "automargin": true,
            "type": "pie"
           }
          ],
          "scatter": [
           {
            "fillpattern": {
             "fillmode": "overlay",
             "size": 10,
             "solidity": 0.2
            },
            "type": "scatter"
           }
          ],
          "scatter3d": [
           {
            "line": {
             "colorbar": {
              "outlinewidth": 0,
              "ticks": ""
             }
            },
            "marker": {
             "colorbar": {
              "outlinewidth": 0,
              "ticks": ""
             }
            },
            "type": "scatter3d"
           }
          ],
          "scattercarpet": [
           {
            "marker": {
             "colorbar": {
              "outlinewidth": 0,
              "ticks": ""
             }
            },
            "type": "scattercarpet"
           }
          ],
          "scattergeo": [
           {
            "marker": {
             "colorbar": {
              "outlinewidth": 0,
              "ticks": ""
             }
            },
            "type": "scattergeo"
           }
          ],
          "scattergl": [
           {
            "marker": {
             "colorbar": {
              "outlinewidth": 0,
              "ticks": ""
             }
            },
            "type": "scattergl"
           }
          ],
          "scattermapbox": [
           {
            "marker": {
             "colorbar": {
              "outlinewidth": 0,
              "ticks": ""
             }
            },
            "type": "scattermapbox"
           }
          ],
          "scatterpolar": [
           {
            "marker": {
             "colorbar": {
              "outlinewidth": 0,
              "ticks": ""
             }
            },
            "type": "scatterpolar"
           }
          ],
          "scatterpolargl": [
           {
            "marker": {
             "colorbar": {
              "outlinewidth": 0,
              "ticks": ""
             }
            },
            "type": "scatterpolargl"
           }
          ],
          "scatterternary": [
           {
            "marker": {
             "colorbar": {
              "outlinewidth": 0,
              "ticks": ""
             }
            },
            "type": "scatterternary"
           }
          ],
          "surface": [
           {
            "colorbar": {
             "outlinewidth": 0,
             "ticks": ""
            },
            "colorscale": [
             [
              0,
              "#0d0887"
             ],
             [
              0.1111111111111111,
              "#46039f"
             ],
             [
              0.2222222222222222,
              "#7201a8"
             ],
             [
              0.3333333333333333,
              "#9c179e"
             ],
             [
              0.4444444444444444,
              "#bd3786"
             ],
             [
              0.5555555555555556,
              "#d8576b"
             ],
             [
              0.6666666666666666,
              "#ed7953"
             ],
             [
              0.7777777777777778,
              "#fb9f3a"
             ],
             [
              0.8888888888888888,
              "#fdca26"
             ],
             [
              1,
              "#f0f921"
             ]
            ],
            "type": "surface"
           }
          ],
          "table": [
           {
            "cells": {
             "fill": {
              "color": "#EBF0F8"
             },
             "line": {
              "color": "white"
             }
            },
            "header": {
             "fill": {
              "color": "#C8D4E3"
             },
             "line": {
              "color": "white"
             }
            },
            "type": "table"
           }
          ]
         },
         "layout": {
          "annotationdefaults": {
           "arrowcolor": "#2a3f5f",
           "arrowhead": 0,
           "arrowwidth": 1
          },
          "autotypenumbers": "strict",
          "coloraxis": {
           "colorbar": {
            "outlinewidth": 0,
            "ticks": ""
           }
          },
          "colorscale": {
           "diverging": [
            [
             0,
             "#8e0152"
            ],
            [
             0.1,
             "#c51b7d"
            ],
            [
             0.2,
             "#de77ae"
            ],
            [
             0.3,
             "#f1b6da"
            ],
            [
             0.4,
             "#fde0ef"
            ],
            [
             0.5,
             "#f7f7f7"
            ],
            [
             0.6,
             "#e6f5d0"
            ],
            [
             0.7,
             "#b8e186"
            ],
            [
             0.8,
             "#7fbc41"
            ],
            [
             0.9,
             "#4d9221"
            ],
            [
             1,
             "#276419"
            ]
           ],
           "sequential": [
            [
             0,
             "#0d0887"
            ],
            [
             0.1111111111111111,
             "#46039f"
            ],
            [
             0.2222222222222222,
             "#7201a8"
            ],
            [
             0.3333333333333333,
             "#9c179e"
            ],
            [
             0.4444444444444444,
             "#bd3786"
            ],
            [
             0.5555555555555556,
             "#d8576b"
            ],
            [
             0.6666666666666666,
             "#ed7953"
            ],
            [
             0.7777777777777778,
             "#fb9f3a"
            ],
            [
             0.8888888888888888,
             "#fdca26"
            ],
            [
             1,
             "#f0f921"
            ]
           ],
           "sequentialminus": [
            [
             0,
             "#0d0887"
            ],
            [
             0.1111111111111111,
             "#46039f"
            ],
            [
             0.2222222222222222,
             "#7201a8"
            ],
            [
             0.3333333333333333,
             "#9c179e"
            ],
            [
             0.4444444444444444,
             "#bd3786"
            ],
            [
             0.5555555555555556,
             "#d8576b"
            ],
            [
             0.6666666666666666,
             "#ed7953"
            ],
            [
             0.7777777777777778,
             "#fb9f3a"
            ],
            [
             0.8888888888888888,
             "#fdca26"
            ],
            [
             1,
             "#f0f921"
            ]
           ]
          },
          "colorway": [
           "#636efa",
           "#EF553B",
           "#00cc96",
           "#ab63fa",
           "#FFA15A",
           "#19d3f3",
           "#FF6692",
           "#B6E880",
           "#FF97FF",
           "#FECB52"
          ],
          "font": {
           "color": "#2a3f5f"
          },
          "geo": {
           "bgcolor": "white",
           "lakecolor": "white",
           "landcolor": "#E5ECF6",
           "showlakes": true,
           "showland": true,
           "subunitcolor": "white"
          },
          "hoverlabel": {
           "align": "left"
          },
          "hovermode": "closest",
          "mapbox": {
           "style": "light"
          },
          "paper_bgcolor": "white",
          "plot_bgcolor": "#E5ECF6",
          "polar": {
           "angularaxis": {
            "gridcolor": "white",
            "linecolor": "white",
            "ticks": ""
           },
           "bgcolor": "#E5ECF6",
           "radialaxis": {
            "gridcolor": "white",
            "linecolor": "white",
            "ticks": ""
           }
          },
          "scene": {
           "xaxis": {
            "backgroundcolor": "#E5ECF6",
            "gridcolor": "white",
            "gridwidth": 2,
            "linecolor": "white",
            "showbackground": true,
            "ticks": "",
            "zerolinecolor": "white"
           },
           "yaxis": {
            "backgroundcolor": "#E5ECF6",
            "gridcolor": "white",
            "gridwidth": 2,
            "linecolor": "white",
            "showbackground": true,
            "ticks": "",
            "zerolinecolor": "white"
           },
           "zaxis": {
            "backgroundcolor": "#E5ECF6",
            "gridcolor": "white",
            "gridwidth": 2,
            "linecolor": "white",
            "showbackground": true,
            "ticks": "",
            "zerolinecolor": "white"
           }
          },
          "shapedefaults": {
           "line": {
            "color": "#2a3f5f"
           }
          },
          "ternary": {
           "aaxis": {
            "gridcolor": "white",
            "linecolor": "white",
            "ticks": ""
           },
           "baxis": {
            "gridcolor": "white",
            "linecolor": "white",
            "ticks": ""
           },
           "bgcolor": "#E5ECF6",
           "caxis": {
            "gridcolor": "white",
            "linecolor": "white",
            "ticks": ""
           }
          },
          "title": {
           "x": 0.05
          },
          "xaxis": {
           "automargin": true,
           "gridcolor": "white",
           "linecolor": "white",
           "ticks": "",
           "title": {
            "standoff": 15
           },
           "zerolinecolor": "white",
           "zerolinewidth": 2
          },
          "yaxis": {
           "automargin": true,
           "gridcolor": "white",
           "linecolor": "white",
           "ticks": "",
           "title": {
            "standoff": 15
           },
           "zerolinecolor": "white",
           "zerolinewidth": 2
          }
         }
        },
        "title": {
         "text": "Relationship between Beer Consumption and Democratic Quality, 2008 to 2008"
        },
        "width": 800,
        "xaxis": {
         "range": [
          0,
          6
         ],
         "title": {
          "text": ""
         },
         "type": "linear"
        },
        "yaxis": {
         "range": [
          -2.5,
          2.5
         ],
         "title": {
          "text": ""
         },
         "type": "linear"
        }
       }
      },
      "image/png": "[encoded data removed]",
      "text/html": [
       "<div>                            <div id=\"9ebcd3fc-b662-40fb-a621-477f4b5c51c5\" class=\"plotly-graph-div\" style=\"height:650px; width:800px;\"></div>            <script type=\"text/javascript\">                require([\"plotly\"], function(Plotly) {                    window.PLOTLYENV=window.PLOTLYENV || {};                                    if (document.getElementById(\"9ebcd3fc-b662-40fb-a621-477f4b5c51c5\")) {                    Plotly.newPlot(                        \"9ebcd3fc-b662-40fb-a621-477f4b5c51c5\",                        [{\"line\":{\"color\":\"rgb(249, 123, 87)\",\"width\":0},\"mode\":\"lines\",\"name\":\"upper ci band limit\",\"showlegend\":false,\"x\":[0.0,2e-05,0.00063,0.00089,0.00184,0.00314,0.00857,0.01904,0.03707,0.05228,0.06239,0.06918,0.08337,0.11408,0.12624,0.12985,0.13243,0.13441,0.14411,0.17185,0.17189,0.17431,0.17514,0.2,0.20481,0.20516,0.22273,0.23743,0.24,0.27631,0.29127,0.29464,0.3025,0.31215,0.33804,0.34295,0.37229,0.3785,0.39072,0.41888,0.45622,0.46059,0.46526,0.46918,0.48534,0.53415,0.57399,0.58994,0.64038,0.64738,0.65159,0.7544,0.75573,0.7738,0.89265,0.9318,0.95487,0.98366,1.05456,1.05855,1.05914,1.15598,1.18769,1.1933,1.19467,1.21871,1.21892,1.32375,1.35838,1.47,1.47119,1.48,1.48124,1.55,1.56418,1.65198,1.71088,1.77419,1.9171,1.95569,2.003079855072464,2.05811,2.12835,2.17467,2.18,2.24392,2.36106,2.37334,2.39637,2.43,2.45578,2.50001,2.7,2.72729,2.77167,2.78687,2.7959,2.8504,2.98826,3.06,3.09825,3.16,3.26552,3.31309,3.55,3.55036,3.59742,3.60782,3.67576,3.73867,3.82231,3.86468,3.89908,4.03074,4.119,4.15923,4.17268,4.2,4.26694,4.29622,4.40436,4.51206,4.542,4.62,4.69,4.70399,4.78653,4.92,4.93228,5.01515,5.03741,5.16,5.37419,5.46419,5.59286,5.7447,5.90594,6.07408,6.35388,6.36804],\"y\":[-0.4364944847456675,-0.43649020379654524,-0.4363596332525689,-0.4363039792943324,-0.4361006235164029,-0.4358223350256737,-0.4346597931257205,-0.43241750982421523,-0.4285539850982054,-0.4252925764231772,-0.4231236287842057,-0.4216664358876392,-0.4186198277124456,-0.412020198257539,-0.4094046287438749,-0.40862786989191024,-0.4080726609852696,-0.40764652862822903,-0.40555838392329935,-0.3995818405746921,-0.39957321735651763,-0.3990514841589688,-0.3988725296830977,-0.39350943590054066,-0.3924710707847636,-0.3923955052046403,-0.38860055753009615,-0.38542313690552776,-0.3848674052837182,-0.37700859291533784,-0.37376672529042465,-0.37303611318645513,-0.3713316064062119,-0.36923802235113934,-0.3636161783085367,-0.3625491789640843,-0.35616768720224734,-0.35481576537074044,-0.35215418232413753,-0.34601423657160074,-0.3378583275395167,-0.3369027277925435,-0.33588127012919233,-0.33502365313733184,-0.3314861820959535,-0.320781728615884,-0.31202178583400875,-0.30850885178905924,-0.297376851749055,-0.2958291803272218,-0.29489803410257465,-0.2720791821144049,-0.2717829523013765,-0.2677555353367382,-0.2411365426591634,-0.23231648054194365,-0.22710655519652528,-0.2205915775958867,-0.20448260364380377,-0.20357324238171504,-0.2034387496209586,-0.18127153681960806,-0.17397199503993738,-0.17267842762132962,-0.17236243010819824,-0.16681107925409433,-0.16676253211099035,-0.1424092878288631,-0.13431076087647625,-0.10801823504509217,-0.10773633237463083,-0.1056482396908301,-0.10535419147896218,-0.08898979149607679,-0.08560048051673792,-0.06450116973997772,-0.050235557639442,-0.03480019686034275,0.0004364765748217786,0.010046246532197947,0.021902850384121014,0.03574777710060727,0.05353893212815397,0.06534440183611694,0.06670655140821377,0.08310131457687421,0.11342622796291026,0.11662586333344802,0.12263687039231956,0.13143870963627302,0.13820522171353378,0.14985267720622386,0.20309923640767102,0.21043573505236018,0.22240110325545687,0.22650885555535485,0.22895148553460737,0.24372965675113756,0.28137465707996506,0.30110509807025176,0.31166201011836914,0.32875714337534834,0.3581117564293358,0.37140073234495985,0.4380469928208426,0.4381488109569977,0.4514718722292399,0.45441966629563013,0.473706573465405,0.4916100140960802,0.5154753804865568,0.5275908040620931,0.537439470008802,0.5752290212816387,0.6006408335294817,0.6122434616706803,0.6161251754056251,0.6240137925235854,0.6433645182206634,0.6518381042130699,0.6831808486668739,0.7144652641793601,0.7231736509828677,0.7458830250885697,0.7662893169657229,0.77037049747586,0.7944676111648669,0.833496461335589,0.8370910306045367,0.8613638914351441,0.8678883425812787,0.9038515565654855,0.966805542852167,0.9932988389033186,1.0312133848425644,1.0760082376115152,1.1236331733442717,1.1733525378247909,1.256202629148126,1.260398876990037],\"type\":\"scatter\"},{\"fill\":\"tonexty\",\"fillcolor\":\"rgb(249, 123, 87)\",\"line\":{\"color\":\"rgb(249, 123, 87)\",\"width\":0},\"mode\":\"none\",\"name\":\"95% confidence interval   \",\"x\":[0.0,2e-05,0.00063,0.00089,0.00184,0.00314,0.00857,0.01904,0.03707,0.05228,0.06239,0.06918,0.08337,0.11408,0.12624,0.12985,0.13243,0.13441,0.14411,0.17185,0.17189,0.17431,0.17514,0.2,0.20481,0.20516,0.22273,0.23743,0.24,0.27631,0.29127,0.29464,0.3025,0.31215,0.33804,0.34295,0.37229,0.3785,0.39072,0.41888,0.45622,0.46059,0.46526,0.46918,0.48534,0.53415,0.57399,0.58994,0.64038,0.64738,0.65159,0.7544,0.75573,0.7738,0.89265,0.9318,0.95487,0.98366,1.05456,1.05855,1.05914,1.15598,1.18769,1.1933,1.19467,1.21871,1.21892,1.32375,1.35838,1.47,1.47119,1.48,1.48124,1.55,1.56418,1.65198,1.71088,1.77419,1.9171,1.95569,2.003079855072464,2.05811,2.12835,2.17467,2.18,2.24392,2.36106,2.37334,2.39637,2.43,2.45578,2.50001,2.7,2.72729,2.77167,2.78687,2.7959,2.8504,2.98826,3.06,3.09825,3.16,3.26552,3.31309,3.55,3.55036,3.59742,3.60782,3.67576,3.73867,3.82231,3.86468,3.89908,4.03074,4.119,4.15923,4.17268,4.2,4.26694,4.29622,4.40436,4.51206,4.542,4.62,4.69,4.70399,4.78653,4.92,4.93228,5.01515,5.03741,5.16,5.37419,5.46419,5.59286,5.7447,5.90594,6.07408,6.35388,6.36804],\"y\":[-0.7036042421550015,-0.7035984969175697,-0.703423268771649,-0.7033485823046832,-0.7030756942212972,-0.7027022805860158,-0.7011427128365555,-0.6981362874770368,-0.692961205024607,-0.6885976988253111,-0.6856984091612308,-0.683751711722711,-0.679684740537835,-0.67088916053906,-0.6674088086278864,-0.6663758408068522,-0.6656376716480257,-0.6650712115362193,-0.6622966557624544,-0.6543668783606504,-0.6543554492057169,-0.6536640138302308,-0.6534268815641102,-0.6463274254600335,-0.6449544927095714,-0.6448546000249996,-0.6398415428118462,-0.6356497163192177,-0.6349170829688371,-0.6245733536484132,-0.6203156337309274,-0.6193568334005463,-0.6171210488650638,-0.6143769979078267,-0.6070199434562641,-0.6056255140017072,-0.5972985900888123,-0.5955373809952992,-0.5920729640574023,-0.5840960391418937,-0.5735330578776421,-0.5722979358625643,-0.5709782789655542,-0.5698707633928288,-0.5653070756985675,-0.5515426208935769,-0.5403304000598652,-0.5358474503279922,-0.5216934078787845,-0.5197319140067145,-0.5185525479617425,-0.48983178796902654,-0.4894612763762133,-0.484430033789304,-0.45146841286967754,-0.44066221480742374,-0.43430693396279224,-0.42638921601893415,-0.40695535863705345,-0.4058644956816172,-0.4057032159390304,-0.37932363344586706,-0.37072665644415576,-0.3692078785343638,-0.36883708226854556,-0.3623369568847301,-0.3622802290690169,-0.3340812165283036,-0.324819401462423,-0.2951557801358801,-0.29484112470637797,-0.2925126822131375,-0.29218510685865684,-0.2740794774688575,-0.2703602221814038,-0.2474445739860623,-0.23218306668504018,-0.21588053392742235,-0.17947509134091216,-0.16973933434232708,-0.15783896180805027,-0.14409676356765366,-0.1266759514175192,-0.11526077306639619,-0.11395094392184943,-0.09830201486389557,-0.0699035536030982,-0.0669471104294743,-0.06141296367140363,-0.053355770224790225,-0.047198527833932954,-0.03667307176243083,0.01033722148293971,0.016681454391196462,0.02696419415144674,0.030476343632595965,0.032560536882478786,0.045103724025624445,0.07656922761358416,0.09280271779252956,0.1014208875289555,0.11528160525748044,0.13882515246244698,0.1493834612655344,0.20150239361517097,0.20158104683698813,0.21184960252633012,0.21411542546802487,0.2288874740222201,0.24252140319718185,0.26058554897557284,0.26971060161470545,0.2771069765408932,0.3053198113531008,0.3241535603681016,0.33271860648029283,0.33557950320291974,0.3413866569177364,0.3555935776169278,0.36179832873959133,0.3846671749833165,0.40737377406417147,0.4136745885320159,0.4300673419869512,0.4447527030488311,0.4476848400332235,0.46496579825261397,0.492846704050074,0.49540821332528834,0.5126788564812191,0.5173135509696971,0.5428058474682912,0.5872273060817742,0.6058518495236656,0.6324407747796392,0.6637647303287286,0.6969709105943968,0.7315416964734354,0.7889579550406927,0.79186024727902],\"type\":\"scatter\"},{\"line\":{\"color\":\"rgb(246, 99, 86)\"},\"mode\":\"lines\",\"name\":\"linear model\",\"x\":[0.0,2e-05,0.00063,0.00089,0.00184,0.00314,0.00857,0.01904,0.03707,0.05228,0.06239,0.06918,0.08337,0.11408,0.12624,0.12985,0.13243,0.13441,0.14411,0.17185,0.17189,0.17431,0.17514,0.2,0.20481,0.20516,0.22273,0.23743,0.24,0.27631,0.29127,0.29464,0.3025,0.31215,0.33804,0.34295,0.37229,0.3785,0.39072,0.41888,0.45622,0.46059,0.46526,0.46918,0.48534,0.53415,0.57399,0.58994,0.64038,0.64738,0.65159,0.7544,0.75573,0.7738,0.89265,0.9318,0.95487,0.98366,1.05456,1.05855,1.05914,1.15598,1.18769,1.1933,1.19467,1.21871,1.21892,1.32375,1.35838,1.47,1.47119,1.48,1.48124,1.55,1.56418,1.65198,1.71088,1.77419,1.9171,1.95569,2.003079855072464,2.05811,2.12835,2.17467,2.18,2.24392,2.36106,2.37334,2.39637,2.43,2.45578,2.50001,2.7,2.72729,2.77167,2.78687,2.7959,2.8504,2.98826,3.06,3.09825,3.16,3.26552,3.31309,3.55,3.55036,3.59742,3.60782,3.67576,3.73867,3.82231,3.86468,3.89908,4.03074,4.119,4.15923,4.17268,4.2,4.26694,4.29622,4.40436,4.51206,4.542,4.62,4.69,4.70399,4.78653,4.92,4.93228,5.01515,5.03741,5.16,5.37419,5.46419,5.59286,5.7447,5.90594,6.07408,6.35388,6.36804],\"y\":[-0.5700493634503345,-0.5700443503570575,-0.5698914510121089,-0.5698262807995078,-0.5695881588688501,-0.5692623078058447,-0.567901252981138,-0.565276898650626,-0.5607575950614062,-0.5569451376242441,-0.5544110189727183,-0.5527090738051751,-0.5491522841251403,-0.5414546793982995,-0.5384067186858806,-0.5375018553493812,-0.5368551663166476,-0.5363588700822242,-0.5339275198428769,-0.5269743594676712,-0.5269643332811172,-0.5263577489945998,-0.526149705623604,-0.5199184306802871,-0.5187127817471675,-0.51862505261482,-0.5142210501709712,-0.5105364266123728,-0.5098922441262776,-0.5007909732818755,-0.497041179510676,-0.4961964732935007,-0.49422632763563784,-0.49180751012948304,-0.4853180608824004,-0.48408734648289575,-0.4767331386455298,-0.4751765731830198,-0.4721135731907699,-0.46505513785674724,-0.4556956927085794,-0.4546003318275539,-0.45342977454737327,-0.45244720826508034,-0.4483966288972605,-0.4361621747547304,-0.426176092946937,-0.42217815105852574,-0.40953512981391976,-0.4077805471669681,-0.4067252910321586,-0.3809554850417157,-0.3806221143387949,-0.3760927845630211,-0.34630247776442047,-0.3364893476746837,-0.33070674457965876,-0.32349039680741043,-0.3057189811404286,-0.3047188690316661,-0.3045709827799945,-0.28029758513273756,-0.27234932574204657,-0.2709431530778467,-0.2705997561883719,-0.2645740180694122,-0.26452138059000363,-0.23824525217858333,-0.22956508116944963,-0.20158700759048614,-0.2012887285405044,-0.19908046095198378,-0.19876964916880951,-0.18153463448246715,-0.17798035134907086,-0.15597287186302,-0.14120931216224109,-0.12534036539388255,-0.0895193073830452,-0.07984654390506457,-0.06796805571196463,-0.05417449323352319,-0.03656850964468261,-0.024958185615139628,-0.02362219625681783,-0.007600350143510681,0.021761337179906026,0.02483937645198686,0.030611953360457966,0.039041469705741405,0.045503346939800404,0.05658980272189651,0.10671822894530536,0.11355859472177832,0.1246826487034518,0.1284925995939754,0.13075601120854308,0.144416690388381,0.1789719423467746,0.19695390793139067,0.20654144882366232,0.2220193743164144,0.24846845444589138,0.2603920968052471,0.3197746932180068,0.3198649288969929,0.331660737377785,0.3342675458818275,0.35129702374381255,0.367065708646631,0.38803046473106484,0.3986507028383993,0.4072732232748476,0.44027441631736974,0.46239719694879167,0.4724810340754866,0.4758523393042724,0.4827002247206609,0.4994790479187956,0.5068182164763306,0.5339240118250952,0.5609195191217657,0.5684241197574418,0.5879751835377605,0.605521010007277,0.6090276687545417,0.6297167047087404,0.6631715826928315,0.6662496219649126,0.6870213739581816,0.6926009467754879,0.7233287020168884,0.7770164244669706,0.7995753442134921,0.8318270798111018,0.8698864839701219,0.9103020419693342,0.9524471171491131,1.0225802920944094,1.0261295621345286],\"type\":\"scatter\"},{\"marker\":{\"color\":\"rgb(238, 77, 90)\",\"opacity\":0.5},\"mode\":\"markers\",\"name\":\"students\",\"x\":[0.0,2e-05,0.00063,0.00089,0.00184,0.00314,0.00857,0.01904,0.03707,0.05228,0.06239,0.06918,0.08337,0.11408,0.12624,0.12985,0.13243,0.13441,0.14411,0.17185,0.17189,0.17431,0.17514,0.2,0.20481,0.20516,0.22273,0.23743,0.24,0.27631,0.29127,0.29464,0.3025,0.31215,0.33804,0.34295,0.37229,0.3785,0.39072,0.41888,0.45622,0.46059,0.46526,0.46918,0.48534,0.53415,0.57399,0.58994,0.64038,0.64738,0.65159,0.7544,0.75573,0.7738,0.89265,0.9318,0.95487,0.98366,1.05456,1.05855,1.05914,1.15598,1.18769,1.1933,1.19467,1.21871,1.21892,1.32375,1.35838,1.47,1.47119,1.48,1.48124,1.55,1.56418,1.65198,1.71088,1.77419,1.9171,1.95569,2.003079855072464,2.05811,2.12835,2.17467,2.18,2.24392,2.36106,2.37334,2.39637,2.43,2.45578,2.50001,2.7,2.72729,2.77167,2.78687,2.7959,2.8504,2.98826,3.06,3.09825,3.16,3.26552,3.31309,3.55,3.55036,3.59742,3.60782,3.67576,3.73867,3.82231,3.86468,3.89908,4.03074,4.119,4.15923,4.17268,4.2,4.26694,4.29622,4.40436,4.51206,4.542,4.62,4.69,4.70399,4.78653,4.92,4.93228,5.01515,5.03741,5.16,5.37419,5.46419,5.59286,5.7447,5.90594,6.07408,6.35388,6.36804],\"y\":[-1.033571839,0.37691797800000004,-0.792426348,-0.974027038,-1.705630779,0.03147235500000001,-1.929689646,-0.17227590050000008,-0.17243939600000002,-0.555156648,-0.534818888,0.20643872,-1.165283442,-0.986053944,0.006661280999999963,-0.28550485800000003,-1.78665781,-0.322659373,-0.312768467,-0.6341154573333333,-0.189853638,-0.553297222,-0.180600435,-1.130865932,-0.896426387,-0.144518256,-0.3924358986666666,-0.463124752,0.2378555933333333,0.48719847200000005,1.1428408025,-1.706331372,-1.092873931,-0.24082118249999995,-0.735011876,0.4574684103333333,-0.398103029,-0.227433905,-1.148957253,-0.433497459,-0.0816589,0.154370874,-0.829303503,-0.9016652705,0.202127784,-0.693096042,-0.817912877,0.154384434,0.359619409,-1.298116446,-0.578870595,-1.654615641,-0.197124302,-0.72539415,-0.458146214,-0.09177575533333329,0.076331407,-0.635804236,0.404797912,-0.3122201763333333,-0.837242424,-0.412119031,-0.588482082,0.856059313,-0.298916966,-0.95853287,0.505372524,-0.9419845645,-0.2948201,-1.381487966,0.921506405,-0.234162778,-1.16172719,-1.095386028,-0.563422799,0.982669771,0.790612221,0.954206944,0.5064255793333334,-0.289065599,-0.0968570994947368,-0.8100847006666667,-1.4130580165,0.772753358,0.925257206,-0.90055126,-0.12800921499999998,-0.809345841,-0.475607604,0.723349333,-0.537414193,0.663537145,1.325071335,0.063863754,-0.292993814,-0.346296847,0.208884388,-0.369285375,-1.008415937,1.416594267,1.095159054,0.136836872,-0.3797947575,0.11609870199999994,1.320501089,-0.420215845,0.066538751,0.128192991,-0.33441925,-0.1852270365,0.21322825549999996,0.251812726,1.1422360839999999,1.320583105,0.492690623,0.312690705,0.907858193,1.224689007,0.19992677849999996,0.45419102899999997,0.0232670455,1.301802397,0.864745378,1.454463124,1.161860466,0.666367665,1.174056292,0.402238131,0.797956586,0.8231034580000001,0.973115921,0.441145251,0.831218481,0.32132675266666666,0.06831309199999991,-0.18022223333333343,0.16838756200000005,1.304415464,1.141306162,1.348835111],\"type\":\"scatter\"},{\"line\":{\"color\":\"rgb(247, 148, 93)\",\"dash\":\"dash\",\"width\":1},\"mode\":\"lines\",\"name\":\"95% prediction interval\",\"x\":[0.0,0.06432363636363636,0.12864727272727272,0.19297090909090908,0.25729454545454544,0.3216181818181818,0.38594181818181816,0.4502654545454545,0.5145890909090909,0.5789127272727272,0.6432363636363636,0.70756,0.7718836363636363,0.8362072727272727,0.900530909090909,0.9648545454545454,1.0291781818181818,1.0935018181818181,1.1578254545454545,1.2221490909090909,1.2864727272727272,1.3507963636363636,1.41512,1.4794436363636363,1.5437672727272727,1.608090909090909,1.6724145454545454,1.7367381818181817,1.801061818181818,1.8653854545454545,1.9297090909090908,1.9940327272727272,2.0583563636363635,2.12268,2.1870036363636363,2.2513272727272726,2.315650909090909,2.3799745454545453,2.4442981818181817,2.508621818181818,2.5729454545454544,2.637269090909091,2.701592727272727,2.7659163636363635,2.83024,2.8945636363636362,2.9588872727272726,3.023210909090909,3.0875345454545453,3.1518581818181817,3.216181818181818,3.2805054545454544,3.3448290909090908,3.409152727272727,3.4734763636363635,3.5378,3.602123636363636,3.6664472727272726,3.730770909090909,3.7950945454545453,3.8594181818181816,3.923741818181818,3.9880654545454544,4.052389090909091,4.116712727272727,4.181036363636363,4.24536,4.309683636363636,4.3740072727272725,4.438330909090909,4.502654545454545,4.566978181818182,4.631301818181818,4.695625454545454,4.759949090909091,4.824272727272727,4.888596363636363,4.95292,5.017243636363636,5.0815672727272725,5.145890909090909,5.210214545454545,5.274538181818182,5.338861818181818,5.403185454545454,5.467509090909091,5.531832727272727,5.596156363636363,5.66048,5.724803636363636,5.7891272727272725,5.853450909090909,5.917774545454545,5.9820981818181815,6.046421818181818,6.110745454545454,6.175069090909091,6.239392727272727,6.303716363636363,6.36804],\"y\":[0.4971012071344074,0.5134435117691616,0.5297858164039159,0.54612812103867,0.5624704256734243,0.5788127303081787,0.5951550349429329,0.6114973395776871,0.6278396442124414,0.6441819488471956,0.6605242534819498,0.676866558116704,0.6932088627514582,0.7095511673862125,0.7258934720209669,0.742235776655721,0.7585780812904753,0.7749203859252296,0.7912626905599838,0.8076049951947379,0.8239472998294922,0.8402896044642464,0.8566319090990007,0.8729742137337551,0.8893165183685092,0.9056588230032635,0.9220011276380178,0.938343432272772,0.9546857369075261,0.9710280415422803,0.9873703461770346,1.0037126508117888,1.0200549554465432,1.0363972600812974,1.0527395647160516,1.0690818693508057,1.0854241739855601,1.1017664786203143,1.1181087832550687,1.1344510878898229,1.150793392524577,1.1671356971593314,1.1834780017940856,1.19982030642884,1.2161626110635941,1.2325049156983483,1.2488472203331025,1.2651895249678566,1.2815318296026108,1.297874134237365,1.3142164388721196,1.3305587435068738,1.346901048141628,1.363243352776382,1.3795856574111365,1.3959279620458906,1.4122702666806448,1.4286125713153992,1.4449548759501534,1.4612971805849078,1.477639485219662,1.4939817898544163,1.5103240944891705,1.5266663991239247,1.5430087037586788,1.559351008393433,1.5756933130281872,1.5920356176629415,1.608377922297696,1.62472022693245,1.6410625315672043,1.6574048362019587,1.6737471408367128,1.690089445471467,1.7064317501062212,1.7227740547409753,1.7391163593757297,1.7554586640104841,1.7718009686452383,1.7881432732799925,1.8044855779147468,1.820827882549501,1.8371701871842552,1.8535124918190093,1.8698547964537635,1.886197101088518,1.9025394057232723,1.9188817103580265,1.9352240149927806,1.9515663196275348,1.9679086242622892,1.9842509288970434,2.0005932335317977,2.0169355381665515,2.033277842801306,2.0496201474360607,2.0659624520708144,2.082304756705569,2.0986470613403228,2.1149893659750774],\"type\":\"scatter\"},{\"line\":{\"color\":\"rgb(247, 148, 93)\",\"dash\":\"dash\",\"width\":1},\"mode\":\"lines\",\"name\":\"lower pi band limit\",\"showlegend\":false,\"x\":[0.0,0.06432363636363636,0.12864727272727272,0.19297090909090908,0.25729454545454544,0.3216181818181818,0.38594181818181816,0.4502654545454545,0.5145890909090909,0.5789127272727272,0.6432363636363636,0.70756,0.7718836363636363,0.8362072727272727,0.900530909090909,0.9648545454545454,1.0291781818181818,1.0935018181818181,1.1578254545454545,1.2221490909090909,1.2864727272727272,1.3507963636363636,1.41512,1.4794436363636363,1.5437672727272727,1.608090909090909,1.6724145454545454,1.7367381818181817,1.801061818181818,1.8653854545454545,1.9297090909090908,1.9940327272727272,2.0583563636363635,2.12268,2.1870036363636363,2.2513272727272726,2.315650909090909,2.3799745454545453,2.4442981818181817,2.508621818181818,2.5729454545454544,2.637269090909091,2.701592727272727,2.7659163636363635,2.83024,2.8945636363636362,2.9588872727272726,3.023210909090909,3.0875345454545453,3.1518581818181817,3.216181818181818,3.2805054545454544,3.3448290909090908,3.409152727272727,3.4734763636363635,3.5378,3.602123636363636,3.6664472727272726,3.730770909090909,3.7950945454545453,3.8594181818181816,3.923741818181818,3.9880654545454544,4.052389090909091,4.116712727272727,4.181036363636363,4.24536,4.309683636363636,4.3740072727272725,4.438330909090909,4.502654545454545,4.566978181818182,4.631301818181818,4.695625454545454,4.759949090909091,4.824272727272727,4.888596363636363,4.95292,5.017243636363636,5.0815672727272725,5.145890909090909,5.210214545454545,5.274538181818182,5.338861818181818,5.403185454545454,5.467509090909091,5.531832727272727,5.596156363636363,5.66048,5.724803636363636,5.7891272727272725,5.853450909090909,5.917774545454545,5.9820981818181815,6.046421818181818,6.110745454545454,6.175069090909091,6.239392727272727,6.303716363636363,6.36804],\"y\":[-1.6371999340350765,-1.6212961997691264,-1.6053924655031762,-1.5894887312372261,-1.573584996971276,-1.5576812627053263,-1.5417775284393762,-1.525873794173426,-1.509970059907476,-1.4940663256415259,-1.4781625913755758,-1.4622588571096258,-1.4463551228436757,-1.4304513885777255,-1.4145476543117756,-1.3986439200458256,-1.3827401857798756,-1.3668364515139253,-1.3509327172479753,-1.3350289829820252,-1.319125248716075,-1.303221514450125,-1.2873177801841749,-1.271414045918225,-1.255510311652275,-1.2396065773863247,-1.2237028431203747,-1.2077991088544247,-1.1918953745884746,-1.1759916403225246,-1.1600879060565745,-1.1441841717906243,-1.1282804375246744,-1.1123767032587244,-1.0964729689927744,-1.0805692347268243,-1.064665500460874,-1.048761766194924,-1.0328580319289737,-1.0169542976630237,-1.0010505633970737,-0.9851468291311238,-0.9692430948651738,-0.9533393605992236,-0.9374356263332736,-0.9215318920673234,-0.9056281578013734,-0.8897244235354232,-0.8738206892694732,-0.8579169550035232,-0.8420132207375732,-0.8261094864716232,-0.810205752205673,-0.794302017939723,-0.7783982836737728,-0.7624945494078228,-0.7465908151418728,-0.7306870808759226,-0.7147833466099726,-0.6988796123440226,-0.6829758780780726,-0.6670721438121224,-0.6511684095461724,-0.6352646752802222,-0.6193609410142722,-0.6034572067483222,-0.5875534724823721,-0.5716497382164218,-0.555746003950472,-0.539842269684522,-0.5239385354185719,-0.5080348011526217,-0.49213106688667163,-0.4762273326207216,-0.46032359835477155,-0.4444198640888215,-0.42851612982287124,-0.4126123955569214,-0.3967086612909714,-0.38080492702502133,-0.36490119275907107,-0.348997458493121,-0.333093724227171,-0.31718998996122094,-0.3012862556952709,-0.28538252142932063,-0.2694787871633708,-0.25357505289742077,-0.23767131863147073,-0.2217675843655207,-0.20586385009957042,-0.18996011583362038,-0.17405638156767034,-0.1581526473017203,-0.14224891303577003,-0.1263451787698202,-0.11044144450387017,-0.09453771023792013,-0.07863397597197008,-0.06273024170602004],\"type\":\"scatter\"}],                        {\"template\":{\"data\":{\"histogram2dcontour\":[{\"type\":\"histogram2dcontour\",\"colorbar\":{\"outlinewidth\":0,\"ticks\":\"\"},\"colorscale\":[[0.0,\"#0d0887\"],[0.1111111111111111,\"#46039f\"],[0.2222222222222222,\"#7201a8\"],[0.3333333333333333,\"#9c179e\"],[0.4444444444444444,\"#bd3786\"],[0.5555555555555556,\"#d8576b\"],[0.6666666666666666,\"#ed7953\"],[0.7777777777777778,\"#fb9f3a\"],[0.8888888888888888,\"#fdca26\"],[1.0,\"#f0f921\"]]}],\"choropleth\":[{\"type\":\"choropleth\",\"colorbar\":{\"outlinewidth\":0,\"ticks\":\"\"}}],\"histogram2d\":[{\"type\":\"histogram2d\",\"colorbar\":{\"outlinewidth\":0,\"ticks\":\"\"},\"colorscale\":[[0.0,\"#0d0887\"],[0.1111111111111111,\"#46039f\"],[0.2222222222222222,\"#7201a8\"],[0.3333333333333333,\"#9c179e\"],[0.4444444444444444,\"#bd3786\"],[0.5555555555555556,\"#d8576b\"],[0.6666666666666666,\"#ed7953\"],[0.7777777777777778,\"#fb9f3a\"],[0.8888888888888888,\"#fdca26\"],[1.0,\"#f0f921\"]]}],\"heatmap\":[{\"type\":\"heatmap\",\"colorbar\":{\"outlinewidth\":0,\"ticks\":\"\"},\"colorscale\":[[0.0,\"#0d0887\"],[0.1111111111111111,\"#46039f\"],[0.2222222222222222,\"#7201a8\"],[0.3333333333333333,\"#9c179e\"],[0.4444444444444444,\"#bd3786\"],[0.5555555555555556,\"#d8576b\"],[0.6666666666666666,\"#ed7953\"],[0.7777777777777778,\"#fb9f3a\"],[0.8888888888888888,\"#fdca26\"],[1.0,\"#f0f921\"]]}],\"heatmapgl\":[{\"type\":\"heatmapgl\",\"colorbar\":{\"outlinewidth\":0,\"ticks\":\"\"},\"colorscale\":[[0.0,\"#0d0887\"],[0.1111111111111111,\"#46039f\"],[0.2222222222222222,\"#7201a8\"],[0.3333333333333333,\"#9c179e\"],[0.4444444444444444,\"#bd3786\"],[0.5555555555555556,\"#d8576b\"],[0.6666666666666666,\"#ed7953\"],[0.7777777777777778,\"#fb9f3a\"],[0.8888888888888888,\"#fdca26\"],[1.0,\"#f0f921\"]]}],\"contourcarpet\":[{\"type\":\"contourcarpet\",\"colorbar\":{\"outlinewidth\":0,\"ticks\":\"\"}}],\"contour\":[{\"type\":\"contour\",\"colorbar\":{\"outlinewidth\":0,\"ticks\":\"\"},\"colorscale\":[[0.0,\"#0d0887\"],[0.1111111111111111,\"#46039f\"],[0.2222222222222222,\"#7201a8\"],[0.3333333333333333,\"#9c179e\"],[0.4444444444444444,\"#bd3786\"],[0.5555555555555556,\"#d8576b\"],[0.6666666666666666,\"#ed7953\"],[0.7777777777777778,\"#fb9f3a\"],[0.8888888888888888,\"#fdca26\"],[1.0,\"#f0f921\"]]}],\"surface\":[{\"type\":\"surface\",\"colorbar\":{\"outlinewidth\":0,\"ticks\":\"\"},\"colorscale\":[[0.0,\"#0d0887\"],[0.1111111111111111,\"#46039f\"],[0.2222222222222222,\"#7201a8\"],[0.3333333333333333,\"#9c179e\"],[0.4444444444444444,\"#bd3786\"],[0.5555555555555556,\"#d8576b\"],[0.6666666666666666,\"#ed7953\"],[0.7777777777777778,\"#fb9f3a\"],[0.8888888888888888,\"#fdca26\"],[1.0,\"#f0f921\"]]}],\"mesh3d\":[{\"type\":\"mesh3d\",\"colorbar\":{\"outlinewidth\":0,\"ticks\":\"\"}}],\"scatter\":[{\"fillpattern\":{\"fillmode\":\"overlay\",\"size\":10,\"solidity\":0.2},\"type\":\"scatter\"}],\"parcoords\":[{\"type\":\"parcoords\",\"line\":{\"colorbar\":{\"outlinewidth\":0,\"ticks\":\"\"}}}],\"scatterpolargl\":[{\"type\":\"scatterpolargl\",\"marker\":{\"colorbar\":{\"outlinewidth\":0,\"ticks\":\"\"}}}],\"bar\":[{\"error_x\":{\"color\":\"#2a3f5f\"},\"error_y\":{\"color\":\"#2a3f5f\"},\"marker\":{\"line\":{\"color\":\"#E5ECF6\",\"width\":0.5},\"pattern\":{\"fillmode\":\"overlay\",\"size\":10,\"solidity\":0.2}},\"type\":\"bar\"}],\"scattergeo\":[{\"type\":\"scattergeo\",\"marker\":{\"colorbar\":{\"outlinewidth\":0,\"ticks\":\"\"}}}],\"scatterpolar\":[{\"type\":\"scatterpolar\",\"marker\":{\"colorbar\":{\"outlinewidth\":0,\"ticks\":\"\"}}}],\"histogram\":[{\"marker\":{\"pattern\":{\"fillmode\":\"overlay\",\"size\":10,\"solidity\":0.2}},\"type\":\"histogram\"}],\"scattergl\":[{\"type\":\"scattergl\",\"marker\":{\"colorbar\":{\"outlinewidth\":0,\"ticks\":\"\"}}}],\"scatter3d\":[{\"type\":\"scatter3d\",\"line\":{\"colorbar\":{\"outlinewidth\":0,\"ticks\":\"\"}},\"marker\":{\"colorbar\":{\"outlinewidth\":0,\"ticks\":\"\"}}}],\"scattermapbox\":[{\"type\":\"scattermapbox\",\"marker\":{\"colorbar\":{\"outlinewidth\":0,\"ticks\":\"\"}}}],\"scatterternary\":[{\"type\":\"scatterternary\",\"marker\":{\"colorbar\":{\"outlinewidth\":0,\"ticks\":\"\"}}}],\"scattercarpet\":[{\"type\":\"scattercarpet\",\"marker\":{\"colorbar\":{\"outlinewidth\":0,\"ticks\":\"\"}}}],\"carpet\":[{\"aaxis\":{\"endlinecolor\":\"#2a3f5f\",\"gridcolor\":\"white\",\"linecolor\":\"white\",\"minorgridcolor\":\"white\",\"startlinecolor\":\"#2a3f5f\"},\"baxis\":{\"endlinecolor\":\"#2a3f5f\",\"gridcolor\":\"white\",\"linecolor\":\"white\",\"minorgridcolor\":\"white\",\"startlinecolor\":\"#2a3f5f\"},\"type\":\"carpet\"}],\"table\":[{\"cells\":{\"fill\":{\"color\":\"#EBF0F8\"},\"line\":{\"color\":\"white\"}},\"header\":{\"fill\":{\"color\":\"#C8D4E3\"},\"line\":{\"color\":\"white\"}},\"type\":\"table\"}],\"barpolar\":[{\"marker\":{\"line\":{\"color\":\"#E5ECF6\",\"width\":0.5},\"pattern\":{\"fillmode\":\"overlay\",\"size\":10,\"solidity\":0.2}},\"type\":\"barpolar\"}],\"pie\":[{\"automargin\":true,\"type\":\"pie\"}]},\"layout\":{\"autotypenumbers\":\"strict\",\"colorway\":[\"#636efa\",\"#EF553B\",\"#00cc96\",\"#ab63fa\",\"#FFA15A\",\"#19d3f3\",\"#FF6692\",\"#B6E880\",\"#FF97FF\",\"#FECB52\"],\"font\":{\"color\":\"#2a3f5f\"},\"hovermode\":\"closest\",\"hoverlabel\":{\"align\":\"left\"},\"paper_bgcolor\":\"white\",\"plot_bgcolor\":\"#E5ECF6\",\"polar\":{\"bgcolor\":\"#E5ECF6\",\"angularaxis\":{\"gridcolor\":\"white\",\"linecolor\":\"white\",\"ticks\":\"\"},\"radialaxis\":{\"gridcolor\":\"white\",\"linecolor\":\"white\",\"ticks\":\"\"}},\"ternary\":{\"bgcolor\":\"#E5ECF6\",\"aaxis\":{\"gridcolor\":\"white\",\"linecolor\":\"white\",\"ticks\":\"\"},\"baxis\":{\"gridcolor\":\"white\",\"linecolor\":\"white\",\"ticks\":\"\"},\"caxis\":{\"gridcolor\":\"white\",\"linecolor\":\"white\",\"ticks\":\"\"}},\"coloraxis\":{\"colorbar\":{\"outlinewidth\":0,\"ticks\":\"\"}},\"colorscale\":{\"sequential\":[[0.0,\"#0d0887\"],[0.1111111111111111,\"#46039f\"],[0.2222222222222222,\"#7201a8\"],[0.3333333333333333,\"#9c179e\"],[0.4444444444444444,\"#bd3786\"],[0.5555555555555556,\"#d8576b\"],[0.6666666666666666,\"#ed7953\"],[0.7777777777777778,\"#fb9f3a\"],[0.8888888888888888,\"#fdca26\"],[1.0,\"#f0f921\"]],\"sequentialminus\":[[0.0,\"#0d0887\"],[0.1111111111111111,\"#46039f\"],[0.2222222222222222,\"#7201a8\"],[0.3333333333333333,\"#9c179e\"],[0.4444444444444444,\"#bd3786\"],[0.5555555555555556,\"#d8576b\"],[0.6666666666666666,\"#ed7953\"],[0.7777777777777778,\"#fb9f3a\"],[0.8888888888888888,\"#fdca26\"],[1.0,\"#f0f921\"]],\"diverging\":[[0,\"#8e0152\"],[0.1,\"#c51b7d\"],[0.2,\"#de77ae\"],[0.3,\"#f1b6da\"],[0.4,\"#fde0ef\"],[0.5,\"#f7f7f7\"],[0.6,\"#e6f5d0\"],[0.7,\"#b8e186\"],[0.8,\"#7fbc41\"],[0.9,\"#4d9221\"],[1,\"#276419\"]]},\"xaxis\":{\"gridcolor\":\"white\",\"linecolor\":\"white\",\"ticks\":\"\",\"title\":{\"standoff\":15},\"zerolinecolor\":\"white\",\"automargin\":true,\"zerolinewidth\":2},\"yaxis\":{\"gridcolor\":\"white\",\"linecolor\":\"white\",\"ticks\":\"\",\"title\":{\"standoff\":15},\"zerolinecolor\":\"white\",\"automargin\":true,\"zerolinewidth\":2},\"scene\":{\"xaxis\":{\"backgroundcolor\":\"#E5ECF6\",\"gridcolor\":\"white\",\"linecolor\":\"white\",\"showbackground\":true,\"ticks\":\"\",\"zerolinecolor\":\"white\",\"gridwidth\":2},\"yaxis\":{\"backgroundcolor\":\"#E5ECF6\",\"gridcolor\":\"white\",\"linecolor\":\"white\",\"showbackground\":true,\"ticks\":\"\",\"zerolinecolor\":\"white\",\"gridwidth\":2},\"zaxis\":{\"backgroundcolor\":\"#E5ECF6\",\"gridcolor\":\"white\",\"linecolor\":\"white\",\"showbackground\":true,\"ticks\":\"\",\"zerolinecolor\":\"white\",\"gridwidth\":2}},\"shapedefaults\":{\"line\":{\"color\":\"#2a3f5f\"}},\"annotationdefaults\":{\"arrowcolor\":\"#2a3f5f\",\"arrowhead\":0,\"arrowwidth\":1},\"geo\":{\"bgcolor\":\"white\",\"landcolor\":\"#E5ECF6\",\"subunitcolor\":\"white\",\"showland\":true,\"showlakes\":true,\"lakecolor\":\"white\"},\"title\":{\"x\":0.05},\"mapbox\":{\"style\":\"light\"}}},\"xaxis\":{\"title\":{\"text\":\"\"},\"range\":[0,6]},\"yaxis\":{\"title\":{\"text\":\"\"},\"range\":[-2.5,2.5]},\"title\":{\"text\":\"Relationship between Beer Consumption and Democratic Quality, 2008 to 2008\"},\"height\":650,\"width\":800,\"legend\":{\"visible\":false}},                        {\"responsive\": true}                    ).then(function(){\n",
       "                            \n",
       "var gd = document.getElementById('9ebcd3fc-b662-40fb-a621-477f4b5c51c5');\n",
       "var x = new MutationObserver(function (mutations, observer) {{\n",
       "        var display = window.getComputedStyle(gd).display;\n",
       "        if (!display || display === 'none') {{\n",
       "            console.log([gd, 'removed!']);\n",
       "            Plotly.purge(gd);\n",
       "            observer.disconnect();\n",
       "        }}\n",
       "}});\n",
       "\n",
       "// Listen for the removal of the full notebook cells\n",
       "var notebookContainer = gd.closest('#notebook-container');\n",
       "if (notebookContainer) {{\n",
       "    x.observe(notebookContainer, {childList: true});\n",
       "}}\n",
       "\n",
       "// Listen for the clearing of the current output cell\n",
       "var outputEl = gd.closest('.output');\n",
       "if (outputEl) {{\n",
       "    x.observe(outputEl, {childList: true});\n",
       "}}\n",
       "\n",
       "                        })                };                });            </script>        </div>"
      ]
     },
     "metadata": {},
     "output_type": "display_data"
    }
   ],
   "source": [
    "from sklearn.linear_model import LinearRegression\n",
    "from scipy import stats\n",
    "\n",
    "def fig_C_scatter(df1, df2, year1, year2, size=None, conf=0.95, colors=px.colors.diverging.Temps, opacity=0.5, title=None):\n",
    "\n",
    "\n",
    "    x = pd.Series(wrangle_year_difference(beer, year1, year2).values.flatten(), index=df1.index)\n",
    "    y = pd.Series(wrangle_year_difference(dem, year1, year2).values.flatten(), index=df2.index)\n",
    "\n",
    "    # x = df1[year]\n",
    "    # y = df2[year]\n",
    "    \n",
    "    x_vals = x.interpolate()\n",
    "    y_vals = y.interpolate()\n",
    "\n",
    "        \n",
    "    # sort x and y\n",
    "    list_of_tuples = [(a,b) for a,b in zip(x_vals, y_vals)]\n",
    "    list_of_sorted_tuples = sorted(list_of_tuples, key=lambda j: j[0])\n",
    "    x_arr = np.asarray([a[0] for a in list_of_sorted_tuples])\n",
    "    y_arr = np.asarray([b[1] for b in list_of_sorted_tuples])\n",
    "\n",
    "    # linear regression model\n",
    "    model = LinearRegression()\n",
    "    model.fit(x_arr.reshape(-1, 1), y_arr)\n",
    "    y_hat = model.predict(x_arr.reshape(-1, 1))\n",
    "\n",
    "    # figures needed for inferential statistics\n",
    "    n = x_arr.size\n",
    "    m = len(x_arr.shape)\n",
    "    dof = n - m\n",
    "    t = stats.t.ppf(conf, dof)\n",
    "\n",
    "    resid = y_arr - y_hat\n",
    "    se = np.sqrt(np.sum(resid**2) / dof)\n",
    "\n",
    "    ci = t * se * np.sqrt(1/n + (x_arr - np.mean(x_arr))**2 / np.sum((x_arr - np.mean(x_arr))**2))\n",
    "    pi = t * se * np.sqrt(1 + 1/n + (x_arr - np.mean(x_arr))**2 / np.sum((x_arr - np.mean(x_arr))**2))\n",
    "\n",
    "    pi2 = np.linspace(pi.min(), pi.max(), 100)\n",
    "    x2 = np.linspace(x_arr.min(), x_arr.max(), 100)\n",
    "    y_hat2 = np.linspace(y_hat.min(), y_hat.max(), 100)\n",
    "\n",
    "    # scatterplot with ci // pi bands\n",
    "    ff = go.Figure()\n",
    "\n",
    "    ff.add_trace(\n",
    "        go.Scatter(\n",
    "            x=x_arr,\n",
    "            y=y_hat+ci,\n",
    "            mode=\"lines\",\n",
    "            line={\"color\": colors[2], \"width\": 0},\n",
    "            name=\"upper ci band limit\",\n",
    "            showlegend=False\n",
    "        )\n",
    "    )\n",
    "\n",
    "    ff.add_trace(\n",
    "        go.Scatter(\n",
    "            x=x_arr,\n",
    "            y=y_hat-ci,\n",
    "            mode=\"none\",\n",
    "            line={\"color\": colors[2], \"width\": 0},\n",
    "            name=f\"{round(conf * 100)}% confidence interval   \",\n",
    "            fill=\"tonexty\",\n",
    "            fillcolor=colors[2]\n",
    "        )\n",
    "    )\n",
    "\n",
    "\n",
    "    ff.add_trace(\n",
    "        go.Scatter(\n",
    "            x=x_arr,\n",
    "            y=y_hat,\n",
    "            mode=\"lines\",\n",
    "            line={\"color\": colors[1]},\n",
    "            name=\"linear model\",\n",
    "        )\n",
    "    )\n",
    "    \n",
    "    \n",
    "    ff.add_trace(\n",
    "        go.Scatter(\n",
    "            x=x_arr,\n",
    "            y=y_arr,\n",
    "            mode=\"markers\",\n",
    "            marker={\"color\": colors[0], \"opacity\": opacity, \"size\": size},\n",
    "            name=\"students\"\n",
    "        )\n",
    "    )\n",
    "\n",
    "    ff.add_trace(\n",
    "        go.Scatter(\n",
    "            x=x2,\n",
    "            y=y_hat2+pi2,\n",
    "            mode=\"lines\",\n",
    "            line={\"color\": colors[3], \"width\": 1, \"dash\": \"dash\"},\n",
    "            name=f\"{round(conf*100)}% prediction interval\",\n",
    "        )\n",
    "    )\n",
    "\n",
    "    ff.add_trace(\n",
    "        go.Scatter(\n",
    "            x=x2,\n",
    "            y=y_hat2-pi2,\n",
    "            mode=\"lines\",\n",
    "            line={\"color\": colors[3], \"width\": 1, \"dash\": \"dash\"},\n",
    "            name=\"lower pi band limit\",\n",
    "            showlegend=False\n",
    "        )\n",
    "    )\n",
    "\n",
    "\n",
    "    return ff.update_layout({\"title\": f\"Relationship between Beer Consumption and Democratic Quality, {year1} to {year2}\",\n",
    "                           \"height\": 650,\n",
    "                            \"width\": 1500,\n",
    "                            \"xaxis\":{\"title\": \"\", \"range\": [0, 6]},\n",
    "                            \"yaxis\": {\"title\": \"\", \"range\": [-2.5, +2.5]}},\n",
    "                           )\n",
    "\n",
    "\n",
    "year1 = 2008\n",
    "year2 = 2008\n",
    "\n",
    "\n",
    "fig = fig_C_scatter(beer, dem, year1, year2, size=None, conf=0.95, colors=px.colors.sequential.Oryel[::-1])\n",
    "fig.update_layout({\"width\": 800, \"legend\": {\"visible\": False}})"
   ]
  },
  {
   "cell_type": "code",
   "execution_count": 36,
   "id": "304b58dc-ee2b-4742-a92f-2ac3d0058a7e",
   "metadata": {},
   "outputs": [
    {
     "data": {
      "text/html": [
       "<div>\n",
       "<style scoped>\n",
       "    .dataframe tbody tr th:only-of-type {\n",
       "        vertical-align: middle;\n",
       "    }\n",
       "\n",
       "    .dataframe tbody tr th {\n",
       "        vertical-align: top;\n",
       "    }\n",
       "\n",
       "    .dataframe thead th {\n",
       "        text-align: right;\n",
       "    }\n",
       "</style>\n",
       "<table border=\"1\" class=\"dataframe\">\n",
       "  <thead>\n",
       "    <tr style=\"text-align: right;\">\n",
       "      <th>Country</th>\n",
       "      <th>Cameroon</th>\n",
       "      <th>Year</th>\n",
       "    </tr>\n",
       "  </thead>\n",
       "  <tbody>\n",
       "    <tr>\n",
       "      <th>0</th>\n",
       "      <td>2.37334</td>\n",
       "      <td>2008</td>\n",
       "    </tr>\n",
       "    <tr>\n",
       "      <th>1</th>\n",
       "      <td>2.80216</td>\n",
       "      <td>2009</td>\n",
       "    </tr>\n",
       "    <tr>\n",
       "      <th>2</th>\n",
       "      <td>2.58000</td>\n",
       "      <td>2010</td>\n",
       "    </tr>\n",
       "    <tr>\n",
       "      <th>3</th>\n",
       "      <td>2.54000</td>\n",
       "      <td>2011</td>\n",
       "    </tr>\n",
       "    <tr>\n",
       "      <th>4</th>\n",
       "      <td>2.85000</td>\n",
       "      <td>2012</td>\n",
       "    </tr>\n",
       "    <tr>\n",
       "      <th>5</th>\n",
       "      <td>3.02000</td>\n",
       "      <td>2013</td>\n",
       "    </tr>\n",
       "    <tr>\n",
       "      <th>6</th>\n",
       "      <td>3.03000</td>\n",
       "      <td>2014</td>\n",
       "    </tr>\n",
       "    <tr>\n",
       "      <th>7</th>\n",
       "      <td>2.82000</td>\n",
       "      <td>2015</td>\n",
       "    </tr>\n",
       "    <tr>\n",
       "      <th>8</th>\n",
       "      <td>2.43000</td>\n",
       "      <td>2016</td>\n",
       "    </tr>\n",
       "    <tr>\n",
       "      <th>9</th>\n",
       "      <td>2.42000</td>\n",
       "      <td>2017</td>\n",
       "    </tr>\n",
       "    <tr>\n",
       "      <th>10</th>\n",
       "      <td>2.36000</td>\n",
       "      <td>2018</td>\n",
       "    </tr>\n",
       "  </tbody>\n",
       "</table>\n",
       "</div>"
      ],
      "text/plain": [
       "Country  Cameroon  Year\n",
       "0         2.37334  2008\n",
       "1         2.80216  2009\n",
       "2         2.58000  2010\n",
       "3         2.54000  2011\n",
       "4         2.85000  2012\n",
       "5         3.02000  2013\n",
       "6         3.03000  2014\n",
       "7         2.82000  2015\n",
       "8         2.43000  2016\n",
       "9         2.42000  2017\n",
       "10        2.36000  2018"
      ]
     },
     "execution_count": 36,
     "metadata": {},
     "output_type": "execute_result"
    }
   ],
   "source": [
    "year1 = 2008\n",
    "year2 = 2018\n",
    "\n",
    "beer_dash = beer.T.reset_index().rename(columns={\"index\": \"Year\"})\n",
    "\n",
    "mask_gt = ( beer_dash[\"Year\"] >= year1 )\n",
    "mask_lt = ( beer_dash[\"Year\"] <= year2)\n",
    "df = beer_dash[[country, \"Year\"]][mask_gt & mask_lt]\n",
    "\n",
    "df"
   ]
  },
  {
   "cell_type": "code",
   "execution_count": 27,
   "id": "6075956c-99dc-4d98-ac6b-50ea278c9a3b",
   "metadata": {},
   "outputs": [
    {
     "data": {
      "application/vnd.plotly.v1+json": {
       "config": {
        "plotlyServerURL": "https://plot.ly"
       },
       "data": [
        {
         "hovertemplate": "Year=%{x}<br>Average=%{y}<extra></extra>",
         "legendgroup": "",
         "line": {
          "color": "rgb(244,109,67)",
          "dash": "solid"
         },
         "marker": {
          "symbol": "circle"
         },
         "mode": "lines+markers",
         "name": "",
         "orientation": "v",
         "showlegend": false,
         "type": "scatter",
         "x": [
          2008,
          2009,
          2010,
          2011,
          2012,
          2013,
          2014,
          2015,
          2016,
          2017
         ],
         "xaxis": "x",
         "y": [
          2.003079855072464,
          1.961372536231884,
          1.960072463768116,
          1.980217391304348,
          1.983623188405797,
          1.9705072463768112,
          1.9886231884057968,
          1.9928985507246373,
          1.996086956521739,
          2.004855072463768
         ],
         "yaxis": "y"
        }
       ],
       "layout": {
        "autosize": true,
        "legend": {
         "tracegroupgap": 0
        },
        "margin": {
         "t": 60
        },
        "template": {
         "data": {
          "bar": [
           {
            "error_x": {
             "color": "#2a3f5f"
            },
            "error_y": {
             "color": "#2a3f5f"
            },
            "marker": {
             "line": {
              "color": "#E5ECF6",
              "width": 0.5
             },
             "pattern": {
              "fillmode": "overlay",
              "size": 10,
              "solidity": 0.2
             }
            },
            "type": "bar"
           }
          ],
          "barpolar": [
           {
            "marker": {
             "line": {
              "color": "#E5ECF6",
              "width": 0.5
             },
             "pattern": {
              "fillmode": "overlay",
              "size": 10,
              "solidity": 0.2
             }
            },
            "type": "barpolar"
           }
          ],
          "carpet": [
           {
            "aaxis": {
             "endlinecolor": "#2a3f5f",
             "gridcolor": "white",
             "linecolor": "white",
             "minorgridcolor": "white",
             "startlinecolor": "#2a3f5f"
            },
            "baxis": {
             "endlinecolor": "#2a3f5f",
             "gridcolor": "white",
             "linecolor": "white",
             "minorgridcolor": "white",
             "startlinecolor": "#2a3f5f"
            },
            "type": "carpet"
           }
          ],
          "choropleth": [
           {
            "colorbar": {
             "outlinewidth": 0,
             "ticks": ""
            },
            "type": "choropleth"
           }
          ],
          "contour": [
           {
            "colorbar": {
             "outlinewidth": 0,
             "ticks": ""
            },
            "colorscale": [
             [
              0,
              "#0d0887"
             ],
             [
              0.1111111111111111,
              "#46039f"
             ],
             [
              0.2222222222222222,
              "#7201a8"
             ],
             [
              0.3333333333333333,
              "#9c179e"
             ],
             [
              0.4444444444444444,
              "#bd3786"
             ],
             [
              0.5555555555555556,
              "#d8576b"
             ],
             [
              0.6666666666666666,
              "#ed7953"
             ],
             [
              0.7777777777777778,
              "#fb9f3a"
             ],
             [
              0.8888888888888888,
              "#fdca26"
             ],
             [
              1,
              "#f0f921"
             ]
            ],
            "type": "contour"
           }
          ],
          "contourcarpet": [
           {
            "colorbar": {
             "outlinewidth": 0,
             "ticks": ""
            },
            "type": "contourcarpet"
           }
          ],
          "heatmap": [
           {
            "colorbar": {
             "outlinewidth": 0,
             "ticks": ""
            },
            "colorscale": [
             [
              0,
              "#0d0887"
             ],
             [
              0.1111111111111111,
              "#46039f"
             ],
             [
              0.2222222222222222,
              "#7201a8"
             ],
             [
              0.3333333333333333,
              "#9c179e"
             ],
             [
              0.4444444444444444,
              "#bd3786"
             ],
             [
              0.5555555555555556,
              "#d8576b"
             ],
             [
              0.6666666666666666,
              "#ed7953"
             ],
             [
              0.7777777777777778,
              "#fb9f3a"
             ],
             [
              0.8888888888888888,
              "#fdca26"
             ],
             [
              1,
              "#f0f921"
             ]
            ],
            "type": "heatmap"
           }
          ],
          "heatmapgl": [
           {
            "colorbar": {
             "outlinewidth": 0,
             "ticks": ""
            },
            "colorscale": [
             [
              0,
              "#0d0887"
             ],
             [
              0.1111111111111111,
              "#46039f"
             ],
             [
              0.2222222222222222,
              "#7201a8"
             ],
             [
              0.3333333333333333,
              "#9c179e"
             ],
             [
              0.4444444444444444,
              "#bd3786"
             ],
             [
              0.5555555555555556,
              "#d8576b"
             ],
             [
              0.6666666666666666,
              "#ed7953"
             ],
             [
              0.7777777777777778,
              "#fb9f3a"
             ],
             [
              0.8888888888888888,
              "#fdca26"
             ],
             [
              1,
              "#f0f921"
             ]
            ],
            "type": "heatmapgl"
           }
          ],
          "histogram": [
           {
            "marker": {
             "pattern": {
              "fillmode": "overlay",
              "size": 10,
              "solidity": 0.2
             }
            },
            "type": "histogram"
           }
          ],
          "histogram2d": [
           {
            "colorbar": {
             "outlinewidth": 0,
             "ticks": ""
            },
            "colorscale": [
             [
              0,
              "#0d0887"
             ],
             [
              0.1111111111111111,
              "#46039f"
             ],
             [
              0.2222222222222222,
              "#7201a8"
             ],
             [
              0.3333333333333333,
              "#9c179e"
             ],
             [
              0.4444444444444444,
              "#bd3786"
             ],
             [
              0.5555555555555556,
              "#d8576b"
             ],
             [
              0.6666666666666666,
              "#ed7953"
             ],
             [
              0.7777777777777778,
              "#fb9f3a"
             ],
             [
              0.8888888888888888,
              "#fdca26"
             ],
             [
              1,
              "#f0f921"
             ]
            ],
            "type": "histogram2d"
           }
          ],
          "histogram2dcontour": [
           {
            "colorbar": {
             "outlinewidth": 0,
             "ticks": ""
            },
            "colorscale": [
             [
              0,
              "#0d0887"
             ],
             [
              0.1111111111111111,
              "#46039f"
             ],
             [
              0.2222222222222222,
              "#7201a8"
             ],
             [
              0.3333333333333333,
              "#9c179e"
             ],
             [
              0.4444444444444444,
              "#bd3786"
             ],
             [
              0.5555555555555556,
              "#d8576b"
             ],
             [
              0.6666666666666666,
              "#ed7953"
             ],
             [
              0.7777777777777778,
              "#fb9f3a"
             ],
             [
              0.8888888888888888,
              "#fdca26"
             ],
             [
              1,
              "#f0f921"
             ]
            ],
            "type": "histogram2dcontour"
           }
          ],
          "mesh3d": [
           {
            "colorbar": {
             "outlinewidth": 0,
             "ticks": ""
            },
            "type": "mesh3d"
           }
          ],
          "parcoords": [
           {
            "line": {
             "colorbar": {
              "outlinewidth": 0,
              "ticks": ""
             }
            },
            "type": "parcoords"
           }
          ],
          "pie": [
           {
            "automargin": true,
            "type": "pie"
           }
          ],
          "scatter": [
           {
            "fillpattern": {
             "fillmode": "overlay",
             "size": 10,
             "solidity": 0.2
            },
            "type": "scatter"
           }
          ],
          "scatter3d": [
           {
            "line": {
             "colorbar": {
              "outlinewidth": 0,
              "ticks": ""
             }
            },
            "marker": {
             "colorbar": {
              "outlinewidth": 0,
              "ticks": ""
             }
            },
            "type": "scatter3d"
           }
          ],
          "scattercarpet": [
           {
            "marker": {
             "colorbar": {
              "outlinewidth": 0,
              "ticks": ""
             }
            },
            "type": "scattercarpet"
           }
          ],
          "scattergeo": [
           {
            "marker": {
             "colorbar": {
              "outlinewidth": 0,
              "ticks": ""
             }
            },
            "type": "scattergeo"
           }
          ],
          "scattergl": [
           {
            "marker": {
             "colorbar": {
              "outlinewidth": 0,
              "ticks": ""
             }
            },
            "type": "scattergl"
           }
          ],
          "scattermapbox": [
           {
            "marker": {
             "colorbar": {
              "outlinewidth": 0,
              "ticks": ""
             }
            },
            "type": "scattermapbox"
           }
          ],
          "scatterpolar": [
           {
            "marker": {
             "colorbar": {
              "outlinewidth": 0,
              "ticks": ""
             }
            },
            "type": "scatterpolar"
           }
          ],
          "scatterpolargl": [
           {
            "marker": {
             "colorbar": {
              "outlinewidth": 0,
              "ticks": ""
             }
            },
            "type": "scatterpolargl"
           }
          ],
          "scatterternary": [
           {
            "marker": {
             "colorbar": {
              "outlinewidth": 0,
              "ticks": ""
             }
            },
            "type": "scatterternary"
           }
          ],
          "surface": [
           {
            "colorbar": {
             "outlinewidth": 0,
             "ticks": ""
            },
            "colorscale": [
             [
              0,
              "#0d0887"
             ],
             [
              0.1111111111111111,
              "#46039f"
             ],
             [
              0.2222222222222222,
              "#7201a8"
             ],
             [
              0.3333333333333333,
              "#9c179e"
             ],
             [
              0.4444444444444444,
              "#bd3786"
             ],
             [
              0.5555555555555556,
              "#d8576b"
             ],
             [
              0.6666666666666666,
              "#ed7953"
             ],
             [
              0.7777777777777778,
              "#fb9f3a"
             ],
             [
              0.8888888888888888,
              "#fdca26"
             ],
             [
              1,
              "#f0f921"
             ]
            ],
            "type": "surface"
           }
          ],
          "table": [
           {
            "cells": {
             "fill": {
              "color": "#EBF0F8"
             },
             "line": {
              "color": "white"
             }
            },
            "header": {
             "fill": {
              "color": "#C8D4E3"
             },
             "line": {
              "color": "white"
             }
            },
            "type": "table"
           }
          ]
         },
         "layout": {
          "annotationdefaults": {
           "arrowcolor": "#2a3f5f",
           "arrowhead": 0,
           "arrowwidth": 1
          },
          "autotypenumbers": "strict",
          "coloraxis": {
           "colorbar": {
            "outlinewidth": 0,
            "ticks": ""
           }
          },
          "colorscale": {
           "diverging": [
            [
             0,
             "#8e0152"
            ],
            [
             0.1,
             "#c51b7d"
            ],
            [
             0.2,
             "#de77ae"
            ],
            [
             0.3,
             "#f1b6da"
            ],
            [
             0.4,
             "#fde0ef"
            ],
            [
             0.5,
             "#f7f7f7"
            ],
            [
             0.6,
             "#e6f5d0"
            ],
            [
             0.7,
             "#b8e186"
            ],
            [
             0.8,
             "#7fbc41"
            ],
            [
             0.9,
             "#4d9221"
            ],
            [
             1,
             "#276419"
            ]
           ],
           "sequential": [
            [
             0,
             "#0d0887"
            ],
            [
             0.1111111111111111,
             "#46039f"
            ],
            [
             0.2222222222222222,
             "#7201a8"
            ],
            [
             0.3333333333333333,
             "#9c179e"
            ],
            [
             0.4444444444444444,
             "#bd3786"
            ],
            [
             0.5555555555555556,
             "#d8576b"
            ],
            [
             0.6666666666666666,
             "#ed7953"
            ],
            [
             0.7777777777777778,
             "#fb9f3a"
            ],
            [
             0.8888888888888888,
             "#fdca26"
            ],
            [
             1,
             "#f0f921"
            ]
           ],
           "sequentialminus": [
            [
             0,
             "#0d0887"
            ],
            [
             0.1111111111111111,
             "#46039f"
            ],
            [
             0.2222222222222222,
             "#7201a8"
            ],
            [
             0.3333333333333333,
             "#9c179e"
            ],
            [
             0.4444444444444444,
             "#bd3786"
            ],
            [
             0.5555555555555556,
             "#d8576b"
            ],
            [
             0.6666666666666666,
             "#ed7953"
            ],
            [
             0.7777777777777778,
             "#fb9f3a"
            ],
            [
             0.8888888888888888,
             "#fdca26"
            ],
            [
             1,
             "#f0f921"
            ]
           ]
          },
          "colorway": [
           "#636efa",
           "#EF553B",
           "#00cc96",
           "#ab63fa",
           "#FFA15A",
           "#19d3f3",
           "#FF6692",
           "#B6E880",
           "#FF97FF",
           "#FECB52"
          ],
          "font": {
           "color": "#2a3f5f"
          },
          "geo": {
           "bgcolor": "white",
           "lakecolor": "white",
           "landcolor": "#E5ECF6",
           "showlakes": true,
           "showland": true,
           "subunitcolor": "white"
          },
          "hoverlabel": {
           "align": "left"
          },
          "hovermode": "closest",
          "mapbox": {
           "style": "light"
          },
          "paper_bgcolor": "white",
          "plot_bgcolor": "#E5ECF6",
          "polar": {
           "angularaxis": {
            "gridcolor": "white",
            "linecolor": "white",
            "ticks": ""
           },
           "bgcolor": "#E5ECF6",
           "radialaxis": {
            "gridcolor": "white",
            "linecolor": "white",
            "ticks": ""
           }
          },
          "scene": {
           "xaxis": {
            "backgroundcolor": "#E5ECF6",
            "gridcolor": "white",
            "gridwidth": 2,
            "linecolor": "white",
            "showbackground": true,
            "ticks": "",
            "zerolinecolor": "white"
           },
           "yaxis": {
            "backgroundcolor": "#E5ECF6",
            "gridcolor": "white",
            "gridwidth": 2,
            "linecolor": "white",
            "showbackground": true,
            "ticks": "",
            "zerolinecolor": "white"
           },
           "zaxis": {
            "backgroundcolor": "#E5ECF6",
            "gridcolor": "white",
            "gridwidth": 2,
            "linecolor": "white",
            "showbackground": true,
            "ticks": "",
            "zerolinecolor": "white"
           }
          },
          "shapedefaults": {
           "line": {
            "color": "#2a3f5f"
           }
          },
          "ternary": {
           "aaxis": {
            "gridcolor": "white",
            "linecolor": "white",
            "ticks": ""
           },
           "baxis": {
            "gridcolor": "white",
            "linecolor": "white",
            "ticks": ""
           },
           "bgcolor": "#E5ECF6",
           "caxis": {
            "gridcolor": "white",
            "linecolor": "white",
            "ticks": ""
           }
          },
          "title": {
           "x": 0.05
          },
          "xaxis": {
           "automargin": true,
           "gridcolor": "white",
           "linecolor": "white",
           "ticks": "",
           "title": {
            "standoff": 15
           },
           "zerolinecolor": "white",
           "zerolinewidth": 2
          },
          "yaxis": {
           "automargin": true,
           "gridcolor": "white",
           "linecolor": "white",
           "ticks": "",
           "title": {
            "standoff": 15
           },
           "zerolinecolor": "white",
           "zerolinewidth": 2
          }
         }
        },
        "xaxis": {
         "anchor": "y",
         "autorange": true,
         "domain": [
          0,
          1
         ],
         "range": [
          2007.4525256361565,
          2017.5474743638435
         ],
         "title": {
          "text": "Year"
         },
         "type": "linear"
        },
        "yaxis": {
         "anchor": "x",
         "autorange": true,
         "domain": [
          0,
          1
         ],
         "range": [
          1.9566050439347256,
          2.0083224922971583
         ],
         "title": {
          "text": "Average"
         },
         "type": "linear"
        }
       }
      },
      "image/png": "[encoded data removed]",
      "text/html": [
       "<div>                            <div id=\"655fdf8d-2379-427e-ab74-ecfc11e268fa\" class=\"plotly-graph-div\" style=\"height:525px; width:100%;\"></div>            <script type=\"text/javascript\">                require([\"plotly\"], function(Plotly) {                    window.PLOTLYENV=window.PLOTLYENV || {};                                    if (document.getElementById(\"655fdf8d-2379-427e-ab74-ecfc11e268fa\")) {                    Plotly.newPlot(                        \"655fdf8d-2379-427e-ab74-ecfc11e268fa\",                        [{\"hovertemplate\":\"Year=%{x}\\u003cbr\\u003eAverage=%{y}\\u003cextra\\u003e\\u003c\\u002fextra\\u003e\",\"legendgroup\":\"\",\"line\":{\"color\":\"rgb(244,109,67)\",\"dash\":\"solid\"},\"marker\":{\"symbol\":\"circle\"},\"mode\":\"lines+markers\",\"name\":\"\",\"orientation\":\"v\",\"showlegend\":false,\"x\":[2008,2009,2010,2011,2012,2013,2014,2015,2016,2017],\"xaxis\":\"x\",\"y\":[2.003079855072464,1.961372536231884,1.960072463768116,1.980217391304348,1.983623188405797,1.9705072463768112,1.9886231884057968,1.9928985507246373,1.996086956521739,2.004855072463768],\"yaxis\":\"y\",\"type\":\"scatter\"}],                        {\"template\":{\"data\":{\"histogram2dcontour\":[{\"type\":\"histogram2dcontour\",\"colorbar\":{\"outlinewidth\":0,\"ticks\":\"\"},\"colorscale\":[[0.0,\"#0d0887\"],[0.1111111111111111,\"#46039f\"],[0.2222222222222222,\"#7201a8\"],[0.3333333333333333,\"#9c179e\"],[0.4444444444444444,\"#bd3786\"],[0.5555555555555556,\"#d8576b\"],[0.6666666666666666,\"#ed7953\"],[0.7777777777777778,\"#fb9f3a\"],[0.8888888888888888,\"#fdca26\"],[1.0,\"#f0f921\"]]}],\"choropleth\":[{\"type\":\"choropleth\",\"colorbar\":{\"outlinewidth\":0,\"ticks\":\"\"}}],\"histogram2d\":[{\"type\":\"histogram2d\",\"colorbar\":{\"outlinewidth\":0,\"ticks\":\"\"},\"colorscale\":[[0.0,\"#0d0887\"],[0.1111111111111111,\"#46039f\"],[0.2222222222222222,\"#7201a8\"],[0.3333333333333333,\"#9c179e\"],[0.4444444444444444,\"#bd3786\"],[0.5555555555555556,\"#d8576b\"],[0.6666666666666666,\"#ed7953\"],[0.7777777777777778,\"#fb9f3a\"],[0.8888888888888888,\"#fdca26\"],[1.0,\"#f0f921\"]]}],\"heatmap\":[{\"type\":\"heatmap\",\"colorbar\":{\"outlinewidth\":0,\"ticks\":\"\"},\"colorscale\":[[0.0,\"#0d0887\"],[0.1111111111111111,\"#46039f\"],[0.2222222222222222,\"#7201a8\"],[0.3333333333333333,\"#9c179e\"],[0.4444444444444444,\"#bd3786\"],[0.5555555555555556,\"#d8576b\"],[0.6666666666666666,\"#ed7953\"],[0.7777777777777778,\"#fb9f3a\"],[0.8888888888888888,\"#fdca26\"],[1.0,\"#f0f921\"]]}],\"heatmapgl\":[{\"type\":\"heatmapgl\",\"colorbar\":{\"outlinewidth\":0,\"ticks\":\"\"},\"colorscale\":[[0.0,\"#0d0887\"],[0.1111111111111111,\"#46039f\"],[0.2222222222222222,\"#7201a8\"],[0.3333333333333333,\"#9c179e\"],[0.4444444444444444,\"#bd3786\"],[0.5555555555555556,\"#d8576b\"],[0.6666666666666666,\"#ed7953\"],[0.7777777777777778,\"#fb9f3a\"],[0.8888888888888888,\"#fdca26\"],[1.0,\"#f0f921\"]]}],\"contourcarpet\":[{\"type\":\"contourcarpet\",\"colorbar\":{\"outlinewidth\":0,\"ticks\":\"\"}}],\"contour\":[{\"type\":\"contour\",\"colorbar\":{\"outlinewidth\":0,\"ticks\":\"\"},\"colorscale\":[[0.0,\"#0d0887\"],[0.1111111111111111,\"#46039f\"],[0.2222222222222222,\"#7201a8\"],[0.3333333333333333,\"#9c179e\"],[0.4444444444444444,\"#bd3786\"],[0.5555555555555556,\"#d8576b\"],[0.6666666666666666,\"#ed7953\"],[0.7777777777777778,\"#fb9f3a\"],[0.8888888888888888,\"#fdca26\"],[1.0,\"#f0f921\"]]}],\"surface\":[{\"type\":\"surface\",\"colorbar\":{\"outlinewidth\":0,\"ticks\":\"\"},\"colorscale\":[[0.0,\"#0d0887\"],[0.1111111111111111,\"#46039f\"],[0.2222222222222222,\"#7201a8\"],[0.3333333333333333,\"#9c179e\"],[0.4444444444444444,\"#bd3786\"],[0.5555555555555556,\"#d8576b\"],[0.6666666666666666,\"#ed7953\"],[0.7777777777777778,\"#fb9f3a\"],[0.8888888888888888,\"#fdca26\"],[1.0,\"#f0f921\"]]}],\"mesh3d\":[{\"type\":\"mesh3d\",\"colorbar\":{\"outlinewidth\":0,\"ticks\":\"\"}}],\"scatter\":[{\"fillpattern\":{\"fillmode\":\"overlay\",\"size\":10,\"solidity\":0.2},\"type\":\"scatter\"}],\"parcoords\":[{\"type\":\"parcoords\",\"line\":{\"colorbar\":{\"outlinewidth\":0,\"ticks\":\"\"}}}],\"scatterpolargl\":[{\"type\":\"scatterpolargl\",\"marker\":{\"colorbar\":{\"outlinewidth\":0,\"ticks\":\"\"}}}],\"bar\":[{\"error_x\":{\"color\":\"#2a3f5f\"},\"error_y\":{\"color\":\"#2a3f5f\"},\"marker\":{\"line\":{\"color\":\"#E5ECF6\",\"width\":0.5},\"pattern\":{\"fillmode\":\"overlay\",\"size\":10,\"solidity\":0.2}},\"type\":\"bar\"}],\"scattergeo\":[{\"type\":\"scattergeo\",\"marker\":{\"colorbar\":{\"outlinewidth\":0,\"ticks\":\"\"}}}],\"scatterpolar\":[{\"type\":\"scatterpolar\",\"marker\":{\"colorbar\":{\"outlinewidth\":0,\"ticks\":\"\"}}}],\"histogram\":[{\"marker\":{\"pattern\":{\"fillmode\":\"overlay\",\"size\":10,\"solidity\":0.2}},\"type\":\"histogram\"}],\"scattergl\":[{\"type\":\"scattergl\",\"marker\":{\"colorbar\":{\"outlinewidth\":0,\"ticks\":\"\"}}}],\"scatter3d\":[{\"type\":\"scatter3d\",\"line\":{\"colorbar\":{\"outlinewidth\":0,\"ticks\":\"\"}},\"marker\":{\"colorbar\":{\"outlinewidth\":0,\"ticks\":\"\"}}}],\"scattermapbox\":[{\"type\":\"scattermapbox\",\"marker\":{\"colorbar\":{\"outlinewidth\":0,\"ticks\":\"\"}}}],\"scatterternary\":[{\"type\":\"scatterternary\",\"marker\":{\"colorbar\":{\"outlinewidth\":0,\"ticks\":\"\"}}}],\"scattercarpet\":[{\"type\":\"scattercarpet\",\"marker\":{\"colorbar\":{\"outlinewidth\":0,\"ticks\":\"\"}}}],\"carpet\":[{\"aaxis\":{\"endlinecolor\":\"#2a3f5f\",\"gridcolor\":\"white\",\"linecolor\":\"white\",\"minorgridcolor\":\"white\",\"startlinecolor\":\"#2a3f5f\"},\"baxis\":{\"endlinecolor\":\"#2a3f5f\",\"gridcolor\":\"white\",\"linecolor\":\"white\",\"minorgridcolor\":\"white\",\"startlinecolor\":\"#2a3f5f\"},\"type\":\"carpet\"}],\"table\":[{\"cells\":{\"fill\":{\"color\":\"#EBF0F8\"},\"line\":{\"color\":\"white\"}},\"header\":{\"fill\":{\"color\":\"#C8D4E3\"},\"line\":{\"color\":\"white\"}},\"type\":\"table\"}],\"barpolar\":[{\"marker\":{\"line\":{\"color\":\"#E5ECF6\",\"width\":0.5},\"pattern\":{\"fillmode\":\"overlay\",\"size\":10,\"solidity\":0.2}},\"type\":\"barpolar\"}],\"pie\":[{\"automargin\":true,\"type\":\"pie\"}]},\"layout\":{\"autotypenumbers\":\"strict\",\"colorway\":[\"#636efa\",\"#EF553B\",\"#00cc96\",\"#ab63fa\",\"#FFA15A\",\"#19d3f3\",\"#FF6692\",\"#B6E880\",\"#FF97FF\",\"#FECB52\"],\"font\":{\"color\":\"#2a3f5f\"},\"hovermode\":\"closest\",\"hoverlabel\":{\"align\":\"left\"},\"paper_bgcolor\":\"white\",\"plot_bgcolor\":\"#E5ECF6\",\"polar\":{\"bgcolor\":\"#E5ECF6\",\"angularaxis\":{\"gridcolor\":\"white\",\"linecolor\":\"white\",\"ticks\":\"\"},\"radialaxis\":{\"gridcolor\":\"white\",\"linecolor\":\"white\",\"ticks\":\"\"}},\"ternary\":{\"bgcolor\":\"#E5ECF6\",\"aaxis\":{\"gridcolor\":\"white\",\"linecolor\":\"white\",\"ticks\":\"\"},\"baxis\":{\"gridcolor\":\"white\",\"linecolor\":\"white\",\"ticks\":\"\"},\"caxis\":{\"gridcolor\":\"white\",\"linecolor\":\"white\",\"ticks\":\"\"}},\"coloraxis\":{\"colorbar\":{\"outlinewidth\":0,\"ticks\":\"\"}},\"colorscale\":{\"sequential\":[[0.0,\"#0d0887\"],[0.1111111111111111,\"#46039f\"],[0.2222222222222222,\"#7201a8\"],[0.3333333333333333,\"#9c179e\"],[0.4444444444444444,\"#bd3786\"],[0.5555555555555556,\"#d8576b\"],[0.6666666666666666,\"#ed7953\"],[0.7777777777777778,\"#fb9f3a\"],[0.8888888888888888,\"#fdca26\"],[1.0,\"#f0f921\"]],\"sequentialminus\":[[0.0,\"#0d0887\"],[0.1111111111111111,\"#46039f\"],[0.2222222222222222,\"#7201a8\"],[0.3333333333333333,\"#9c179e\"],[0.4444444444444444,\"#bd3786\"],[0.5555555555555556,\"#d8576b\"],[0.6666666666666666,\"#ed7953\"],[0.7777777777777778,\"#fb9f3a\"],[0.8888888888888888,\"#fdca26\"],[1.0,\"#f0f921\"]],\"diverging\":[[0,\"#8e0152\"],[0.1,\"#c51b7d\"],[0.2,\"#de77ae\"],[0.3,\"#f1b6da\"],[0.4,\"#fde0ef\"],[0.5,\"#f7f7f7\"],[0.6,\"#e6f5d0\"],[0.7,\"#b8e186\"],[0.8,\"#7fbc41\"],[0.9,\"#4d9221\"],[1,\"#276419\"]]},\"xaxis\":{\"gridcolor\":\"white\",\"linecolor\":\"white\",\"ticks\":\"\",\"title\":{\"standoff\":15},\"zerolinecolor\":\"white\",\"automargin\":true,\"zerolinewidth\":2},\"yaxis\":{\"gridcolor\":\"white\",\"linecolor\":\"white\",\"ticks\":\"\",\"title\":{\"standoff\":15},\"zerolinecolor\":\"white\",\"automargin\":true,\"zerolinewidth\":2},\"scene\":{\"xaxis\":{\"backgroundcolor\":\"#E5ECF6\",\"gridcolor\":\"white\",\"linecolor\":\"white\",\"showbackground\":true,\"ticks\":\"\",\"zerolinecolor\":\"white\",\"gridwidth\":2},\"yaxis\":{\"backgroundcolor\":\"#E5ECF6\",\"gridcolor\":\"white\",\"linecolor\":\"white\",\"showbackground\":true,\"ticks\":\"\",\"zerolinecolor\":\"white\",\"gridwidth\":2},\"zaxis\":{\"backgroundcolor\":\"#E5ECF6\",\"gridcolor\":\"white\",\"linecolor\":\"white\",\"showbackground\":true,\"ticks\":\"\",\"zerolinecolor\":\"white\",\"gridwidth\":2}},\"shapedefaults\":{\"line\":{\"color\":\"#2a3f5f\"}},\"annotationdefaults\":{\"arrowcolor\":\"#2a3f5f\",\"arrowhead\":0,\"arrowwidth\":1},\"geo\":{\"bgcolor\":\"white\",\"landcolor\":\"#E5ECF6\",\"subunitcolor\":\"white\",\"showland\":true,\"showlakes\":true,\"lakecolor\":\"white\"},\"title\":{\"x\":0.05},\"mapbox\":{\"style\":\"light\"}}},\"xaxis\":{\"anchor\":\"y\",\"domain\":[0.0,1.0],\"title\":{\"text\":\"Year\"}},\"yaxis\":{\"anchor\":\"x\",\"domain\":[0.0,1.0],\"title\":{\"text\":\"Average\"}},\"legend\":{\"tracegroupgap\":0},\"margin\":{\"t\":60}},                        {\"responsive\": true}                    ).then(function(){\n",
       "                            \n",
       "var gd = document.getElementById('655fdf8d-2379-427e-ab74-ecfc11e268fa');\n",
       "var x = new MutationObserver(function (mutations, observer) {{\n",
       "        var display = window.getComputedStyle(gd).display;\n",
       "        if (!display || display === 'none') {{\n",
       "            console.log([gd, 'removed!']);\n",
       "            Plotly.purge(gd);\n",
       "            observer.disconnect();\n",
       "        }}\n",
       "}});\n",
       "\n",
       "// Listen for the removal of the full notebook cells\n",
       "var notebookContainer = gd.closest('#notebook-container');\n",
       "if (notebookContainer) {{\n",
       "    x.observe(notebookContainer, {childList: true});\n",
       "}}\n",
       "\n",
       "// Listen for the clearing of the current output cell\n",
       "var outputEl = gd.closest('.output');\n",
       "if (outputEl) {{\n",
       "    x.observe(outputEl, {childList: true});\n",
       "}}\n",
       "\n",
       "                        })                };                });            </script>        </div>"
      ]
     },
     "metadata": {},
     "output_type": "display_data"
    }
   ],
   "source": [
    "# MULTIPLE YEARS\n",
    "# COUNTRY\n",
    "\n",
    "def fig_D_top_line_beer(df, country, year1, year2):\n",
    "\n",
    "    beer_dash = beer.T.reset_index().rename(columns={\"index\": \"Year\"})\n",
    "\n",
    "    mask_gt = ( beer_dash[\"Year\"] >= year1 )\n",
    "    mask_lt = ( beer_dash[\"Year\"] <= year2)\n",
    "    df = beer_dash[[country, \"Year\"]][mask_gt & mask_lt]\n",
    "    return px.line(df, x=\"Year\", y=country, markers=True).update_traces(line_color=px.colors.diverging.Spectral[2])\n",
    "\n",
    "fig_D_top_line_beer(beer, \"Average\", 2008, 2017)"
   ]
  },
  {
   "cell_type": "code",
   "execution_count": 28,
   "id": "96c20e9b-7736-4812-84bc-a921b3799c0b",
   "metadata": {},
   "outputs": [
    {
     "data": {
      "application/vnd.plotly.v1+json": {
       "config": {
        "plotlyServerURL": "https://plot.ly"
       },
       "data": [
        {
         "hovertemplate": "Year=%{x}<br>Average=%{y}<extra></extra>",
         "legendgroup": "",
         "line": {
          "color": "rgb(213,62,79)",
          "dash": "solid"
         },
         "marker": {
          "symbol": "circle"
         },
         "mode": "lines+markers",
         "name": "",
         "orientation": "v",
         "showlegend": false,
         "type": "scatter",
         "x": [
          2013,
          2014,
          2015,
          2016,
          2017
         ],
         "xaxis": "x",
         "y": [
          -0.0504403692649572,
          -0.043792988532258,
          -0.0448470750081967,
          -0.0520935130495867,
          -0.036957935944
         ],
         "yaxis": "y"
        }
       ],
       "layout": {
        "autosize": true,
        "legend": {
         "tracegroupgap": 0
        },
        "margin": {
         "t": 60
        },
        "template": {
         "data": {
          "bar": [
           {
            "error_x": {
             "color": "#2a3f5f"
            },
            "error_y": {
             "color": "#2a3f5f"
            },
            "marker": {
             "line": {
              "color": "#E5ECF6",
              "width": 0.5
             },
             "pattern": {
              "fillmode": "overlay",
              "size": 10,
              "solidity": 0.2
             }
            },
            "type": "bar"
           }
          ],
          "barpolar": [
           {
            "marker": {
             "line": {
              "color": "#E5ECF6",
              "width": 0.5
             },
             "pattern": {
              "fillmode": "overlay",
              "size": 10,
              "solidity": 0.2
             }
            },
            "type": "barpolar"
           }
          ],
          "carpet": [
           {
            "aaxis": {
             "endlinecolor": "#2a3f5f",
             "gridcolor": "white",
             "linecolor": "white",
             "minorgridcolor": "white",
             "startlinecolor": "#2a3f5f"
            },
            "baxis": {
             "endlinecolor": "#2a3f5f",
             "gridcolor": "white",
             "linecolor": "white",
             "minorgridcolor": "white",
             "startlinecolor": "#2a3f5f"
            },
            "type": "carpet"
           }
          ],
          "choropleth": [
           {
            "colorbar": {
             "outlinewidth": 0,
             "ticks": ""
            },
            "type": "choropleth"
           }
          ],
          "contour": [
           {
            "colorbar": {
             "outlinewidth": 0,
             "ticks": ""
            },
            "colorscale": [
             [
              0,
              "#0d0887"
             ],
             [
              0.1111111111111111,
              "#46039f"
             ],
             [
              0.2222222222222222,
              "#7201a8"
             ],
             [
              0.3333333333333333,
              "#9c179e"
             ],
             [
              0.4444444444444444,
              "#bd3786"
             ],
             [
              0.5555555555555556,
              "#d8576b"
             ],
             [
              0.6666666666666666,
              "#ed7953"
             ],
             [
              0.7777777777777778,
              "#fb9f3a"
             ],
             [
              0.8888888888888888,
              "#fdca26"
             ],
             [
              1,
              "#f0f921"
             ]
            ],
            "type": "contour"
           }
          ],
          "contourcarpet": [
           {
            "colorbar": {
             "outlinewidth": 0,
             "ticks": ""
            },
            "type": "contourcarpet"
           }
          ],
          "heatmap": [
           {
            "colorbar": {
             "outlinewidth": 0,
             "ticks": ""
            },
            "colorscale": [
             [
              0,
              "#0d0887"
             ],
             [
              0.1111111111111111,
              "#46039f"
             ],
             [
              0.2222222222222222,
              "#7201a8"
             ],
             [
              0.3333333333333333,
              "#9c179e"
             ],
             [
              0.4444444444444444,
              "#bd3786"
             ],
             [
              0.5555555555555556,
              "#d8576b"
             ],
             [
              0.6666666666666666,
              "#ed7953"
             ],
             [
              0.7777777777777778,
              "#fb9f3a"
             ],
             [
              0.8888888888888888,
              "#fdca26"
             ],
             [
              1,
              "#f0f921"
             ]
            ],
            "type": "heatmap"
           }
          ],
          "heatmapgl": [
           {
            "colorbar": {
             "outlinewidth": 0,
             "ticks": ""
            },
            "colorscale": [
             [
              0,
              "#0d0887"
             ],
             [
              0.1111111111111111,
              "#46039f"
             ],
             [
              0.2222222222222222,
              "#7201a8"
             ],
             [
              0.3333333333333333,
              "#9c179e"
             ],
             [
              0.4444444444444444,
              "#bd3786"
             ],
             [
              0.5555555555555556,
              "#d8576b"
             ],
             [
              0.6666666666666666,
              "#ed7953"
             ],
             [
              0.7777777777777778,
              "#fb9f3a"
             ],
             [
              0.8888888888888888,
              "#fdca26"
             ],
             [
              1,
              "#f0f921"
             ]
            ],
            "type": "heatmapgl"
           }
          ],
          "histogram": [
           {
            "marker": {
             "pattern": {
              "fillmode": "overlay",
              "size": 10,
              "solidity": 0.2
             }
            },
            "type": "histogram"
           }
          ],
          "histogram2d": [
           {
            "colorbar": {
             "outlinewidth": 0,
             "ticks": ""
            },
            "colorscale": [
             [
              0,
              "#0d0887"
             ],
             [
              0.1111111111111111,
              "#46039f"
             ],
             [
              0.2222222222222222,
              "#7201a8"
             ],
             [
              0.3333333333333333,
              "#9c179e"
             ],
             [
              0.4444444444444444,
              "#bd3786"
             ],
             [
              0.5555555555555556,
              "#d8576b"
             ],
             [
              0.6666666666666666,
              "#ed7953"
             ],
             [
              0.7777777777777778,
              "#fb9f3a"
             ],
             [
              0.8888888888888888,
              "#fdca26"
             ],
             [
              1,
              "#f0f921"
             ]
            ],
            "type": "histogram2d"
           }
          ],
          "histogram2dcontour": [
           {
            "colorbar": {
             "outlinewidth": 0,
             "ticks": ""
            },
            "colorscale": [
             [
              0,
              "#0d0887"
             ],
             [
              0.1111111111111111,
              "#46039f"
             ],
             [
              0.2222222222222222,
              "#7201a8"
             ],
             [
              0.3333333333333333,
              "#9c179e"
             ],
             [
              0.4444444444444444,
              "#bd3786"
             ],
             [
              0.5555555555555556,
              "#d8576b"
             ],
             [
              0.6666666666666666,
              "#ed7953"
             ],
             [
              0.7777777777777778,
              "#fb9f3a"
             ],
             [
              0.8888888888888888,
              "#fdca26"
             ],
             [
              1,
              "#f0f921"
             ]
            ],
            "type": "histogram2dcontour"
           }
          ],
          "mesh3d": [
           {
            "colorbar": {
             "outlinewidth": 0,
             "ticks": ""
            },
            "type": "mesh3d"
           }
          ],
          "parcoords": [
           {
            "line": {
             "colorbar": {
              "outlinewidth": 0,
              "ticks": ""
             }
            },
            "type": "parcoords"
           }
          ],
          "pie": [
           {
            "automargin": true,
            "type": "pie"
           }
          ],
          "scatter": [
           {
            "fillpattern": {
             "fillmode": "overlay",
             "size": 10,
             "solidity": 0.2
            },
            "type": "scatter"
           }
          ],
          "scatter3d": [
           {
            "line": {
             "colorbar": {
              "outlinewidth": 0,
              "ticks": ""
             }
            },
            "marker": {
             "colorbar": {
              "outlinewidth": 0,
              "ticks": ""
             }
            },
            "type": "scatter3d"
           }
          ],
          "scattercarpet": [
           {
            "marker": {
             "colorbar": {
              "outlinewidth": 0,
              "ticks": ""
             }
            },
            "type": "scattercarpet"
           }
          ],
          "scattergeo": [
           {
            "marker": {
             "colorbar": {
              "outlinewidth": 0,
              "ticks": ""
             }
            },
            "type": "scattergeo"
           }
          ],
          "scattergl": [
           {
            "marker": {
             "colorbar": {
              "outlinewidth": 0,
              "ticks": ""
             }
            },
            "type": "scattergl"
           }
          ],
          "scattermapbox": [
           {
            "marker": {
             "colorbar": {
              "outlinewidth": 0,
              "ticks": ""
             }
            },
            "type": "scattermapbox"
           }
          ],
          "scatterpolar": [
           {
            "marker": {
             "colorbar": {
              "outlinewidth": 0,
              "ticks": ""
             }
            },
            "type": "scatterpolar"
           }
          ],
          "scatterpolargl": [
           {
            "marker": {
             "colorbar": {
              "outlinewidth": 0,
              "ticks": ""
             }
            },
            "type": "scatterpolargl"
           }
          ],
          "scatterternary": [
           {
            "marker": {
             "colorbar": {
              "outlinewidth": 0,
              "ticks": ""
             }
            },
            "type": "scatterternary"
           }
          ],
          "surface": [
           {
            "colorbar": {
             "outlinewidth": 0,
             "ticks": ""
            },
            "colorscale": [
             [
              0,
              "#0d0887"
             ],
             [
              0.1111111111111111,
              "#46039f"
             ],
             [
              0.2222222222222222,
              "#7201a8"
             ],
             [
              0.3333333333333333,
              "#9c179e"
             ],
             [
              0.4444444444444444,
              "#bd3786"
             ],
             [
              0.5555555555555556,
              "#d8576b"
             ],
             [
              0.6666666666666666,
              "#ed7953"
             ],
             [
              0.7777777777777778,
              "#fb9f3a"
             ],
             [
              0.8888888888888888,
              "#fdca26"
             ],
             [
              1,
              "#f0f921"
             ]
            ],
            "type": "surface"
           }
          ],
          "table": [
           {
            "cells": {
             "fill": {
              "color": "#EBF0F8"
             },
             "line": {
              "color": "white"
             }
            },
            "header": {
             "fill": {
              "color": "#C8D4E3"
             },
             "line": {
              "color": "white"
             }
            },
            "type": "table"
           }
          ]
         },
         "layout": {
          "annotationdefaults": {
           "arrowcolor": "#2a3f5f",
           "arrowhead": 0,
           "arrowwidth": 1
          },
          "autotypenumbers": "strict",
          "coloraxis": {
           "colorbar": {
            "outlinewidth": 0,
            "ticks": ""
           }
          },
          "colorscale": {
           "diverging": [
            [
             0,
             "#8e0152"
            ],
            [
             0.1,
             "#c51b7d"
            ],
            [
             0.2,
             "#de77ae"
            ],
            [
             0.3,
             "#f1b6da"
            ],
            [
             0.4,
             "#fde0ef"
            ],
            [
             0.5,
             "#f7f7f7"
            ],
            [
             0.6,
             "#e6f5d0"
            ],
            [
             0.7,
             "#b8e186"
            ],
            [
             0.8,
             "#7fbc41"
            ],
            [
             0.9,
             "#4d9221"
            ],
            [
             1,
             "#276419"
            ]
           ],
           "sequential": [
            [
             0,
             "#0d0887"
            ],
            [
             0.1111111111111111,
             "#46039f"
            ],
            [
             0.2222222222222222,
             "#7201a8"
            ],
            [
             0.3333333333333333,
             "#9c179e"
            ],
            [
             0.4444444444444444,
             "#bd3786"
            ],
            [
             0.5555555555555556,
             "#d8576b"
            ],
            [
             0.6666666666666666,
             "#ed7953"
            ],
            [
             0.7777777777777778,
             "#fb9f3a"
            ],
            [
             0.8888888888888888,
             "#fdca26"
            ],
            [
             1,
             "#f0f921"
            ]
           ],
           "sequentialminus": [
            [
             0,
             "#0d0887"
            ],
            [
             0.1111111111111111,
             "#46039f"
            ],
            [
             0.2222222222222222,
             "#7201a8"
            ],
            [
             0.3333333333333333,
             "#9c179e"
            ],
            [
             0.4444444444444444,
             "#bd3786"
            ],
            [
             0.5555555555555556,
             "#d8576b"
            ],
            [
             0.6666666666666666,
             "#ed7953"
            ],
            [
             0.7777777777777778,
             "#fb9f3a"
            ],
            [
             0.8888888888888888,
             "#fdca26"
            ],
            [
             1,
             "#f0f921"
            ]
           ]
          },
          "colorway": [
           "#636efa",
           "#EF553B",
           "#00cc96",
           "#ab63fa",
           "#FFA15A",
           "#19d3f3",
           "#FF6692",
           "#B6E880",
           "#FF97FF",
           "#FECB52"
          ],
          "font": {
           "color": "#2a3f5f"
          },
          "geo": {
           "bgcolor": "white",
           "lakecolor": "white",
           "landcolor": "#E5ECF6",
           "showlakes": true,
           "showland": true,
           "subunitcolor": "white"
          },
          "hoverlabel": {
           "align": "left"
          },
          "hovermode": "closest",
          "mapbox": {
           "style": "light"
          },
          "paper_bgcolor": "white",
          "plot_bgcolor": "#E5ECF6",
          "polar": {
           "angularaxis": {
            "gridcolor": "white",
            "linecolor": "white",
            "ticks": ""
           },
           "bgcolor": "#E5ECF6",
           "radialaxis": {
            "gridcolor": "white",
            "linecolor": "white",
            "ticks": ""
           }
          },
          "scene": {
           "xaxis": {
            "backgroundcolor": "#E5ECF6",
            "gridcolor": "white",
            "gridwidth": 2,
            "linecolor": "white",
            "showbackground": true,
            "ticks": "",
            "zerolinecolor": "white"
           },
           "yaxis": {
            "backgroundcolor": "#E5ECF6",
            "gridcolor": "white",
            "gridwidth": 2,
            "linecolor": "white",
            "showbackground": true,
            "ticks": "",
            "zerolinecolor": "white"
           },
           "zaxis": {
            "backgroundcolor": "#E5ECF6",
            "gridcolor": "white",
            "gridwidth": 2,
            "linecolor": "white",
            "showbackground": true,
            "ticks": "",
            "zerolinecolor": "white"
           }
          },
          "shapedefaults": {
           "line": {
            "color": "#2a3f5f"
           }
          },
          "ternary": {
           "aaxis": {
            "gridcolor": "white",
            "linecolor": "white",
            "ticks": ""
           },
           "baxis": {
            "gridcolor": "white",
            "linecolor": "white",
            "ticks": ""
           },
           "bgcolor": "#E5ECF6",
           "caxis": {
            "gridcolor": "white",
            "linecolor": "white",
            "ticks": ""
           }
          },
          "title": {
           "x": 0.05
          },
          "xaxis": {
           "automargin": true,
           "gridcolor": "white",
           "linecolor": "white",
           "ticks": "",
           "title": {
            "standoff": 15
           },
           "zerolinecolor": "white",
           "zerolinewidth": 2
          },
          "yaxis": {
           "automargin": true,
           "gridcolor": "white",
           "linecolor": "white",
           "ticks": "",
           "title": {
            "standoff": 15
           },
           "zerolinecolor": "white",
           "zerolinewidth": 2
          }
         }
        },
        "xaxis": {
         "anchor": "y",
         "autorange": true,
         "domain": [
          0,
          1
         ],
         "range": [
          2012.7566056910568,
          2017.2433943089432
         ],
         "title": {
          "text": "Year"
         },
         "type": "linear"
        },
        "yaxis": {
         "anchor": "x",
         "autorange": true,
         "domain": [
          0,
          1
         ],
         "range": [
          -0.05326542781235522,
          -0.035786021181231475
         ],
         "title": {
          "text": "Average"
         },
         "type": "linear"
        }
       }
      },
      "image/png": "[encoded data removed]",
      "text/html": [
       "<div>                            <div id=\"c368ef61-3db0-46e1-bc7f-cf00ef7ee27a\" class=\"plotly-graph-div\" style=\"height:525px; width:100%;\"></div>            <script type=\"text/javascript\">                require([\"plotly\"], function(Plotly) {                    window.PLOTLYENV=window.PLOTLYENV || {};                                    if (document.getElementById(\"c368ef61-3db0-46e1-bc7f-cf00ef7ee27a\")) {                    Plotly.newPlot(                        \"c368ef61-3db0-46e1-bc7f-cf00ef7ee27a\",                        [{\"hovertemplate\":\"Year=%{x}\\u003cbr\\u003eAverage=%{y}\\u003cextra\\u003e\\u003c\\u002fextra\\u003e\",\"legendgroup\":\"\",\"line\":{\"color\":\"rgb(213,62,79)\",\"dash\":\"solid\"},\"marker\":{\"symbol\":\"circle\"},\"mode\":\"lines+markers\",\"name\":\"\",\"orientation\":\"v\",\"showlegend\":false,\"x\":[2013,2014,2015,2016,2017],\"xaxis\":\"x\",\"y\":[-0.0504403692649572,-0.043792988532258,-0.0448470750081967,-0.0520935130495867,-0.036957935944],\"yaxis\":\"y\",\"type\":\"scatter\"}],                        {\"template\":{\"data\":{\"histogram2dcontour\":[{\"type\":\"histogram2dcontour\",\"colorbar\":{\"outlinewidth\":0,\"ticks\":\"\"},\"colorscale\":[[0.0,\"#0d0887\"],[0.1111111111111111,\"#46039f\"],[0.2222222222222222,\"#7201a8\"],[0.3333333333333333,\"#9c179e\"],[0.4444444444444444,\"#bd3786\"],[0.5555555555555556,\"#d8576b\"],[0.6666666666666666,\"#ed7953\"],[0.7777777777777778,\"#fb9f3a\"],[0.8888888888888888,\"#fdca26\"],[1.0,\"#f0f921\"]]}],\"choropleth\":[{\"type\":\"choropleth\",\"colorbar\":{\"outlinewidth\":0,\"ticks\":\"\"}}],\"histogram2d\":[{\"type\":\"histogram2d\",\"colorbar\":{\"outlinewidth\":0,\"ticks\":\"\"},\"colorscale\":[[0.0,\"#0d0887\"],[0.1111111111111111,\"#46039f\"],[0.2222222222222222,\"#7201a8\"],[0.3333333333333333,\"#9c179e\"],[0.4444444444444444,\"#bd3786\"],[0.5555555555555556,\"#d8576b\"],[0.6666666666666666,\"#ed7953\"],[0.7777777777777778,\"#fb9f3a\"],[0.8888888888888888,\"#fdca26\"],[1.0,\"#f0f921\"]]}],\"heatmap\":[{\"type\":\"heatmap\",\"colorbar\":{\"outlinewidth\":0,\"ticks\":\"\"},\"colorscale\":[[0.0,\"#0d0887\"],[0.1111111111111111,\"#46039f\"],[0.2222222222222222,\"#7201a8\"],[0.3333333333333333,\"#9c179e\"],[0.4444444444444444,\"#bd3786\"],[0.5555555555555556,\"#d8576b\"],[0.6666666666666666,\"#ed7953\"],[0.7777777777777778,\"#fb9f3a\"],[0.8888888888888888,\"#fdca26\"],[1.0,\"#f0f921\"]]}],\"heatmapgl\":[{\"type\":\"heatmapgl\",\"colorbar\":{\"outlinewidth\":0,\"ticks\":\"\"},\"colorscale\":[[0.0,\"#0d0887\"],[0.1111111111111111,\"#46039f\"],[0.2222222222222222,\"#7201a8\"],[0.3333333333333333,\"#9c179e\"],[0.4444444444444444,\"#bd3786\"],[0.5555555555555556,\"#d8576b\"],[0.6666666666666666,\"#ed7953\"],[0.7777777777777778,\"#fb9f3a\"],[0.8888888888888888,\"#fdca26\"],[1.0,\"#f0f921\"]]}],\"contourcarpet\":[{\"type\":\"contourcarpet\",\"colorbar\":{\"outlinewidth\":0,\"ticks\":\"\"}}],\"contour\":[{\"type\":\"contour\",\"colorbar\":{\"outlinewidth\":0,\"ticks\":\"\"},\"colorscale\":[[0.0,\"#0d0887\"],[0.1111111111111111,\"#46039f\"],[0.2222222222222222,\"#7201a8\"],[0.3333333333333333,\"#9c179e\"],[0.4444444444444444,\"#bd3786\"],[0.5555555555555556,\"#d8576b\"],[0.6666666666666666,\"#ed7953\"],[0.7777777777777778,\"#fb9f3a\"],[0.8888888888888888,\"#fdca26\"],[1.0,\"#f0f921\"]]}],\"surface\":[{\"type\":\"surface\",\"colorbar\":{\"outlinewidth\":0,\"ticks\":\"\"},\"colorscale\":[[0.0,\"#0d0887\"],[0.1111111111111111,\"#46039f\"],[0.2222222222222222,\"#7201a8\"],[0.3333333333333333,\"#9c179e\"],[0.4444444444444444,\"#bd3786\"],[0.5555555555555556,\"#d8576b\"],[0.6666666666666666,\"#ed7953\"],[0.7777777777777778,\"#fb9f3a\"],[0.8888888888888888,\"#fdca26\"],[1.0,\"#f0f921\"]]}],\"mesh3d\":[{\"type\":\"mesh3d\",\"colorbar\":{\"outlinewidth\":0,\"ticks\":\"\"}}],\"scatter\":[{\"fillpattern\":{\"fillmode\":\"overlay\",\"size\":10,\"solidity\":0.2},\"type\":\"scatter\"}],\"parcoords\":[{\"type\":\"parcoords\",\"line\":{\"colorbar\":{\"outlinewidth\":0,\"ticks\":\"\"}}}],\"scatterpolargl\":[{\"type\":\"scatterpolargl\",\"marker\":{\"colorbar\":{\"outlinewidth\":0,\"ticks\":\"\"}}}],\"bar\":[{\"error_x\":{\"color\":\"#2a3f5f\"},\"error_y\":{\"color\":\"#2a3f5f\"},\"marker\":{\"line\":{\"color\":\"#E5ECF6\",\"width\":0.5},\"pattern\":{\"fillmode\":\"overlay\",\"size\":10,\"solidity\":0.2}},\"type\":\"bar\"}],\"scattergeo\":[{\"type\":\"scattergeo\",\"marker\":{\"colorbar\":{\"outlinewidth\":0,\"ticks\":\"\"}}}],\"scatterpolar\":[{\"type\":\"scatterpolar\",\"marker\":{\"colorbar\":{\"outlinewidth\":0,\"ticks\":\"\"}}}],\"histogram\":[{\"marker\":{\"pattern\":{\"fillmode\":\"overlay\",\"size\":10,\"solidity\":0.2}},\"type\":\"histogram\"}],\"scattergl\":[{\"type\":\"scattergl\",\"marker\":{\"colorbar\":{\"outlinewidth\":0,\"ticks\":\"\"}}}],\"scatter3d\":[{\"type\":\"scatter3d\",\"line\":{\"colorbar\":{\"outlinewidth\":0,\"ticks\":\"\"}},\"marker\":{\"colorbar\":{\"outlinewidth\":0,\"ticks\":\"\"}}}],\"scattermapbox\":[{\"type\":\"scattermapbox\",\"marker\":{\"colorbar\":{\"outlinewidth\":0,\"ticks\":\"\"}}}],\"scatterternary\":[{\"type\":\"scatterternary\",\"marker\":{\"colorbar\":{\"outlinewidth\":0,\"ticks\":\"\"}}}],\"scattercarpet\":[{\"type\":\"scattercarpet\",\"marker\":{\"colorbar\":{\"outlinewidth\":0,\"ticks\":\"\"}}}],\"carpet\":[{\"aaxis\":{\"endlinecolor\":\"#2a3f5f\",\"gridcolor\":\"white\",\"linecolor\":\"white\",\"minorgridcolor\":\"white\",\"startlinecolor\":\"#2a3f5f\"},\"baxis\":{\"endlinecolor\":\"#2a3f5f\",\"gridcolor\":\"white\",\"linecolor\":\"white\",\"minorgridcolor\":\"white\",\"startlinecolor\":\"#2a3f5f\"},\"type\":\"carpet\"}],\"table\":[{\"cells\":{\"fill\":{\"color\":\"#EBF0F8\"},\"line\":{\"color\":\"white\"}},\"header\":{\"fill\":{\"color\":\"#C8D4E3\"},\"line\":{\"color\":\"white\"}},\"type\":\"table\"}],\"barpolar\":[{\"marker\":{\"line\":{\"color\":\"#E5ECF6\",\"width\":0.5},\"pattern\":{\"fillmode\":\"overlay\",\"size\":10,\"solidity\":0.2}},\"type\":\"barpolar\"}],\"pie\":[{\"automargin\":true,\"type\":\"pie\"}]},\"layout\":{\"autotypenumbers\":\"strict\",\"colorway\":[\"#636efa\",\"#EF553B\",\"#00cc96\",\"#ab63fa\",\"#FFA15A\",\"#19d3f3\",\"#FF6692\",\"#B6E880\",\"#FF97FF\",\"#FECB52\"],\"font\":{\"color\":\"#2a3f5f\"},\"hovermode\":\"closest\",\"hoverlabel\":{\"align\":\"left\"},\"paper_bgcolor\":\"white\",\"plot_bgcolor\":\"#E5ECF6\",\"polar\":{\"bgcolor\":\"#E5ECF6\",\"angularaxis\":{\"gridcolor\":\"white\",\"linecolor\":\"white\",\"ticks\":\"\"},\"radialaxis\":{\"gridcolor\":\"white\",\"linecolor\":\"white\",\"ticks\":\"\"}},\"ternary\":{\"bgcolor\":\"#E5ECF6\",\"aaxis\":{\"gridcolor\":\"white\",\"linecolor\":\"white\",\"ticks\":\"\"},\"baxis\":{\"gridcolor\":\"white\",\"linecolor\":\"white\",\"ticks\":\"\"},\"caxis\":{\"gridcolor\":\"white\",\"linecolor\":\"white\",\"ticks\":\"\"}},\"coloraxis\":{\"colorbar\":{\"outlinewidth\":0,\"ticks\":\"\"}},\"colorscale\":{\"sequential\":[[0.0,\"#0d0887\"],[0.1111111111111111,\"#46039f\"],[0.2222222222222222,\"#7201a8\"],[0.3333333333333333,\"#9c179e\"],[0.4444444444444444,\"#bd3786\"],[0.5555555555555556,\"#d8576b\"],[0.6666666666666666,\"#ed7953\"],[0.7777777777777778,\"#fb9f3a\"],[0.8888888888888888,\"#fdca26\"],[1.0,\"#f0f921\"]],\"sequentialminus\":[[0.0,\"#0d0887\"],[0.1111111111111111,\"#46039f\"],[0.2222222222222222,\"#7201a8\"],[0.3333333333333333,\"#9c179e\"],[0.4444444444444444,\"#bd3786\"],[0.5555555555555556,\"#d8576b\"],[0.6666666666666666,\"#ed7953\"],[0.7777777777777778,\"#fb9f3a\"],[0.8888888888888888,\"#fdca26\"],[1.0,\"#f0f921\"]],\"diverging\":[[0,\"#8e0152\"],[0.1,\"#c51b7d\"],[0.2,\"#de77ae\"],[0.3,\"#f1b6da\"],[0.4,\"#fde0ef\"],[0.5,\"#f7f7f7\"],[0.6,\"#e6f5d0\"],[0.7,\"#b8e186\"],[0.8,\"#7fbc41\"],[0.9,\"#4d9221\"],[1,\"#276419\"]]},\"xaxis\":{\"gridcolor\":\"white\",\"linecolor\":\"white\",\"ticks\":\"\",\"title\":{\"standoff\":15},\"zerolinecolor\":\"white\",\"automargin\":true,\"zerolinewidth\":2},\"yaxis\":{\"gridcolor\":\"white\",\"linecolor\":\"white\",\"ticks\":\"\",\"title\":{\"standoff\":15},\"zerolinecolor\":\"white\",\"automargin\":true,\"zerolinewidth\":2},\"scene\":{\"xaxis\":{\"backgroundcolor\":\"#E5ECF6\",\"gridcolor\":\"white\",\"linecolor\":\"white\",\"showbackground\":true,\"ticks\":\"\",\"zerolinecolor\":\"white\",\"gridwidth\":2},\"yaxis\":{\"backgroundcolor\":\"#E5ECF6\",\"gridcolor\":\"white\",\"linecolor\":\"white\",\"showbackground\":true,\"ticks\":\"\",\"zerolinecolor\":\"white\",\"gridwidth\":2},\"zaxis\":{\"backgroundcolor\":\"#E5ECF6\",\"gridcolor\":\"white\",\"linecolor\":\"white\",\"showbackground\":true,\"ticks\":\"\",\"zerolinecolor\":\"white\",\"gridwidth\":2}},\"shapedefaults\":{\"line\":{\"color\":\"#2a3f5f\"}},\"annotationdefaults\":{\"arrowcolor\":\"#2a3f5f\",\"arrowhead\":0,\"arrowwidth\":1},\"geo\":{\"bgcolor\":\"white\",\"landcolor\":\"#E5ECF6\",\"subunitcolor\":\"white\",\"showland\":true,\"showlakes\":true,\"lakecolor\":\"white\"},\"title\":{\"x\":0.05},\"mapbox\":{\"style\":\"light\"}}},\"xaxis\":{\"anchor\":\"y\",\"domain\":[0.0,1.0],\"title\":{\"text\":\"Year\"}},\"yaxis\":{\"anchor\":\"x\",\"domain\":[0.0,1.0],\"title\":{\"text\":\"Average\"}},\"legend\":{\"tracegroupgap\":0},\"margin\":{\"t\":60}},                        {\"responsive\": true}                    ).then(function(){\n",
       "                            \n",
       "var gd = document.getElementById('c368ef61-3db0-46e1-bc7f-cf00ef7ee27a');\n",
       "var x = new MutationObserver(function (mutations, observer) {{\n",
       "        var display = window.getComputedStyle(gd).display;\n",
       "        if (!display || display === 'none') {{\n",
       "            console.log([gd, 'removed!']);\n",
       "            Plotly.purge(gd);\n",
       "            observer.disconnect();\n",
       "        }}\n",
       "}});\n",
       "\n",
       "// Listen for the removal of the full notebook cells\n",
       "var notebookContainer = gd.closest('#notebook-container');\n",
       "if (notebookContainer) {{\n",
       "    x.observe(notebookContainer, {childList: true});\n",
       "}}\n",
       "\n",
       "// Listen for the clearing of the current output cell\n",
       "var outputEl = gd.closest('.output');\n",
       "if (outputEl) {{\n",
       "    x.observe(outputEl, {childList: true});\n",
       "}}\n",
       "\n",
       "                        })                };                });            </script>        </div>"
      ]
     },
     "metadata": {},
     "output_type": "display_data"
    }
   ],
   "source": [
    "# MULTIPLE YEARS\n",
    "# COUNTRY\n",
    "\n",
    "def fig_E_top_line_beer(df, country, year1, year2):\n",
    "\n",
    "    dem_dash = dem.T.reset_index().rename(columns={\"index\": \"Year\"})\n",
    "    \n",
    "    mask_gt = ( dem_dash[\"Year\"] >= year1 )\n",
    "    mask_lt = ( dem_dash[\"Year\"] <= year2)\n",
    "    df = dem_dash[[country, \"Year\"]][mask_gt & mask_lt]\n",
    "    return px.line(df, x=\"Year\", y=country, markers=True).update_traces(line_color=px.colors.diverging.Spectral[1])\n",
    "\n",
    "fig_E_top_line_beer(dem, \"Average\", 2013, 2017)"
   ]
  },
  {
   "cell_type": "code",
   "execution_count": 39,
   "id": "8984194c-da21-4a3f-a216-64e5640e9ae5",
   "metadata": {},
   "outputs": [
    {
     "data": {
      "text/html": [
       "<div>\n",
       "<style scoped>\n",
       "    .dataframe tbody tr th:only-of-type {\n",
       "        vertical-align: middle;\n",
       "    }\n",
       "\n",
       "    .dataframe tbody tr th {\n",
       "        vertical-align: top;\n",
       "    }\n",
       "\n",
       "    .dataframe thead th {\n",
       "        text-align: right;\n",
       "    }\n",
       "</style>\n",
       "<table border=\"1\" class=\"dataframe\">\n",
       "  <thead>\n",
       "    <tr style=\"text-align: right;\">\n",
       "      <th>Country</th>\n",
       "      <th>United States</th>\n",
       "      <th>Year</th>\n",
       "    </tr>\n",
       "  </thead>\n",
       "  <tbody>\n",
       "    <tr>\n",
       "      <th>5</th>\n",
       "      <td>0.873046</td>\n",
       "      <td>2013</td>\n",
       "    </tr>\n",
       "    <tr>\n",
       "      <th>6</th>\n",
       "      <td>0.826821</td>\n",
       "      <td>2014</td>\n",
       "    </tr>\n",
       "    <tr>\n",
       "      <th>7</th>\n",
       "      <td>0.893903</td>\n",
       "      <td>2015</td>\n",
       "    </tr>\n",
       "    <tr>\n",
       "      <th>8</th>\n",
       "      <td>0.755765</td>\n",
       "      <td>2016</td>\n",
       "    </tr>\n",
       "    <tr>\n",
       "      <th>9</th>\n",
       "      <td>0.677056</td>\n",
       "      <td>2017</td>\n",
       "    </tr>\n",
       "    <tr>\n",
       "      <th>10</th>\n",
       "      <td>NaN</td>\n",
       "      <td>2018</td>\n",
       "    </tr>\n",
       "  </tbody>\n",
       "</table>\n",
       "</div>"
      ],
      "text/plain": [
       "Country  United States  Year\n",
       "5             0.873046  2013\n",
       "6             0.826821  2014\n",
       "7             0.893903  2015\n",
       "8             0.755765  2016\n",
       "9             0.677056  2017\n",
       "10                 NaN  2018"
      ]
     },
     "execution_count": 39,
     "metadata": {},
     "output_type": "execute_result"
    }
   ],
   "source": [
    "year1 = 2013\n",
    "year2 = 2018\n",
    "country=\"United States\"\n",
    "\n",
    "dem_dash = dem.T.reset_index().rename(columns={\"index\": \"Year\"})\n",
    "\n",
    "mask_gt = ( dem_dash[\"Year\"] >= year1 )\n",
    "mask_lt = ( dem_dash[\"Year\"] <= year2)\n",
    "df = dem_dash[[country, \"Year\"]][mask_gt & mask_lt]\n",
    "df"
   ]
  },
  {
   "cell_type": "code",
   "execution_count": 38,
   "id": "9b4e877b-e6e7-4b2d-8ee0-71ec5bb7b6c4",
   "metadata": {},
   "outputs": [
    {
     "data": {
      "text/html": [
       "<div>\n",
       "<style scoped>\n",
       "    .dataframe tbody tr th:only-of-type {\n",
       "        vertical-align: middle;\n",
       "    }\n",
       "\n",
       "    .dataframe tbody tr th {\n",
       "        vertical-align: top;\n",
       "    }\n",
       "\n",
       "    .dataframe thead th {\n",
       "        text-align: right;\n",
       "    }\n",
       "</style>\n",
       "<table border=\"1\" class=\"dataframe\">\n",
       "  <thead>\n",
       "    <tr style=\"text-align: right;\">\n",
       "      <th></th>\n",
       "      <th>-1</th>\n",
       "    </tr>\n",
       "    <tr>\n",
       "      <th>Country</th>\n",
       "      <th></th>\n",
       "    </tr>\n",
       "  </thead>\n",
       "  <tbody>\n",
       "    <tr>\n",
       "      <th>Afghanistan</th>\n",
       "      <td>0.000000</td>\n",
       "    </tr>\n",
       "    <tr>\n",
       "      <th>Albania</th>\n",
       "      <td>1.503333</td>\n",
       "    </tr>\n",
       "    <tr>\n",
       "      <th>Algeria</th>\n",
       "      <td>0.296667</td>\n",
       "    </tr>\n",
       "    <tr>\n",
       "      <th>Angola</th>\n",
       "      <td>3.838333</td>\n",
       "    </tr>\n",
       "    <tr>\n",
       "      <th>Argentina</th>\n",
       "      <td>3.495000</td>\n",
       "    </tr>\n",
       "    <tr>\n",
       "      <th>...</th>\n",
       "      <td>...</td>\n",
       "    </tr>\n",
       "    <tr>\n",
       "      <th>Uruguay</th>\n",
       "      <td>1.925000</td>\n",
       "    </tr>\n",
       "    <tr>\n",
       "      <th>Uzbekistan</th>\n",
       "      <td>0.198333</td>\n",
       "    </tr>\n",
       "    <tr>\n",
       "      <th>Zambia</th>\n",
       "      <td>1.120000</td>\n",
       "    </tr>\n",
       "    <tr>\n",
       "      <th>Zimbabwe</th>\n",
       "      <td>1.890000</td>\n",
       "    </tr>\n",
       "    <tr>\n",
       "      <th>Average</th>\n",
       "      <td>1.993889</td>\n",
       "    </tr>\n",
       "  </tbody>\n",
       "</table>\n",
       "<p>140 rows × 1 columns</p>\n",
       "</div>"
      ],
      "text/plain": [
       "                   -1\n",
       "Country              \n",
       "Afghanistan  0.000000\n",
       "Albania      1.503333\n",
       "Algeria      0.296667\n",
       "Angola       3.838333\n",
       "Argentina    3.495000\n",
       "...               ...\n",
       "Uruguay      1.925000\n",
       "Uzbekistan   0.198333\n",
       "Zambia       1.120000\n",
       "Zimbabwe     1.890000\n",
       "Average      1.993889\n",
       "\n",
       "[140 rows x 1 columns]"
      ]
     },
     "execution_count": 38,
     "metadata": {},
     "output_type": "execute_result"
    }
   ],
   "source": [
    "wrangle_year_difference(beer, 2013, 2018)"
   ]
  },
  {
   "cell_type": "code",
   "execution_count": 29,
   "id": "26550dde-c584-49c5-8bb4-a1ef68a138e9",
   "metadata": {},
   "outputs": [
    {
     "data": {
      "application/vnd.plotly.v1+json": {
       "config": {
        "plotlyServerURL": "https://plot.ly"
       },
       "data": [
        {
         "marker": {
          "color": [
           70898202,
           66918020,
           66058859,
           60536709,
           56641209,
           56267032,
           52288341,
           48948137,
           48351671,
           48123147.54676259,
           46593236,
           44880758,
           44044811,
           41136546,
           40679828,
           40127085,
           39621162,
           37974826,
           36545075,
           35643418,
           35528115,
           34193122,
           32388600,
           31975806,
           31605486,
           30222262,
           30208628,
           28569441,
           28183426,
           26169542,
           24592588,
           24393181,
           21737922,
           21506813,
           19835858,
           19588715,
           19311355,
           18368577,
           18037776,
           17881167,
           17298054,
           17131296,
           16696944,
           16087418,
           15830689,
           15157793,
           15085884,
           14864221,
           14751101,
           12240789,
           12230339,
           11811443,
           11596779,
           11435533,
           11375158,
           11336405,
           11155593,
           10863543,
           10754679,
           10647244,
           10300300,
           10215381,
           10057698,
           9854033,
           9787966,
           9626842,
           9458989,
           9068296,
           8925525,
           8797566,
           8713300,
           8451840,
           7852795,
           7677565,
           7075947,
           7020858,
           6480532,
           6378261,
           6355404,
           6266654,
           6109252,
           5968383,
           5764980,
           5612253,
           5508214,
           5276968,
           4996741,
           4993842,
           4813600,
           4807388,
           4796631,
           4541854,
           4160015,
           4124904,
           4124531,
           4096063,
           3728004,
           3440027,
           3422200,
           3096030,
           2873457,
           2851923,
           2828403,
           2808376,
           2755189,
           2711755,
           2401840,
           2364534,
           2170617,
           2140215,
           2066388,
           1942248,
           1478607,
           1456834,
           1317384,
           1264887,
           1208523,
           1040233,
           763252,
           761664,
           756121,
           622373,
           596336,
           587559,
           467999,
           374693,
           343400
          ],
          "colorscale": [
           [
            0,
            "rgb(158,1,66)"
           ],
           [
            0.1,
            "rgb(213,62,79)"
           ],
           [
            0.2,
            "rgb(244,109,67)"
           ],
           [
            0.3,
            "rgb(253,174,97)"
           ],
           [
            0.4,
            "rgb(254,224,139)"
           ],
           [
            0.5,
            "rgb(255,255,191)"
           ],
           [
            0.6,
            "rgb(230,245,152)"
           ],
           [
            0.7,
            "rgb(171,221,164)"
           ],
           [
            0.8,
            "rgb(102,194,165)"
           ],
           [
            0.9,
            "rgb(50,136,189)"
           ],
           [
            1,
            "rgb(94,79,162)"
           ]
          ]
         },
         "type": "bar",
         "x": [
          "Thailand",
          "France",
          "United Kingdom",
          "Italy",
          "South Africa",
          "Tanzania",
          "Myanmar",
          "Kenya",
          "Colombia",
          "Average",
          "Spain",
          "Ukraine",
          "Argentina",
          "Algeria",
          "Sudan",
          "Uganda",
          "Iraq",
          "Poland",
          "Canada",
          "Afghanistan",
          "Morocco",
          "Saudi Arabia",
          "Uzbekistan",
          "Malaysia",
          "Peru",
          "Ghana",
          "Angola",
          "Mozambique",
          "Nepal",
          "Madagascar",
          "Australia",
          "Cameroon",
          "Niger",
          "Sri Lanka",
          "Burkina Faso",
          "Romania",
          "Mali",
          "Chile",
          "Kazakhstan",
          "Malawi",
          "Zambia",
          "Netherlands",
          "Ecuador",
          "Guatemala",
          "Cambodia",
          "Senegal",
          "Chad",
          "Somalia",
          "Zimbabwe",
          "Guinea",
          "Rwanda",
          "Tunisia",
          "Benin",
          "Bolivia",
          "Belgium",
          "Cuba",
          "Burundi",
          "Haiti",
          "Greece",
          "Dominican Republic",
          "Portugal",
          "Jordan",
          "Sweden",
          "Azerbaijan",
          "Hungary",
          "Honduras",
          "Belarus",
          "United Arab Emirates",
          "Tajikistan",
          "Austria",
          "Israel",
          "Switzerland",
          "Togo",
          "Sierra Leone",
          "Bulgaria",
          "Serbia",
          "Nicaragua",
          "Libya",
          "Paraguay",
          "El Salvador",
          "Lebanon",
          "Turkmenistan",
          "Denmark",
          "Singapore",
          "Finland",
          "Norway",
          "Central African Republic",
          "Costa Rica",
          "New Zealand",
          "Ireland",
          "Liberia",
          "Oman",
          "Mauritania",
          "Kuwait",
          "Croatia",
          "Panama",
          "Georgia",
          "Bosnia and Herzegovina",
          "Uruguay",
          "Mongolia",
          "Albania",
          "Armenia",
          "Lithuania",
          "Jamaica",
          "Moldova",
          "Qatar",
          "Botswana",
          "Namibia",
          "Lesotho",
          "Gabon",
          "Slovenia",
          "Latvia",
          "Trinidad and Tobago",
          "Bahrain",
          "Estonia",
          "Mauritius",
          "Cyprus",
          "Djibouti",
          "Guyana",
          "Comoros",
          "Bhutan",
          "Montenegro",
          "Luxembourg",
          "Suriname",
          "Malta",
          "Belize",
          "Iceland"
         ],
         "y": [
          70898202,
          66918020,
          66058859,
          60536709,
          56641209,
          56267032,
          52288341,
          48948137,
          48351671,
          48123147.54676259,
          46593236,
          44880758,
          44044811,
          41136546,
          40679828,
          40127085,
          39621162,
          37974826,
          36545075,
          35643418,
          35528115,
          34193122,
          32388600,
          31975806,
          31605486,
          30222262,
          30208628,
          28569441,
          28183426,
          26169542,
          24592588,
          24393181,
          21737922,
          21506813,
          19835858,
          19588715,
          19311355,
          18368577,
          18037776,
          17881167,
          17298054,
          17131296,
          16696944,
          16087418,
          15830689,
          15157793,
          15085884,
          14864221,
          14751101,
          12240789,
          12230339,
          11811443,
          11596779,
          11435533,
          11375158,
          11336405,
          11155593,
          10863543,
          10754679,
          10647244,
          10300300,
          10215381,
          10057698,
          9854033,
          9787966,
          9626842,
          9458989,
          9068296,
          8925525,
          8797566,
          8713300,
          8451840,
          7852795,
          7677565,
          7075947,
          7020858,
          6480532,
          6378261,
          6355404,
          6266654,
          6109252,
          5968383,
          5764980,
          5612253,
          5508214,
          5276968,
          4996741,
          4993842,
          4813600,
          4807388,
          4796631,
          4541854,
          4160015,
          4124904,
          4124531,
          4096063,
          3728004,
          3440027,
          3422200,
          3096030,
          2873457,
          2851923,
          2828403,
          2808376,
          2755189,
          2711755,
          2401840,
          2364534,
          2170617,
          2140215,
          2066388,
          1942248,
          1478607,
          1456834,
          1317384,
          1264887,
          1208523,
          1040233,
          763252,
          761664,
          756121,
          622373,
          596336,
          587559,
          467999,
          374693,
          343400
         ]
        }
       ],
       "layout": {
        "autosize": true,
        "template": {
         "data": {
          "bar": [
           {
            "error_x": {
             "color": "#2a3f5f"
            },
            "error_y": {
             "color": "#2a3f5f"
            },
            "marker": {
             "line": {
              "color": "#E5ECF6",
              "width": 0.5
             },
             "pattern": {
              "fillmode": "overlay",
              "size": 10,
              "solidity": 0.2
             }
            },
            "type": "bar"
           }
          ],
          "barpolar": [
           {
            "marker": {
             "line": {
              "color": "#E5ECF6",
              "width": 0.5
             },
             "pattern": {
              "fillmode": "overlay",
              "size": 10,
              "solidity": 0.2
             }
            },
            "type": "barpolar"
           }
          ],
          "carpet": [
           {
            "aaxis": {
             "endlinecolor": "#2a3f5f",
             "gridcolor": "white",
             "linecolor": "white",
             "minorgridcolor": "white",
             "startlinecolor": "#2a3f5f"
            },
            "baxis": {
             "endlinecolor": "#2a3f5f",
             "gridcolor": "white",
             "linecolor": "white",
             "minorgridcolor": "white",
             "startlinecolor": "#2a3f5f"
            },
            "type": "carpet"
           }
          ],
          "choropleth": [
           {
            "colorbar": {
             "outlinewidth": 0,
             "ticks": ""
            },
            "type": "choropleth"
           }
          ],
          "contour": [
           {
            "colorbar": {
             "outlinewidth": 0,
             "ticks": ""
            },
            "colorscale": [
             [
              0,
              "#0d0887"
             ],
             [
              0.1111111111111111,
              "#46039f"
             ],
             [
              0.2222222222222222,
              "#7201a8"
             ],
             [
              0.3333333333333333,
              "#9c179e"
             ],
             [
              0.4444444444444444,
              "#bd3786"
             ],
             [
              0.5555555555555556,
              "#d8576b"
             ],
             [
              0.6666666666666666,
              "#ed7953"
             ],
             [
              0.7777777777777778,
              "#fb9f3a"
             ],
             [
              0.8888888888888888,
              "#fdca26"
             ],
             [
              1,
              "#f0f921"
             ]
            ],
            "type": "contour"
           }
          ],
          "contourcarpet": [
           {
            "colorbar": {
             "outlinewidth": 0,
             "ticks": ""
            },
            "type": "contourcarpet"
           }
          ],
          "heatmap": [
           {
            "colorbar": {
             "outlinewidth": 0,
             "ticks": ""
            },
            "colorscale": [
             [
              0,
              "#0d0887"
             ],
             [
              0.1111111111111111,
              "#46039f"
             ],
             [
              0.2222222222222222,
              "#7201a8"
             ],
             [
              0.3333333333333333,
              "#9c179e"
             ],
             [
              0.4444444444444444,
              "#bd3786"
             ],
             [
              0.5555555555555556,
              "#d8576b"
             ],
             [
              0.6666666666666666,
              "#ed7953"
             ],
             [
              0.7777777777777778,
              "#fb9f3a"
             ],
             [
              0.8888888888888888,
              "#fdca26"
             ],
             [
              1,
              "#f0f921"
             ]
            ],
            "type": "heatmap"
           }
          ],
          "heatmapgl": [
           {
            "colorbar": {
             "outlinewidth": 0,
             "ticks": ""
            },
            "colorscale": [
             [
              0,
              "#0d0887"
             ],
             [
              0.1111111111111111,
              "#46039f"
             ],
             [
              0.2222222222222222,
              "#7201a8"
             ],
             [
              0.3333333333333333,
              "#9c179e"
             ],
             [
              0.4444444444444444,
              "#bd3786"
             ],
             [
              0.5555555555555556,
              "#d8576b"
             ],
             [
              0.6666666666666666,
              "#ed7953"
             ],
             [
              0.7777777777777778,
              "#fb9f3a"
             ],
             [
              0.8888888888888888,
              "#fdca26"
             ],
             [
              1,
              "#f0f921"
             ]
            ],
            "type": "heatmapgl"
           }
          ],
          "histogram": [
           {
            "marker": {
             "pattern": {
              "fillmode": "overlay",
              "size": 10,
              "solidity": 0.2
             }
            },
            "type": "histogram"
           }
          ],
          "histogram2d": [
           {
            "colorbar": {
             "outlinewidth": 0,
             "ticks": ""
            },
            "colorscale": [
             [
              0,
              "#0d0887"
             ],
             [
              0.1111111111111111,
              "#46039f"
             ],
             [
              0.2222222222222222,
              "#7201a8"
             ],
             [
              0.3333333333333333,
              "#9c179e"
             ],
             [
              0.4444444444444444,
              "#bd3786"
             ],
             [
              0.5555555555555556,
              "#d8576b"
             ],
             [
              0.6666666666666666,
              "#ed7953"
             ],
             [
              0.7777777777777778,
              "#fb9f3a"
             ],
             [
              0.8888888888888888,
              "#fdca26"
             ],
             [
              1,
              "#f0f921"
             ]
            ],
            "type": "histogram2d"
           }
          ],
          "histogram2dcontour": [
           {
            "colorbar": {
             "outlinewidth": 0,
             "ticks": ""
            },
            "colorscale": [
             [
              0,
              "#0d0887"
             ],
             [
              0.1111111111111111,
              "#46039f"
             ],
             [
              0.2222222222222222,
              "#7201a8"
             ],
             [
              0.3333333333333333,
              "#9c179e"
             ],
             [
              0.4444444444444444,
              "#bd3786"
             ],
             [
              0.5555555555555556,
              "#d8576b"
             ],
             [
              0.6666666666666666,
              "#ed7953"
             ],
             [
              0.7777777777777778,
              "#fb9f3a"
             ],
             [
              0.8888888888888888,
              "#fdca26"
             ],
             [
              1,
              "#f0f921"
             ]
            ],
            "type": "histogram2dcontour"
           }
          ],
          "mesh3d": [
           {
            "colorbar": {
             "outlinewidth": 0,
             "ticks": ""
            },
            "type": "mesh3d"
           }
          ],
          "parcoords": [
           {
            "line": {
             "colorbar": {
              "outlinewidth": 0,
              "ticks": ""
             }
            },
            "type": "parcoords"
           }
          ],
          "pie": [
           {
            "automargin": true,
            "type": "pie"
           }
          ],
          "scatter": [
           {
            "fillpattern": {
             "fillmode": "overlay",
             "size": 10,
             "solidity": 0.2
            },
            "type": "scatter"
           }
          ],
          "scatter3d": [
           {
            "line": {
             "colorbar": {
              "outlinewidth": 0,
              "ticks": ""
             }
            },
            "marker": {
             "colorbar": {
              "outlinewidth": 0,
              "ticks": ""
             }
            },
            "type": "scatter3d"
           }
          ],
          "scattercarpet": [
           {
            "marker": {
             "colorbar": {
              "outlinewidth": 0,
              "ticks": ""
             }
            },
            "type": "scattercarpet"
           }
          ],
          "scattergeo": [
           {
            "marker": {
             "colorbar": {
              "outlinewidth": 0,
              "ticks": ""
             }
            },
            "type": "scattergeo"
           }
          ],
          "scattergl": [
           {
            "marker": {
             "colorbar": {
              "outlinewidth": 0,
              "ticks": ""
             }
            },
            "type": "scattergl"
           }
          ],
          "scattermapbox": [
           {
            "marker": {
             "colorbar": {
              "outlinewidth": 0,
              "ticks": ""
             }
            },
            "type": "scattermapbox"
           }
          ],
          "scatterpolar": [
           {
            "marker": {
             "colorbar": {
              "outlinewidth": 0,
              "ticks": ""
             }
            },
            "type": "scatterpolar"
           }
          ],
          "scatterpolargl": [
           {
            "marker": {
             "colorbar": {
              "outlinewidth": 0,
              "ticks": ""
             }
            },
            "type": "scatterpolargl"
           }
          ],
          "scatterternary": [
           {
            "marker": {
             "colorbar": {
              "outlinewidth": 0,
              "ticks": ""
             }
            },
            "type": "scatterternary"
           }
          ],
          "surface": [
           {
            "colorbar": {
             "outlinewidth": 0,
             "ticks": ""
            },
            "colorscale": [
             [
              0,
              "#0d0887"
             ],
             [
              0.1111111111111111,
              "#46039f"
             ],
             [
              0.2222222222222222,
              "#7201a8"
             ],
             [
              0.3333333333333333,
              "#9c179e"
             ],
             [
              0.4444444444444444,
              "#bd3786"
             ],
             [
              0.5555555555555556,
              "#d8576b"
             ],
             [
              0.6666666666666666,
              "#ed7953"
             ],
             [
              0.7777777777777778,
              "#fb9f3a"
             ],
             [
              0.8888888888888888,
              "#fdca26"
             ],
             [
              1,
              "#f0f921"
             ]
            ],
            "type": "surface"
           }
          ],
          "table": [
           {
            "cells": {
             "fill": {
              "color": "#EBF0F8"
             },
             "line": {
              "color": "white"
             }
            },
            "header": {
             "fill": {
              "color": "#C8D4E3"
             },
             "line": {
              "color": "white"
             }
            },
            "type": "table"
           }
          ]
         },
         "layout": {
          "annotationdefaults": {
           "arrowcolor": "#2a3f5f",
           "arrowhead": 0,
           "arrowwidth": 1
          },
          "autotypenumbers": "strict",
          "coloraxis": {
           "colorbar": {
            "outlinewidth": 0,
            "ticks": ""
           }
          },
          "colorscale": {
           "diverging": [
            [
             0,
             "#8e0152"
            ],
            [
             0.1,
             "#c51b7d"
            ],
            [
             0.2,
             "#de77ae"
            ],
            [
             0.3,
             "#f1b6da"
            ],
            [
             0.4,
             "#fde0ef"
            ],
            [
             0.5,
             "#f7f7f7"
            ],
            [
             0.6,
             "#e6f5d0"
            ],
            [
             0.7,
             "#b8e186"
            ],
            [
             0.8,
             "#7fbc41"
            ],
            [
             0.9,
             "#4d9221"
            ],
            [
             1,
             "#276419"
            ]
           ],
           "sequential": [
            [
             0,
             "#0d0887"
            ],
            [
             0.1111111111111111,
             "#46039f"
            ],
            [
             0.2222222222222222,
             "#7201a8"
            ],
            [
             0.3333333333333333,
             "#9c179e"
            ],
            [
             0.4444444444444444,
             "#bd3786"
            ],
            [
             0.5555555555555556,
             "#d8576b"
            ],
            [
             0.6666666666666666,
             "#ed7953"
            ],
            [
             0.7777777777777778,
             "#fb9f3a"
            ],
            [
             0.8888888888888888,
             "#fdca26"
            ],
            [
             1,
             "#f0f921"
            ]
           ],
           "sequentialminus": [
            [
             0,
             "#0d0887"
            ],
            [
             0.1111111111111111,
             "#46039f"
            ],
            [
             0.2222222222222222,
             "#7201a8"
            ],
            [
             0.3333333333333333,
             "#9c179e"
            ],
            [
             0.4444444444444444,
             "#bd3786"
            ],
            [
             0.5555555555555556,
             "#d8576b"
            ],
            [
             0.6666666666666666,
             "#ed7953"
            ],
            [
             0.7777777777777778,
             "#fb9f3a"
            ],
            [
             0.8888888888888888,
             "#fdca26"
            ],
            [
             1,
             "#f0f921"
            ]
           ]
          },
          "colorway": [
           "#636efa",
           "#EF553B",
           "#00cc96",
           "#ab63fa",
           "#FFA15A",
           "#19d3f3",
           "#FF6692",
           "#B6E880",
           "#FF97FF",
           "#FECB52"
          ],
          "font": {
           "color": "#2a3f5f"
          },
          "geo": {
           "bgcolor": "white",
           "lakecolor": "white",
           "landcolor": "#E5ECF6",
           "showlakes": true,
           "showland": true,
           "subunitcolor": "white"
          },
          "hoverlabel": {
           "align": "left"
          },
          "hovermode": "closest",
          "mapbox": {
           "style": "light"
          },
          "paper_bgcolor": "white",
          "plot_bgcolor": "#E5ECF6",
          "polar": {
           "angularaxis": {
            "gridcolor": "white",
            "linecolor": "white",
            "ticks": ""
           },
           "bgcolor": "#E5ECF6",
           "radialaxis": {
            "gridcolor": "white",
            "linecolor": "white",
            "ticks": ""
           }
          },
          "scene": {
           "xaxis": {
            "backgroundcolor": "#E5ECF6",
            "gridcolor": "white",
            "gridwidth": 2,
            "linecolor": "white",
            "showbackground": true,
            "ticks": "",
            "zerolinecolor": "white"
           },
           "yaxis": {
            "backgroundcolor": "#E5ECF6",
            "gridcolor": "white",
            "gridwidth": 2,
            "linecolor": "white",
            "showbackground": true,
            "ticks": "",
            "zerolinecolor": "white"
           },
           "zaxis": {
            "backgroundcolor": "#E5ECF6",
            "gridcolor": "white",
            "gridwidth": 2,
            "linecolor": "white",
            "showbackground": true,
            "ticks": "",
            "zerolinecolor": "white"
           }
          },
          "shapedefaults": {
           "line": {
            "color": "#2a3f5f"
           }
          },
          "ternary": {
           "aaxis": {
            "gridcolor": "white",
            "linecolor": "white",
            "ticks": ""
           },
           "baxis": {
            "gridcolor": "white",
            "linecolor": "white",
            "ticks": ""
           },
           "bgcolor": "#E5ECF6",
           "caxis": {
            "gridcolor": "white",
            "linecolor": "white",
            "ticks": ""
           }
          },
          "title": {
           "x": 0.05
          },
          "xaxis": {
           "automargin": true,
           "gridcolor": "white",
           "linecolor": "white",
           "ticks": "",
           "title": {
            "standoff": 15
           },
           "zerolinecolor": "white",
           "zerolinewidth": 2
          },
          "yaxis": {
           "automargin": true,
           "gridcolor": "white",
           "linecolor": "white",
           "ticks": "",
           "title": {
            "standoff": 15
           },
           "zerolinecolor": "white",
           "zerolinewidth": 2
          }
         }
        },
        "title": {
         "text": "Population by Country, outliers [China and India] removed"
        },
        "xaxis": {
         "autorange": true,
         "range": [
          -0.5,
          126.5
         ],
         "title": {
          "text": "Country"
         },
         "type": "category"
        },
        "yaxis": {
         "autorange": true,
         "range": [
          0,
          74629686.31578948
         ],
         "title": {
          "text": "Population"
         },
         "type": "linear"
        }
       }
      },
      "image/png": "[encoded data removed]",
      "text/html": [
       "<div>                            <div id=\"189f2f6d-86ef-4a6b-9b53-571725f72248\" class=\"plotly-graph-div\" style=\"height:525px; width:100%;\"></div>            <script type=\"text/javascript\">                require([\"plotly\"], function(Plotly) {                    window.PLOTLYENV=window.PLOTLYENV || {};                                    if (document.getElementById(\"189f2f6d-86ef-4a6b-9b53-571725f72248\")) {                    Plotly.newPlot(                        \"189f2f6d-86ef-4a6b-9b53-571725f72248\",                        [{\"marker\":{\"color\":[70898202.0,66918020.0,66058859.0,60536709.0,56641209.0,56267032.0,52288341.0,48948137.0,48351671.0,48123147.54676259,46593236.0,44880758.0,44044811.0,41136546.0,40679828.0,40127085.0,39621162.0,37974826.0,36545075.0,35643418.0,35528115.0,34193122.0,32388600.0,31975806.0,31605486.0,30222262.0,30208628.0,28569441.0,28183426.0,26169542.0,24592588.0,24393181.0,21737922.0,21506813.0,19835858.0,19588715.0,19311355.0,18368577.0,18037776.0,17881167.0,17298054.0,17131296.0,16696944.0,16087418.0,15830689.0,15157793.0,15085884.0,14864221.0,14751101.0,12240789.0,12230339.0,11811443.0,11596779.0,11435533.0,11375158.0,11336405.0,11155593.0,10863543.0,10754679.0,10647244.0,10300300.0,10215381.0,10057698.0,9854033.0,9787966.0,9626842.0,9458989.0,9068296.0,8925525.0,8797566.0,8713300.0,8451840.0,7852795.0,7677565.0,7075947.0,7020858.0,6480532.0,6378261.0,6355404.0,6266654.0,6109252.0,5968383.0,5764980.0,5612253.0,5508214.0,5276968.0,4996741.0,4993842.0,4813600.0,4807388.0,4796631.0,4541854.0,4160015.0,4124904.0,4124531.0,4096063.0,3728004.0,3440027.0,3422200.0,3096030.0,2873457.0,2851923.0,2828403.0,2808376.0,2755189.0,2711755.0,2401840.0,2364534.0,2170617.0,2140215.0,2066388.0,1942248.0,1478607.0,1456834.0,1317384.0,1264887.0,1208523.0,1040233.0,763252.0,761664.0,756121.0,622373.0,596336.0,587559.0,467999.0,374693.0,343400.0],\"colorscale\":[[0.0,\"rgb(158,1,66)\"],[0.1,\"rgb(213,62,79)\"],[0.2,\"rgb(244,109,67)\"],[0.3,\"rgb(253,174,97)\"],[0.4,\"rgb(254,224,139)\"],[0.5,\"rgb(255,255,191)\"],[0.6,\"rgb(230,245,152)\"],[0.7,\"rgb(171,221,164)\"],[0.8,\"rgb(102,194,165)\"],[0.9,\"rgb(50,136,189)\"],[1.0,\"rgb(94,79,162)\"]]},\"x\":[\"Thailand\",\"France\",\"United Kingdom\",\"Italy\",\"South Africa\",\"Tanzania\",\"Myanmar\",\"Kenya\",\"Colombia\",\"Average\",\"Spain\",\"Ukraine\",\"Argentina\",\"Algeria\",\"Sudan\",\"Uganda\",\"Iraq\",\"Poland\",\"Canada\",\"Afghanistan\",\"Morocco\",\"Saudi Arabia\",\"Uzbekistan\",\"Malaysia\",\"Peru\",\"Ghana\",\"Angola\",\"Mozambique\",\"Nepal\",\"Madagascar\",\"Australia\",\"Cameroon\",\"Niger\",\"Sri Lanka\",\"Burkina Faso\",\"Romania\",\"Mali\",\"Chile\",\"Kazakhstan\",\"Malawi\",\"Zambia\",\"Netherlands\",\"Ecuador\",\"Guatemala\",\"Cambodia\",\"Senegal\",\"Chad\",\"Somalia\",\"Zimbabwe\",\"Guinea\",\"Rwanda\",\"Tunisia\",\"Benin\",\"Bolivia\",\"Belgium\",\"Cuba\",\"Burundi\",\"Haiti\",\"Greece\",\"Dominican Republic\",\"Portugal\",\"Jordan\",\"Sweden\",\"Azerbaijan\",\"Hungary\",\"Honduras\",\"Belarus\",\"United Arab Emirates\",\"Tajikistan\",\"Austria\",\"Israel\",\"Switzerland\",\"Togo\",\"Sierra Leone\",\"Bulgaria\",\"Serbia\",\"Nicaragua\",\"Libya\",\"Paraguay\",\"El Salvador\",\"Lebanon\",\"Turkmenistan\",\"Denmark\",\"Singapore\",\"Finland\",\"Norway\",\"Central African Republic\",\"Costa Rica\",\"New Zealand\",\"Ireland\",\"Liberia\",\"Oman\",\"Mauritania\",\"Kuwait\",\"Croatia\",\"Panama\",\"Georgia\",\"Bosnia and Herzegovina\",\"Uruguay\",\"Mongolia\",\"Albania\",\"Armenia\",\"Lithuania\",\"Jamaica\",\"Moldova\",\"Qatar\",\"Botswana\",\"Namibia\",\"Lesotho\",\"Gabon\",\"Slovenia\",\"Latvia\",\"Trinidad and Tobago\",\"Bahrain\",\"Estonia\",\"Mauritius\",\"Cyprus\",\"Djibouti\",\"Guyana\",\"Comoros\",\"Bhutan\",\"Montenegro\",\"Luxembourg\",\"Suriname\",\"Malta\",\"Belize\",\"Iceland\"],\"y\":[70898202.0,66918020.0,66058859.0,60536709.0,56641209.0,56267032.0,52288341.0,48948137.0,48351671.0,48123147.54676259,46593236.0,44880758.0,44044811.0,41136546.0,40679828.0,40127085.0,39621162.0,37974826.0,36545075.0,35643418.0,35528115.0,34193122.0,32388600.0,31975806.0,31605486.0,30222262.0,30208628.0,28569441.0,28183426.0,26169542.0,24592588.0,24393181.0,21737922.0,21506813.0,19835858.0,19588715.0,19311355.0,18368577.0,18037776.0,17881167.0,17298054.0,17131296.0,16696944.0,16087418.0,15830689.0,15157793.0,15085884.0,14864221.0,14751101.0,12240789.0,12230339.0,11811443.0,11596779.0,11435533.0,11375158.0,11336405.0,11155593.0,10863543.0,10754679.0,10647244.0,10300300.0,10215381.0,10057698.0,9854033.0,9787966.0,9626842.0,9458989.0,9068296.0,8925525.0,8797566.0,8713300.0,8451840.0,7852795.0,7677565.0,7075947.0,7020858.0,6480532.0,6378261.0,6355404.0,6266654.0,6109252.0,5968383.0,5764980.0,5612253.0,5508214.0,5276968.0,4996741.0,4993842.0,4813600.0,4807388.0,4796631.0,4541854.0,4160015.0,4124904.0,4124531.0,4096063.0,3728004.0,3440027.0,3422200.0,3096030.0,2873457.0,2851923.0,2828403.0,2808376.0,2755189.0,2711755.0,2401840.0,2364534.0,2170617.0,2140215.0,2066388.0,1942248.0,1478607.0,1456834.0,1317384.0,1264887.0,1208523.0,1040233.0,763252.0,761664.0,756121.0,622373.0,596336.0,587559.0,467999.0,374693.0,343400.0],\"type\":\"bar\"}],                        {\"template\":{\"data\":{\"histogram2dcontour\":[{\"type\":\"histogram2dcontour\",\"colorbar\":{\"outlinewidth\":0,\"ticks\":\"\"},\"colorscale\":[[0.0,\"#0d0887\"],[0.1111111111111111,\"#46039f\"],[0.2222222222222222,\"#7201a8\"],[0.3333333333333333,\"#9c179e\"],[0.4444444444444444,\"#bd3786\"],[0.5555555555555556,\"#d8576b\"],[0.6666666666666666,\"#ed7953\"],[0.7777777777777778,\"#fb9f3a\"],[0.8888888888888888,\"#fdca26\"],[1.0,\"#f0f921\"]]}],\"choropleth\":[{\"type\":\"choropleth\",\"colorbar\":{\"outlinewidth\":0,\"ticks\":\"\"}}],\"histogram2d\":[{\"type\":\"histogram2d\",\"colorbar\":{\"outlinewidth\":0,\"ticks\":\"\"},\"colorscale\":[[0.0,\"#0d0887\"],[0.1111111111111111,\"#46039f\"],[0.2222222222222222,\"#7201a8\"],[0.3333333333333333,\"#9c179e\"],[0.4444444444444444,\"#bd3786\"],[0.5555555555555556,\"#d8576b\"],[0.6666666666666666,\"#ed7953\"],[0.7777777777777778,\"#fb9f3a\"],[0.8888888888888888,\"#fdca26\"],[1.0,\"#f0f921\"]]}],\"heatmap\":[{\"type\":\"heatmap\",\"colorbar\":{\"outlinewidth\":0,\"ticks\":\"\"},\"colorscale\":[[0.0,\"#0d0887\"],[0.1111111111111111,\"#46039f\"],[0.2222222222222222,\"#7201a8\"],[0.3333333333333333,\"#9c179e\"],[0.4444444444444444,\"#bd3786\"],[0.5555555555555556,\"#d8576b\"],[0.6666666666666666,\"#ed7953\"],[0.7777777777777778,\"#fb9f3a\"],[0.8888888888888888,\"#fdca26\"],[1.0,\"#f0f921\"]]}],\"heatmapgl\":[{\"type\":\"heatmapgl\",\"colorbar\":{\"outlinewidth\":0,\"ticks\":\"\"},\"colorscale\":[[0.0,\"#0d0887\"],[0.1111111111111111,\"#46039f\"],[0.2222222222222222,\"#7201a8\"],[0.3333333333333333,\"#9c179e\"],[0.4444444444444444,\"#bd3786\"],[0.5555555555555556,\"#d8576b\"],[0.6666666666666666,\"#ed7953\"],[0.7777777777777778,\"#fb9f3a\"],[0.8888888888888888,\"#fdca26\"],[1.0,\"#f0f921\"]]}],\"contourcarpet\":[{\"type\":\"contourcarpet\",\"colorbar\":{\"outlinewidth\":0,\"ticks\":\"\"}}],\"contour\":[{\"type\":\"contour\",\"colorbar\":{\"outlinewidth\":0,\"ticks\":\"\"},\"colorscale\":[[0.0,\"#0d0887\"],[0.1111111111111111,\"#46039f\"],[0.2222222222222222,\"#7201a8\"],[0.3333333333333333,\"#9c179e\"],[0.4444444444444444,\"#bd3786\"],[0.5555555555555556,\"#d8576b\"],[0.6666666666666666,\"#ed7953\"],[0.7777777777777778,\"#fb9f3a\"],[0.8888888888888888,\"#fdca26\"],[1.0,\"#f0f921\"]]}],\"surface\":[{\"type\":\"surface\",\"colorbar\":{\"outlinewidth\":0,\"ticks\":\"\"},\"colorscale\":[[0.0,\"#0d0887\"],[0.1111111111111111,\"#46039f\"],[0.2222222222222222,\"#7201a8\"],[0.3333333333333333,\"#9c179e\"],[0.4444444444444444,\"#bd3786\"],[0.5555555555555556,\"#d8576b\"],[0.6666666666666666,\"#ed7953\"],[0.7777777777777778,\"#fb9f3a\"],[0.8888888888888888,\"#fdca26\"],[1.0,\"#f0f921\"]]}],\"mesh3d\":[{\"type\":\"mesh3d\",\"colorbar\":{\"outlinewidth\":0,\"ticks\":\"\"}}],\"scatter\":[{\"fillpattern\":{\"fillmode\":\"overlay\",\"size\":10,\"solidity\":0.2},\"type\":\"scatter\"}],\"parcoords\":[{\"type\":\"parcoords\",\"line\":{\"colorbar\":{\"outlinewidth\":0,\"ticks\":\"\"}}}],\"scatterpolargl\":[{\"type\":\"scatterpolargl\",\"marker\":{\"colorbar\":{\"outlinewidth\":0,\"ticks\":\"\"}}}],\"bar\":[{\"error_x\":{\"color\":\"#2a3f5f\"},\"error_y\":{\"color\":\"#2a3f5f\"},\"marker\":{\"line\":{\"color\":\"#E5ECF6\",\"width\":0.5},\"pattern\":{\"fillmode\":\"overlay\",\"size\":10,\"solidity\":0.2}},\"type\":\"bar\"}],\"scattergeo\":[{\"type\":\"scattergeo\",\"marker\":{\"colorbar\":{\"outlinewidth\":0,\"ticks\":\"\"}}}],\"scatterpolar\":[{\"type\":\"scatterpolar\",\"marker\":{\"colorbar\":{\"outlinewidth\":0,\"ticks\":\"\"}}}],\"histogram\":[{\"marker\":{\"pattern\":{\"fillmode\":\"overlay\",\"size\":10,\"solidity\":0.2}},\"type\":\"histogram\"}],\"scattergl\":[{\"type\":\"scattergl\",\"marker\":{\"colorbar\":{\"outlinewidth\":0,\"ticks\":\"\"}}}],\"scatter3d\":[{\"type\":\"scatter3d\",\"line\":{\"colorbar\":{\"outlinewidth\":0,\"ticks\":\"\"}},\"marker\":{\"colorbar\":{\"outlinewidth\":0,\"ticks\":\"\"}}}],\"scattermapbox\":[{\"type\":\"scattermapbox\",\"marker\":{\"colorbar\":{\"outlinewidth\":0,\"ticks\":\"\"}}}],\"scatterternary\":[{\"type\":\"scatterternary\",\"marker\":{\"colorbar\":{\"outlinewidth\":0,\"ticks\":\"\"}}}],\"scattercarpet\":[{\"type\":\"scattercarpet\",\"marker\":{\"colorbar\":{\"outlinewidth\":0,\"ticks\":\"\"}}}],\"carpet\":[{\"aaxis\":{\"endlinecolor\":\"#2a3f5f\",\"gridcolor\":\"white\",\"linecolor\":\"white\",\"minorgridcolor\":\"white\",\"startlinecolor\":\"#2a3f5f\"},\"baxis\":{\"endlinecolor\":\"#2a3f5f\",\"gridcolor\":\"white\",\"linecolor\":\"white\",\"minorgridcolor\":\"white\",\"startlinecolor\":\"#2a3f5f\"},\"type\":\"carpet\"}],\"table\":[{\"cells\":{\"fill\":{\"color\":\"#EBF0F8\"},\"line\":{\"color\":\"white\"}},\"header\":{\"fill\":{\"color\":\"#C8D4E3\"},\"line\":{\"color\":\"white\"}},\"type\":\"table\"}],\"barpolar\":[{\"marker\":{\"line\":{\"color\":\"#E5ECF6\",\"width\":0.5},\"pattern\":{\"fillmode\":\"overlay\",\"size\":10,\"solidity\":0.2}},\"type\":\"barpolar\"}],\"pie\":[{\"automargin\":true,\"type\":\"pie\"}]},\"layout\":{\"autotypenumbers\":\"strict\",\"colorway\":[\"#636efa\",\"#EF553B\",\"#00cc96\",\"#ab63fa\",\"#FFA15A\",\"#19d3f3\",\"#FF6692\",\"#B6E880\",\"#FF97FF\",\"#FECB52\"],\"font\":{\"color\":\"#2a3f5f\"},\"hovermode\":\"closest\",\"hoverlabel\":{\"align\":\"left\"},\"paper_bgcolor\":\"white\",\"plot_bgcolor\":\"#E5ECF6\",\"polar\":{\"bgcolor\":\"#E5ECF6\",\"angularaxis\":{\"gridcolor\":\"white\",\"linecolor\":\"white\",\"ticks\":\"\"},\"radialaxis\":{\"gridcolor\":\"white\",\"linecolor\":\"white\",\"ticks\":\"\"}},\"ternary\":{\"bgcolor\":\"#E5ECF6\",\"aaxis\":{\"gridcolor\":\"white\",\"linecolor\":\"white\",\"ticks\":\"\"},\"baxis\":{\"gridcolor\":\"white\",\"linecolor\":\"white\",\"ticks\":\"\"},\"caxis\":{\"gridcolor\":\"white\",\"linecolor\":\"white\",\"ticks\":\"\"}},\"coloraxis\":{\"colorbar\":{\"outlinewidth\":0,\"ticks\":\"\"}},\"colorscale\":{\"sequential\":[[0.0,\"#0d0887\"],[0.1111111111111111,\"#46039f\"],[0.2222222222222222,\"#7201a8\"],[0.3333333333333333,\"#9c179e\"],[0.4444444444444444,\"#bd3786\"],[0.5555555555555556,\"#d8576b\"],[0.6666666666666666,\"#ed7953\"],[0.7777777777777778,\"#fb9f3a\"],[0.8888888888888888,\"#fdca26\"],[1.0,\"#f0f921\"]],\"sequentialminus\":[[0.0,\"#0d0887\"],[0.1111111111111111,\"#46039f\"],[0.2222222222222222,\"#7201a8\"],[0.3333333333333333,\"#9c179e\"],[0.4444444444444444,\"#bd3786\"],[0.5555555555555556,\"#d8576b\"],[0.6666666666666666,\"#ed7953\"],[0.7777777777777778,\"#fb9f3a\"],[0.8888888888888888,\"#fdca26\"],[1.0,\"#f0f921\"]],\"diverging\":[[0,\"#8e0152\"],[0.1,\"#c51b7d\"],[0.2,\"#de77ae\"],[0.3,\"#f1b6da\"],[0.4,\"#fde0ef\"],[0.5,\"#f7f7f7\"],[0.6,\"#e6f5d0\"],[0.7,\"#b8e186\"],[0.8,\"#7fbc41\"],[0.9,\"#4d9221\"],[1,\"#276419\"]]},\"xaxis\":{\"gridcolor\":\"white\",\"linecolor\":\"white\",\"ticks\":\"\",\"title\":{\"standoff\":15},\"zerolinecolor\":\"white\",\"automargin\":true,\"zerolinewidth\":2},\"yaxis\":{\"gridcolor\":\"white\",\"linecolor\":\"white\",\"ticks\":\"\",\"title\":{\"standoff\":15},\"zerolinecolor\":\"white\",\"automargin\":true,\"zerolinewidth\":2},\"scene\":{\"xaxis\":{\"backgroundcolor\":\"#E5ECF6\",\"gridcolor\":\"white\",\"linecolor\":\"white\",\"showbackground\":true,\"ticks\":\"\",\"zerolinecolor\":\"white\",\"gridwidth\":2},\"yaxis\":{\"backgroundcolor\":\"#E5ECF6\",\"gridcolor\":\"white\",\"linecolor\":\"white\",\"showbackground\":true,\"ticks\":\"\",\"zerolinecolor\":\"white\",\"gridwidth\":2},\"zaxis\":{\"backgroundcolor\":\"#E5ECF6\",\"gridcolor\":\"white\",\"linecolor\":\"white\",\"showbackground\":true,\"ticks\":\"\",\"zerolinecolor\":\"white\",\"gridwidth\":2}},\"shapedefaults\":{\"line\":{\"color\":\"#2a3f5f\"}},\"annotationdefaults\":{\"arrowcolor\":\"#2a3f5f\",\"arrowhead\":0,\"arrowwidth\":1},\"geo\":{\"bgcolor\":\"white\",\"landcolor\":\"#E5ECF6\",\"subunitcolor\":\"white\",\"showland\":true,\"showlakes\":true,\"lakecolor\":\"white\"},\"title\":{\"x\":0.05},\"mapbox\":{\"style\":\"light\"}}},\"title\":{\"text\":\"Population by Country, outliers [China and India] removed\"},\"xaxis\":{\"title\":{\"text\":\"Country\"}},\"yaxis\":{\"title\":{\"text\":\"Population\"}}},                        {\"responsive\": true}                    ).then(function(){\n",
       "                            \n",
       "var gd = document.getElementById('189f2f6d-86ef-4a6b-9b53-571725f72248');\n",
       "var x = new MutationObserver(function (mutations, observer) {{\n",
       "        var display = window.getComputedStyle(gd).display;\n",
       "        if (!display || display === 'none') {{\n",
       "            console.log([gd, 'removed!']);\n",
       "            Plotly.purge(gd);\n",
       "            observer.disconnect();\n",
       "        }}\n",
       "}});\n",
       "\n",
       "// Listen for the removal of the full notebook cells\n",
       "var notebookContainer = gd.closest('#notebook-container');\n",
       "if (notebookContainer) {{\n",
       "    x.observe(notebookContainer, {childList: true});\n",
       "}}\n",
       "\n",
       "// Listen for the clearing of the current output cell\n",
       "var outputEl = gd.closest('.output');\n",
       "if (outputEl) {{\n",
       "    x.observe(outputEl, {childList: true});\n",
       "}}\n",
       "\n",
       "                        })                };                });            </script>        </div>"
      ]
     },
     "metadata": {},
     "output_type": "display_data"
    }
   ],
   "source": [
    "def IQR(series):\n",
    "    x = series\n",
    "    mask = ((x >= x.quantile(0.25) - 1.5*(x.quantile(0.75)-x.quantile(0.25))) & (x <= x.quantile(0.75) + 1.5*(x.quantile(0.75)-x.quantile(0.25))))\n",
    "    return mask\n",
    "\n",
    "# static\n",
    "\n",
    "def fig_F_popbar():\n",
    "\n",
    "    pop_dash = pop.T.reset_index().rename(columns={\"index\": \"Year\"})\n",
    "    mask = ( pop_dash[\"Year\"]==2017 )\n",
    "    pop_dash = pop_dash[mask].drop([\"Year\"], axis=1).T.rename(columns={9:\"pop\"}).sort_values(by=[\"pop\"], ascending=False)    \n",
    "\n",
    "    mask = IQR(pop_dash[\"pop\"])\n",
    "\n",
    "    return go.Figure(go.Bar(y=pop_dash[mask][\"pop\"], x=pop_dash[mask].index, marker={\"color\": pop_dash[mask][\"pop\"], \"colorscale\": \"Spectral\"})).update_layout({\n",
    "        \"title\": \"Population by Country, outliers [China and India] removed\",\n",
    "        \"xaxis\": {\"title\": \"Country\"},\n",
    "        \"yaxis\": {\"title\": \"Population\"},\n",
    "    })\n",
    "\n",
    "fig_F_popbar()"
   ]
  }
 ],
 "metadata": {
  "kernelspec": {
   "display_name": "Python 3 (ipykernel)",
   "language": "python",
   "name": "python3"
  },
  "language_info": {
   "codemirror_mode": {
    "name": "ipython",
    "version": 3
   },
   "file_extension": ".py",
   "mimetype": "text/x-python",
   "name": "python",
   "nbconvert_exporter": "python",
   "pygments_lexer": "ipython3",
   "version": "3.12.6"
  }
 },
 "nbformat": 4,
 "nbformat_minor": 5
}
