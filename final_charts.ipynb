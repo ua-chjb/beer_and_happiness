{
 "cells": [
  {
   "cell_type": "code",
   "execution_count": 1,
   "id": "ded2777a-a3b2-48b8-8043-12bc2675062c",
   "metadata": {},
   "outputs": [],
   "source": [
    "import pandas as pd\n",
    "import numpy as np"
   ]
  },
  {
   "cell_type": "code",
   "execution_count": null,
   "id": "7428eb6e-3b72-4548-aa1e-3c2731e5e2a3",
   "metadata": {},
   "outputs": [],
   "source": [
    "beer_repo = r\"C:/Users/benno/OneDrive/Python/Dash/Deployment_ready/happiness_by_beer/assets/data/beer_sum.csv\"\n",
    "\n",
    "dem_repo = r\"C:/Users/benno/OneDrive/Python/Dash/Deployment_ready/happiness_by_beer/assets/data/dem_sum.csv\"\n",
    "\n",
    "pop_repo = r\"C:/Users/benno/OneDrive/Python/Dash/Deployment_ready/happiness_by_beer/assets/data/pop_sum.csv\"\n",
    "\n"
   ]
  }
 ],
 "metadata": {
  "kernelspec": {
   "display_name": "Python 3 (ipykernel)",
   "language": "python",
   "name": "python3"
  },
  "language_info": {
   "codemirror_mode": {
    "name": "ipython",
    "version": 3
   },
   "file_extension": ".py",
   "mimetype": "text/x-python",
   "name": "python",
   "nbconvert_exporter": "python",
   "pygments_lexer": "ipython3",
   "version": "3.12.6"
  }
 },
 "nbformat": 4,
 "nbformat_minor": 5
}
